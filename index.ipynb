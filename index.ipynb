{
  "cells": [
    {
      "cell_type": "markdown",
      "metadata": {
        "id": "view-in-github",
        "colab_type": "text"
      },
      "source": [
        "<a href=\"https://colab.research.google.com/github/MutwiriC/MutwiriC/blob/main/index.ipynb\" target=\"_parent\"><img src=\"https://colab.research.google.com/assets/colab-badge.svg\" alt=\"Open In Colab\"/></a>"
      ]
    },
    {
      "cell_type": "markdown",
      "metadata": {
        "id": "L4XcGDbsbL3y"
      },
      "source": [
        "# Python Loops and Functions - Cumulative Lab\n",
        "\n",
        "## Introduction\n",
        "\n",
        "You made it through another section — excellent work! This cumulative lab will return to the Amazon product review dataset and allow you to flex your new skills.\n",
        "\n",
        "## Objectives\n",
        "\n",
        "You will be able to:\n",
        "\n",
        " - Recall what you learned in the previous section\n",
        " - Practice writing loops to pull multiple pieces of data from a dataset\n",
        " - Practice writing functions for organization and avoiding repetition\n",
        "\n",
        "## Your Task: Dynamically Query Amazon Review Data\n",
        "\n",
        "Once again, we are going to be working with data collected by Computer Science researchers at the University of California, San Diego. Their full paper citation is here:\n",
        "> **Justifying recommendations using distantly-labeled reviews and fined-grained aspects**\n",
        "Jianmo Ni, Jiacheng Li, Julian McAuley\n",
        "Empirical Methods in Natural Language Processing (EMNLP), 2019\n",
        "[pdf](http://cseweb.ucsd.edu/~jmcauley/pdfs/emnlp19a.pdf)\n",
        "\n",
        "We are still using a cleaned-up, coffee-specific, sample version of their [full dataset](https://nijianmo.github.io/amazon/index.html).\n",
        "\n",
        "![pouring coffee](https://curriculum-content.s3.amazonaws.com/data-science/images/coffee.jpg)\n",
        "<span>Photo by <a href=\"https://unsplash.com/@dumdidu?utm_source=unsplash&amp;utm_medium=referral&amp;utm_content=creditCopyText\">Philipp Cordts</a> on <a href=\"https://unsplash.com/s/photos/coffee-pot?utm_source=unsplash&amp;utm_medium=referral&amp;utm_content=creditCopyText\">Unsplash</a></span>\n",
        "\n",
        "In some cases, we will write the function signature for you, e.g.\n",
        "\n",
        "```python\n",
        "def review_sentiment(review):\n",
        "    # Replace None with appropriate code\n",
        "    None\n",
        "```\n",
        "\n",
        "Then you just need to fill in the relevant logic.\n",
        "\n",
        "In other cases, you will need to write the function signature yourself, e.g.\n",
        "\n",
        "```python\n",
        "# Your code here\n",
        "```\n",
        "\n",
        "### Requirements\n",
        "\n",
        "#### 1. Data Summary\n",
        "While reusing some code from the previous cumulative lab, write code to loop over all of the records in the dataset to summarize its contents, specifically in terms of overall review sentiment and the years when the reviews were written.\n",
        "\n",
        "#### 2. Subset Sample\n",
        "Provide a sample of records that meet particular criteria.\n",
        "\n",
        "#### 3. Individual Review Summary\n",
        "Refactor the code from the previous cumulative lab so that it is contained in a function and prompts the user to select which review to summarize.\n",
        "\n",
        "## Data Summary\n",
        "\n",
        "Once again, we've opened up the dataset and loaded it into a list of dictionaries called `reviews`."
      ]
    },
    {
      "cell_type": "code",
      "execution_count": 300,
      "metadata": {
        "id": "2sq-SjQmbL30",
        "colab": {
          "base_uri": "https://localhost:8080/"
        },
        "outputId": "55b050d0-cc38-4f06-b5bd-206c3c5b1ed6"
      },
      "outputs": [
        {
          "output_type": "execute_result",
          "data": {
            "text/plain": [
              "list"
            ]
          },
          "metadata": {},
          "execution_count": 300
        }
      ],
      "source": [
        "# Run this cell without changes\n",
        "import json\n",
        "with open(\"/content/coffee_product_reviews (1).json\") as f:\n",
        "    reviews = json.load(f)\n",
        "type(reviews)"
      ]
    },
    {
      "cell_type": "markdown",
      "metadata": {
        "id": "QGSDw9RibL31"
      },
      "source": [
        "Previously, we found the length of the collection, and looked into the data types of each record's keys and values"
      ]
    },
    {
      "cell_type": "code",
      "execution_count": 301,
      "metadata": {
        "id": "RLNVkwPjbL31",
        "colab": {
          "base_uri": "https://localhost:8080/"
        },
        "outputId": "23dae3ff-8f3d-4010-fb77-6a4bd50de811"
      },
      "outputs": [
        {
          "output_type": "stream",
          "name": "stdout",
          "text": [
            "The coffee product review dataset contains 86 reviews\n"
          ]
        },
        {
          "output_type": "execute_result",
          "data": {
            "text/plain": [
              "{'rating': 5.0,\n",
              " 'reviewer_name': 'Sns073194',\n",
              " 'product_id': 'B00004RFRV',\n",
              " 'review_title': 'Perfect cafsito every time',\n",
              " 'review_time': '03 11, 2018',\n",
              " 'images': ['https://images-na.ssl-images-amazon.com/images/I/71d2cQEgJsL._SY88.jpg'],\n",
              " 'styles': {'Size:': ' 6-Cup', 'Color:': ' Silver'}}"
            ]
          },
          "metadata": {},
          "execution_count": 301
        }
      ],
      "source": [
        "# Run this cell without changes\n",
        "num_reviews = len(reviews)\n",
        "print(\"The coffee product review dataset contains {} reviews\".format(num_reviews))\n",
        "\n",
        "first_review = reviews[0]\n",
        "first_review"
      ]
    },
    {
      "cell_type": "code",
      "execution_count": 302,
      "metadata": {
        "id": "bvDSfjOobL31",
        "colab": {
          "base_uri": "https://localhost:8080/"
        },
        "outputId": "3700502c-6f64-4c09-9383-9c1d9a7732f2"
      },
      "outputs": [
        {
          "output_type": "execute_result",
          "data": {
            "text/plain": [
              "dict_keys(['rating', 'reviewer_name', 'product_id', 'review_title', 'review_time', 'images', 'styles'])"
            ]
          },
          "metadata": {},
          "execution_count": 302
        }
      ],
      "source": [
        "# Run this cell without changes\n",
        "first_review.keys()"
      ]
    },
    {
      "cell_type": "code",
      "execution_count": 303,
      "metadata": {
        "id": "3DZ6rQ2rbL31",
        "colab": {
          "base_uri": "https://localhost:8080/"
        },
        "outputId": "c0ec5d44-70eb-4155-dcd8-bd0dd538033e"
      },
      "outputs": [
        {
          "output_type": "execute_result",
          "data": {
            "text/plain": [
              "dict_values([5.0, 'Sns073194', 'B00004RFRV', 'Perfect cafsito every time', '03 11, 2018', ['https://images-na.ssl-images-amazon.com/images/I/71d2cQEgJsL._SY88.jpg'], {'Size:': ' 6-Cup', 'Color:': ' Silver'}])"
            ]
          },
          "metadata": {},
          "execution_count": 303
        }
      ],
      "source": [
        "# Run this cell without changes\n",
        "first_review.values()"
      ]
    },
    {
      "cell_type": "markdown",
      "metadata": {
        "id": "GWjE6KdmbL31"
      },
      "source": [
        "This time, let's do something a bit more sophisticated. Specifically:\n",
        "\n",
        "1. Count of positive, negative, and neutral reviews\n",
        "2. List of years contained in the dataset\n",
        "\n",
        "### Count of Positive, Negative, and Neutral Reviews\n",
        "\n",
        "Previously, we wrote something like this code to determine whether a specific review was positive, negative, or neutral:"
      ]
    },
    {
      "cell_type": "code",
      "source": [
        "reviews[2]\n"
      ],
      "metadata": {
        "colab": {
          "base_uri": "https://localhost:8080/"
        },
        "id": "6YykknJYaLOT",
        "outputId": "e5e4bbee-997b-4f71-e367-c20b7695be60"
      },
      "execution_count": 304,
      "outputs": [
        {
          "output_type": "execute_result",
          "data": {
            "text/plain": [
              "{'rating': 5.0,\n",
              " 'reviewer_name': 'Karen',\n",
              " 'product_id': 'B00004RFRV',\n",
              " 'review_title': 'Bialetti is the Best!',\n",
              " 'review_time': '11 12, 2017',\n",
              " 'images': ['https://images-na.ssl-images-amazon.com/images/I/81+XxFRGyBL._SY88.jpg'],\n",
              " 'styles': {'Size:': ' 12-Cup', 'Color:': ' Silver'}}"
            ]
          },
          "metadata": {},
          "execution_count": 304
        }
      ]
    },
    {
      "cell_type": "code",
      "source": [
        "# Run this cell without changes\n",
        "selected_review = reviews[2]\n",
        "selected_rating = selected_review[\"rating\"]\n",
        "\n",
        "if selected_rating >= 4:\n",
        "    print(\"This is a positive review\")\n",
        "elif selected_rating <= 2:\n",
        "    print(\"This is a negative review\")\n",
        "else:\n",
        "    print(\"This is a neutral review\")"
      ],
      "metadata": {
        "colab": {
          "base_uri": "https://localhost:8080/"
        },
        "id": "TqIx8a22dUC_",
        "outputId": "0e0a9e90-1c67-4404-a3b5-7ea1e8d33630"
      },
      "execution_count": 305,
      "outputs": [
        {
          "output_type": "stream",
          "name": "stdout",
          "text": [
            "This is a positive review\n"
          ]
        }
      ]
    },
    {
      "cell_type": "code",
      "execution_count": 306,
      "metadata": {
        "id": "KQIRppCAbL32",
        "colab": {
          "base_uri": "https://localhost:8080/"
        },
        "outputId": "8d6ba191-0f98-4aa2-d652-e92278d53df0"
      },
      "outputs": [
        {
          "output_type": "stream",
          "name": "stdout",
          "text": [
            "This is a positive review\n"
          ]
        }
      ],
      "source": [
        "# Run this cell without changes\n",
        "selected_review = reviews[2]\n",
        "selected_rating = selected_review[\"rating\"]\n",
        "\n",
        "if selected_rating >= 4:\n",
        "    print(\"This is a positive review\")\n",
        "elif selected_rating <= 2:\n",
        "    print(\"This is a negative review\")\n",
        "else:\n",
        "    print(\"This is a neutral review\")"
      ]
    },
    {
      "cell_type": "markdown",
      "metadata": {
        "id": "0nQ7_hbYbL32"
      },
      "source": [
        "Now, rewrite that code as a function `review_sentiment`, which takes in a review dictionary as an argument, and returns the string `\"positive\"`, `\"negative\"`, or `\"neutral\"`"
      ]
    },
    {
      "cell_type": "code",
      "execution_count": 307,
      "metadata": {
        "id": "iUtDqec1bL32"
      },
      "outputs": [],
      "source": [
        "def review_sentiment(review):\n",
        "    # Replace None with appropriate code\n",
        "    selected_rating = review['rating']\n",
        "    if selected_rating >= 4:\n",
        "      return 'positive'\n",
        "    elif selected_rating <= 2:\n",
        "      return \"negative\"\n",
        "    else:\n",
        "        return \"neutral\""
      ]
    },
    {
      "cell_type": "code",
      "execution_count": 308,
      "metadata": {
        "id": "thlWnSnCbL32",
        "colab": {
          "base_uri": "https://localhost:8080/",
          "height": 36
        },
        "outputId": "d2862a3f-3cab-44a6-e008-259adaeb24fe"
      },
      "outputs": [
        {
          "output_type": "execute_result",
          "data": {
            "text/plain": [
              "'positive'"
            ],
            "application/vnd.google.colaboratory.intrinsic+json": {
              "type": "string"
            }
          },
          "metadata": {},
          "execution_count": 308
        }
      ],
      "source": [
        "# Run this cell without changes\n",
        "review_sentiment(reviews[2]) # 'positive'"
      ]
    },
    {
      "cell_type": "code",
      "execution_count": 309,
      "metadata": {
        "id": "SuIIPQUubL32",
        "colab": {
          "base_uri": "https://localhost:8080/",
          "height": 36
        },
        "outputId": "7b2a3cf7-893b-4dd7-b6bf-0b5ba7495605"
      },
      "outputs": [
        {
          "output_type": "execute_result",
          "data": {
            "text/plain": [
              "'negative'"
            ],
            "application/vnd.google.colaboratory.intrinsic+json": {
              "type": "string"
            }
          },
          "metadata": {},
          "execution_count": 309
        }
      ],
      "source": [
        "# Run this cell without changes\n",
        "review_sentiment(reviews[4]) # 'negative'"
      ]
    },
    {
      "cell_type": "code",
      "execution_count": 310,
      "metadata": {
        "id": "AkkqAzABbL32",
        "colab": {
          "base_uri": "https://localhost:8080/",
          "height": 36
        },
        "outputId": "5a4518c7-2ed7-4835-f9eb-5160cf8dc167"
      },
      "outputs": [
        {
          "output_type": "execute_result",
          "data": {
            "text/plain": [
              "'neutral'"
            ],
            "application/vnd.google.colaboratory.intrinsic+json": {
              "type": "string"
            }
          },
          "metadata": {},
          "execution_count": 310
        }
      ],
      "source": [
        "# Run this cell without changes\n",
        "review_sentiment(reviews[47]) # 'neutral'"
      ]
    },
    {
      "cell_type": "markdown",
      "metadata": {
        "id": "nB3X1SpnbL32"
      },
      "source": [
        "Ok, this is already much cleaner than copying and pasting that `if`/`elif`/`else` sequence like we did before!\n",
        "\n",
        "Now, write a function to loop over all of the reviews in the list, and count how many are positive, negative, and neutral.\n",
        "\n",
        "The function should be called `get_sentiment_counts`, take one argument (the list of reviews), and return a dictionary containing the counts. A counter dictionary has been initialized for you with `\"positive\"`, `\"negative\"`, and `\"neutral\"` as the keys and values starting at 0."
      ]
    },
    {
      "cell_type": "code",
      "execution_count": 346,
      "metadata": {
        "id": "XJp_MxBRbL32",
        "colab": {
          "base_uri": "https://localhost:8080/"
        },
        "outputId": "5313b73a-014d-4ce8-9b57-4355b51cd30d"
      },
      "outputs": [
        {
          "output_type": "execute_result",
          "data": {
            "text/plain": [
              "{'positive': 67, 'negative': 15, 'neutral': 4}"
            ]
          },
          "metadata": {},
          "execution_count": 346
        }
      ],
      "source": [
        "def get_sentiment_counts(review_list):\n",
        "  sentiment_counts = {\n",
        "        \"positive\": 0,\n",
        "        \"negative\": 0,\n",
        "        \"neutral\": 0\n",
        "    }\n",
        "#  for reviews in review_list:\n",
        "  for review in review_list:\n",
        "    selected_rating = review['rating']\n",
        "    if selected_rating >= 4:\n",
        "      sentiment_counts['positive']+= 1\n",
        "    elif selected_rating <= 2:\n",
        "      sentiment_counts['negative']+= 1\n",
        "    else:\n",
        "        sentiment_counts['neutral']+= 1\n",
        "  return sentiment_counts\n",
        "get_sentiment_counts(reviews)  # {'positive': 67, 'negative': 15, 'neutral': 4}"
      ]
    },
    {
      "cell_type": "markdown",
      "metadata": {
        "id": "hj1fYPZAbL33"
      },
      "source": [
        "This spread of sentiments seems reasonable. There is a well-known [skew towards positive reviews in general](https://dspace.mit.edu/handle/1721.1/111093), similar to \"grade inflation\", and people with neutral opinions are less likely to write reviews in the first place.\n",
        "\n",
        "### List of Years Contained in the Dataset\n",
        "\n",
        "Previously, we wrote something like this code to extract the year of a review from the review dictionary:"
      ]
    },
    {
      "cell_type": "code",
      "execution_count": 313,
      "metadata": {
        "id": "pIsf5UMLbL33",
        "colab": {
          "base_uri": "https://localhost:8080/"
        },
        "outputId": "0f13d600-8c05-4827-e5c6-232896f82e58"
      },
      "outputs": [
        {
          "output_type": "execute_result",
          "data": {
            "text/plain": [
              "2017"
            ]
          },
          "metadata": {},
          "execution_count": 313
        }
      ],
      "source": [
        "# Run this cell without changes\n",
        "selected_review = reviews[2]\n",
        "selected_review_time = selected_review[\"review_time\"]\n",
        "selected_review_year = int(selected_review_time[-4:])\n",
        "selected_review_year"
      ]
    },
    {
      "cell_type": "markdown",
      "metadata": {
        "id": "nnCM97ScbL33"
      },
      "source": [
        "Now, rewrite that code as a function `review_year`, which takes in a review dictionary as an argument, and returns the year as an integer:"
      ]
    },
    {
      "cell_type": "code",
      "execution_count": 314,
      "metadata": {
        "id": "NnYcTI33bL33"
      },
      "outputs": [],
      "source": [
        "def review_year(review):\n",
        "    # Replace None with appropriate code\n",
        "    selected_review_year = int(review['review_time'][-4:])\n",
        "    return selected_review_year\n"
      ]
    },
    {
      "cell_type": "code",
      "execution_count": 315,
      "metadata": {
        "id": "eIWPofxqbL33",
        "colab": {
          "base_uri": "https://localhost:8080/"
        },
        "outputId": "7d157624-3d98-4c4f-812d-44b7e1e6e10a"
      },
      "outputs": [
        {
          "output_type": "execute_result",
          "data": {
            "text/plain": [
              "2017"
            ]
          },
          "metadata": {},
          "execution_count": 315
        }
      ],
      "source": [
        "# Run this cell without changes\n",
        "review_year(reviews[2]) # 2017"
      ]
    },
    {
      "cell_type": "code",
      "execution_count": 316,
      "metadata": {
        "id": "6OqsFvMcbL33",
        "colab": {
          "base_uri": "https://localhost:8080/"
        },
        "outputId": "92c100c8-cf8c-4f71-db6f-2014bef227c2"
      },
      "outputs": [
        {
          "output_type": "execute_result",
          "data": {
            "text/plain": [
              "2017"
            ]
          },
          "metadata": {},
          "execution_count": 316
        }
      ],
      "source": [
        "# Run this cell without changes\n",
        "review_year(reviews[4]) # 2017"
      ]
    },
    {
      "cell_type": "code",
      "execution_count": 317,
      "metadata": {
        "id": "zTHFXLvsbL33",
        "colab": {
          "base_uri": "https://localhost:8080/"
        },
        "outputId": "7eb5ebd3-4569-41ed-ccb0-16ae129dcf94"
      },
      "outputs": [
        {
          "output_type": "execute_result",
          "data": {
            "text/plain": [
              "2015"
            ]
          },
          "metadata": {},
          "execution_count": 317
        }
      ],
      "source": [
        "# Run this cell without changes\n",
        "review_year(reviews[47]) # 2015"
      ]
    },
    {
      "cell_type": "markdown",
      "metadata": {
        "id": "Wb9I3iVfbL33"
      },
      "source": [
        "Now, write a function called `get_years` to loop over all of the reviews in the review list and create a list of the years you find. Each year should only appear once, in ascending order. The function should accept one argument (`review_list`) and should return a list of integers representing the years.\n",
        "\n",
        "Hints:\n",
        "\n",
        " - Remember that you can use the `set()` function to keep only the unique elements in a list. Just make sure you use `list()` afterwards to convert it back to a list data type. This is not the only solution, however!\n",
        " - There is a list method named `.sort()` ([look it up in the python list documentation here](https://docs.python.org/3/tutorial/datastructures.html#more-on-lists)) that will automatically order the years; you don't need to write sorting logic \"by hand\""
      ]
    },
    {
      "cell_type": "code",
      "execution_count": 318,
      "metadata": {
        "id": "9MHKax1JbL33",
        "colab": {
          "base_uri": "https://localhost:8080/"
        },
        "outputId": "f3830a2e-8c59-4c1d-8531-df70fdb71405"
      },
      "outputs": [
        {
          "output_type": "stream",
          "name": "stdout",
          "text": [
            "[2007, 2008, 2009, 2011, 2012, 2013, 2014, 2015, 2016, 2017, 2018]\n",
            "<class 'list'>\n"
          ]
        }
      ],
      "source": [
        "# Your code here\n",
        "def get_years(reviwes):\n",
        "  selected_review_years = []\n",
        "  for review in reviews:\n",
        "    selected_review_year = int(review['review_time'][-4:])\n",
        "    selected_review_years.append(selected_review_year)\n",
        "    sorted_selected_review_years =sorted(set(selected_review_years))\n",
        "  return sorted_selected_review_years\n",
        "\n",
        "\n",
        "\n",
        "print(get_years(reviews)) # [2007, 2008, 2009, 2011, 2012, 2013, 2014, 2015, 2016, 2017, 2018]\n",
        "print(type(get_years(reviews))) # <class 'list'>"
      ]
    },
    {
      "cell_type": "markdown",
      "metadata": {
        "id": "TmXmYKrwbL33"
      },
      "source": [
        "Now we know that we have data spanning 2007-2018, with no data from 2010. In some contexts that absence might be worth investigating — is it a random artifact of our sample, or are we missing 2010 data for a reason that matters? For now we'll just keep moving on to the next section, now that we have a clearer sense of the kinds of reviews in our dataset and the years they were written.\n",
        "\n",
        "## Subset Sampling\n",
        "\n",
        "Once you have an overall sense of a dataset, it's a good idea to ask *what are some examples of records in each category?* For example, what are some examples of a negative review?\n",
        "\n",
        "Although 86 records are few enough that you could technically read through all of them and just mentally note what we see, let's use an approach that will scale better to larger datasets with more categories: **filtering** to a subset of records then **sampling** to achieve a digestible amount of information.\n",
        "\n",
        "### Filtering\n",
        "\n",
        "Here we are going to make use of another built-in Python function: `filter()` ([docs here](https://docs.python.org/3/library/functions.html#filter)). To use this function, we first need to write a helper function that returns `True` or `False` based on the value passed in.\n",
        "\n",
        "So, create a function `is_negative` that takes in a review dictionary as an argument and returns `True` if the review is negative, `False` otherwise:"
      ]
    },
    {
      "cell_type": "code",
      "source": [
        "def is_negative(review):\n",
        "  review_sentiment(review)\n",
        "\n",
        "is_negative(reviews[4])\n",
        "#review_sentiment(reviews[4])"
      ],
      "metadata": {
        "id": "az-RVVH7orSc"
      },
      "execution_count": 319,
      "outputs": []
    },
    {
      "cell_type": "code",
      "execution_count": 320,
      "metadata": {
        "id": "h5azgUvWbL33",
        "colab": {
          "base_uri": "https://localhost:8080/"
        },
        "collapsed": true,
        "outputId": "f48273d0-0e10-4727-fc24-cff1220b2c23"
      },
      "outputs": [
        {
          "output_type": "stream",
          "name": "stdout",
          "text": [
            "False\n",
            "True\n",
            "False\n"
          ]
        }
      ],
      "source": [
        "def is_negative(review):\n",
        "    return review_sentiment(review) == 'negative'\n",
        "        # Replace None with appropriate code\n",
        "\n",
        "\n",
        "print(is_negative(reviews[2]))  # False (postive review)\n",
        "print(is_negative(reviews[4]))  # True\n",
        "print(is_negative(reviews[47])) # False (neutral review)"
      ]
    },
    {
      "cell_type": "markdown",
      "metadata": {
        "id": "gMynvDF-bL33"
      },
      "source": [
        "Now we can use the `filter()` function to create a list of negative reviews:"
      ]
    },
    {
      "cell_type": "code",
      "execution_count": 321,
      "metadata": {
        "id": "Z7yTQaeCbL34",
        "colab": {
          "base_uri": "https://localhost:8080/"
        },
        "outputId": "fd72a44b-5bbd-443b-e5de-4bf3ebebaf48"
      },
      "outputs": [
        {
          "output_type": "execute_result",
          "data": {
            "text/plain": [
              "[{'rating': 1.0,\n",
              "  'reviewer_name': 'EJ',\n",
              "  'product_id': 'B00004RFRV',\n",
              "  'review_title': 'Rusted spots everywhere fresh out the box...nasty',\n",
              "  'review_time': '06 4, 2017',\n",
              "  'images': ['https://images-na.ssl-images-amazon.com/images/I/71Dbr6X0bYL._SY88.jpg'],\n",
              "  'styles': {'Size:': ' 9-Cup', 'Color:': ' Silver'}},\n",
              " {'rating': 1.0,\n",
              "  'reviewer_name': 'mathman54',\n",
              "  'product_id': 'B00004RFRV',\n",
              "  'review_title': \"The bottom looks like it has rusted and I don't know how to ...\",\n",
              "  'review_time': '02 15, 2016',\n",
              "  'images': ['https://images-na.ssl-images-amazon.com/images/I/71qt4Hnra8L._SY88.jpg',\n",
              "   'https://images-na.ssl-images-amazon.com/images/I/71Wkg8MesdL._SY88.jpg'],\n",
              "  'styles': {'Size:': ' 12-Cup', 'Color:': ' Silver'}},\n",
              " {'rating': 1.0,\n",
              "  'reviewer_name': 'Maria Fernandez',\n",
              "  'product_id': 'B00004RFRV',\n",
              "  'review_title': 'Is it a Bialetti? Came dirty with coffee grounds.',\n",
              "  'review_time': '03 22, 2015',\n",
              "  'images': ['https://images-na.ssl-images-amazon.com/images/I/71aPg3ZuCzL._SY88.jpg',\n",
              "   'https://images-na.ssl-images-amazon.com/images/I/71-2keZacOL._SY88.jpg',\n",
              "   'https://images-na.ssl-images-amazon.com/images/I/71Z4C4G-0dL._SY88.jpg'],\n",
              "  'styles': {'Size:': ' 6-Cup', 'Color:': ' Silver'}},\n",
              " {'rating': 1.0,\n",
              "  'reviewer_name': 'Toni Bautista',\n",
              "  'product_id': 'B00005IBX9',\n",
              "  'review_title': 'Great but NOT PERFECT -missing Side water panel',\n",
              "  'review_time': '02 24, 2017',\n",
              "  'images': ['https://images-na.ssl-images-amazon.com/images/I/71X5NEjZG5L._SY88.jpg'],\n",
              "  'styles': {'Color:': ' Brushed Chrome'}},\n",
              " {'rating': 1.0,\n",
              "  'reviewer_name': 'SAinVA',\n",
              "  'product_id': 'B00005LM0T',\n",
              "  'review_title': 'Too much waste',\n",
              "  'review_time': '09 7, 2017',\n",
              "  'images': ['https://images-na.ssl-images-amazon.com/images/I/71shZggLRHL._SY88.jpg'],\n",
              "  'styles': {'Size:': ' 34 oz.', 'Package Type:': ' Standard Packaging'}},\n",
              " {'rating': 1.0,\n",
              "  'reviewer_name': 'Silicon Valley',\n",
              "  'product_id': 'B00005LM0T',\n",
              "  'review_title': 'FRAME RUSTS WITHIN A FEW WEEKS',\n",
              "  'review_time': '03 10, 2016',\n",
              "  'images': ['https://images-na.ssl-images-amazon.com/images/I/71FREAeBLIL._SY88.jpg',\n",
              "   'https://images-na.ssl-images-amazon.com/images/I/71qkhDjseuL._SY88.jpg',\n",
              "   'https://images-na.ssl-images-amazon.com/images/I/7143mVMMoCL._SY88.jpg'],\n",
              "  'styles': {'Size:': ' 34 oz.', 'Package Type:': ' Standard Packaging'}},\n",
              " {'rating': 1.0,\n",
              "  'reviewer_name': 'Andrew Furlong',\n",
              "  'product_id': 'B00005MF9C',\n",
              "  'review_title': 'but instead ran along the underside of the part of the maker that holds the grounds and finally dropping at an angle at which a',\n",
              "  'review_time': '02 22, 2017',\n",
              "  'images': ['https://images-na.ssl-images-amazon.com/images/I/71kh1XatynL._SY88.jpg'],\n",
              "  'styles': {'Color:': ' Black/Stainless Steel'}},\n",
              " {'rating': 2.0,\n",
              "  'reviewer_name': 'fred o.',\n",
              "  'product_id': 'B00005MF9C',\n",
              "  'review_title': 'Good purchase',\n",
              "  'review_time': '09 4, 2016',\n",
              "  'images': ['https://images-na.ssl-images-amazon.com/images/I/71tRehtvN+L._SY88.jpg',\n",
              "   'https://images-na.ssl-images-amazon.com/images/I/719K20U+MaL._SY88.jpg',\n",
              "   'https://images-na.ssl-images-amazon.com/images/I/71jd6yc1GdL._SY88.jpg'],\n",
              "  'styles': {'Color:': ' Black/White'}},\n",
              " {'rating': 1.0,\n",
              "  'reviewer_name': 'fifrox',\n",
              "  'product_id': 'B00005MF9C',\n",
              "  'review_title': 'Works great for a week then fails!',\n",
              "  'review_time': '03 10, 2016',\n",
              "  'images': ['https://images-na.ssl-images-amazon.com/images/I/81QVkUT4hdL._SY88.jpg'],\n",
              "  'styles': {'Color:': ' Black/Stainless Steel'}},\n",
              " {'rating': 1.0,\n",
              "  'reviewer_name': 'cas',\n",
              "  'product_id': 'B00005NCWQ',\n",
              "  'review_title': 'Garbage!!!',\n",
              "  'review_time': '03 26, 2018',\n",
              "  'images': ['https://images-na.ssl-images-amazon.com/images/I/71Bxydi3DQL._SY88.jpg'],\n",
              "  'styles': {'Size:': ' 8-Cup'}},\n",
              " {'rating': 1.0,\n",
              "  'reviewer_name': 'GoClick',\n",
              "  'product_id': 'B00005OTXM',\n",
              "  'review_title': 'Returned - produced revolting burnt plastic flavored coffee, and seemed flawed.',\n",
              "  'review_time': '04 16, 2015',\n",
              "  'images': ['https://images-na.ssl-images-amazon.com/images/I/71o+7Zru+iL._SY88.jpg',\n",
              "   'https://images-na.ssl-images-amazon.com/images/I/81sbfP4tc8L._SY88.jpg',\n",
              "   'https://images-na.ssl-images-amazon.com/images/I/71vhOebyGaL._SY88.jpg'],\n",
              "  'styles': {'Style Name:': ' COFFEE MAKER ONLY'}},\n",
              " {'rating': 2.0,\n",
              "  'reviewer_name': 'Picks n Pans',\n",
              "  'product_id': 'B00006F2LW',\n",
              "  'review_title': 'Cracked lid out of the box',\n",
              "  'review_time': '02 27, 2008',\n",
              "  'images': ['https://images-na.ssl-images-amazon.com/images/I/317fvUiuNDL._SY88.jpg'],\n",
              "  'styles': {'Color:': ' Black'}},\n",
              " {'rating': 2.0,\n",
              "  'reviewer_name': 'LMM',\n",
              "  'product_id': 'B00008ELEA',\n",
              "  'review_title': 'smelled like the cord was burning',\n",
              "  'review_time': '06 6, 2016',\n",
              "  'images': ['https://images-na.ssl-images-amazon.com/images/I/51xXENQhIGL._SY88.jpg'],\n",
              "  'styles': {'Size:': ' 4-Cup'}},\n",
              " {'rating': 1.0,\n",
              "  'reviewer_name': 'Marcia S.',\n",
              "  'product_id': 'B0000A1ZMS',\n",
              "  'review_title': 'Look what happened to this once great Cuisinart coffeemaker.',\n",
              "  'review_time': '11 12, 2016',\n",
              "  'images': ['https://images-na.ssl-images-amazon.com/images/I/51B8eue4nHL._SY88.jpg',\n",
              "   'https://images-na.ssl-images-amazon.com/images/I/519NziREFIL._SY88.jpg',\n",
              "   'https://images-na.ssl-images-amazon.com/images/I/51v+A1zWqTL._SY88.jpg'],\n",
              "  'styles': {'Color:': ' Black', 'Style Name:': ' Coffeemaker'}},\n",
              " {'rating': 2.0,\n",
              "  'reviewer_name': 'Jimmie',\n",
              "  'product_id': 'B0000A1ZMS',\n",
              "  'review_title': 'Leaks and more',\n",
              "  'review_time': '01 13, 2011',\n",
              "  'images': ['https://images-na.ssl-images-amazon.com/images/I/51U4K+PzETL._SY88.jpg'],\n",
              "  'styles': {'Color:': ' Black', 'Style Name:': ' Coffeemaker'}}]"
            ]
          },
          "metadata": {},
          "execution_count": 321
        }
      ],
      "source": [
        "# Run this cell without changes\n",
        "list(filter(is_negative, reviews))"
      ]
    },
    {
      "cell_type": "markdown",
      "metadata": {
        "id": "QH4FGPzsbL34"
      },
      "source": [
        "Write a function called `get_negative_reviews` that returns a list of these reviews. It should take the list of all reviews as an argument.\n",
        "\n",
        "(This can be a one-line function.)"
      ]
    },
    {
      "cell_type": "code",
      "execution_count": 322,
      "metadata": {
        "id": "IyTZktBWbL34",
        "colab": {
          "base_uri": "https://localhost:8080/"
        },
        "outputId": "5d1155a1-6089-49a2-c25c-f581ce060772"
      },
      "outputs": [
        {
          "output_type": "execute_result",
          "data": {
            "text/plain": [
              "15"
            ]
          },
          "metadata": {},
          "execution_count": 322
        }
      ],
      "source": [
        "# Your code here\n",
        "def get_negative_reviews(review):\n",
        "  return list(filter(is_negative, reviews))\n",
        "\n",
        "len(get_negative_reviews(reviews)) # 15"
      ]
    },
    {
      "cell_type": "markdown",
      "metadata": {
        "id": "0_xuuOYNbL34"
      },
      "source": [
        "### Sampling\n",
        "\n",
        "Again, since we have a relatively small dataset, we could just look at all 15 reviews. But let's take a more scalable approach instead, and take a random sample of negative reviews.\n",
        "\n",
        "Recall the `random` module, which must be imported:"
      ]
    },
    {
      "cell_type": "code",
      "execution_count": 323,
      "metadata": {
        "id": "_VOMToLpbL34"
      },
      "outputs": [],
      "source": [
        "# Run this cell without changes\n",
        "import random"
      ]
    },
    {
      "cell_type": "markdown",
      "metadata": {
        "id": "QH_83cVVbL34"
      },
      "source": [
        "We'll use the `random.sample()` function, which takes in a collection and a number, and returns that number of elements from the collection.\n",
        "\n",
        "So, for example, if we want 3 negative reviews:"
      ]
    },
    {
      "cell_type": "code",
      "execution_count": 324,
      "metadata": {
        "id": "qKRuFQtubL34",
        "colab": {
          "base_uri": "https://localhost:8080/"
        },
        "outputId": "f81b209f-05c4-4ce8-b7d2-19b33864a024"
      },
      "outputs": [
        {
          "output_type": "execute_result",
          "data": {
            "text/plain": [
              "[{'rating': 1.0,\n",
              "  'reviewer_name': 'mathman54',\n",
              "  'product_id': 'B00004RFRV',\n",
              "  'review_title': \"The bottom looks like it has rusted and I don't know how to ...\",\n",
              "  'review_time': '02 15, 2016',\n",
              "  'images': ['https://images-na.ssl-images-amazon.com/images/I/71qt4Hnra8L._SY88.jpg',\n",
              "   'https://images-na.ssl-images-amazon.com/images/I/71Wkg8MesdL._SY88.jpg'],\n",
              "  'styles': {'Size:': ' 12-Cup', 'Color:': ' Silver'}},\n",
              " {'rating': 2.0,\n",
              "  'reviewer_name': 'LMM',\n",
              "  'product_id': 'B00008ELEA',\n",
              "  'review_title': 'smelled like the cord was burning',\n",
              "  'review_time': '06 6, 2016',\n",
              "  'images': ['https://images-na.ssl-images-amazon.com/images/I/51xXENQhIGL._SY88.jpg'],\n",
              "  'styles': {'Size:': ' 4-Cup'}},\n",
              " {'rating': 1.0,\n",
              "  'reviewer_name': 'Andrew Furlong',\n",
              "  'product_id': 'B00005MF9C',\n",
              "  'review_title': 'but instead ran along the underside of the part of the maker that holds the grounds and finally dropping at an angle at which a',\n",
              "  'review_time': '02 22, 2017',\n",
              "  'images': ['https://images-na.ssl-images-amazon.com/images/I/71kh1XatynL._SY88.jpg'],\n",
              "  'styles': {'Color:': ' Black/Stainless Steel'}}]"
            ]
          },
          "metadata": {},
          "execution_count": 324
        }
      ],
      "source": [
        "# Run this cell without changes\n",
        "# You can run as many times as you want, to see different sample examples\n",
        "random.sample(get_negative_reviews(reviews), 3)"
      ]
    },
    {
      "cell_type": "markdown",
      "metadata": {
        "id": "9nZ0giAHbL34"
      },
      "source": [
        "Now, put that code into a function `get_negative_review_sample`. This function should take a list of reviews and the number of samples to select, and should return a sample of negative reviews.\n",
        "\n",
        "(You can assume that `num_samples` is a valid number. The number of samples must be less than or equal to the number of elements in the collection.)"
      ]
    },
    {
      "cell_type": "code",
      "execution_count": 325,
      "metadata": {
        "id": "-m4mgwe4bL34",
        "colab": {
          "base_uri": "https://localhost:8080/"
        },
        "outputId": "81cc83e4-de1b-4a2d-dcc6-73c90438faac"
      },
      "outputs": [
        {
          "output_type": "execute_result",
          "data": {
            "text/plain": [
              "[{'rating': 1.0,\n",
              "  'reviewer_name': 'Silicon Valley',\n",
              "  'product_id': 'B00005LM0T',\n",
              "  'review_title': 'FRAME RUSTS WITHIN A FEW WEEKS',\n",
              "  'review_time': '03 10, 2016',\n",
              "  'images': ['https://images-na.ssl-images-amazon.com/images/I/71FREAeBLIL._SY88.jpg',\n",
              "   'https://images-na.ssl-images-amazon.com/images/I/71qkhDjseuL._SY88.jpg',\n",
              "   'https://images-na.ssl-images-amazon.com/images/I/7143mVMMoCL._SY88.jpg'],\n",
              "  'styles': {'Size:': ' 34 oz.', 'Package Type:': ' Standard Packaging'}},\n",
              " {'rating': 1.0,\n",
              "  'reviewer_name': 'mathman54',\n",
              "  'product_id': 'B00004RFRV',\n",
              "  'review_title': \"The bottom looks like it has rusted and I don't know how to ...\",\n",
              "  'review_time': '02 15, 2016',\n",
              "  'images': ['https://images-na.ssl-images-amazon.com/images/I/71qt4Hnra8L._SY88.jpg',\n",
              "   'https://images-na.ssl-images-amazon.com/images/I/71Wkg8MesdL._SY88.jpg'],\n",
              "  'styles': {'Size:': ' 12-Cup', 'Color:': ' Silver'}},\n",
              " {'rating': 1.0,\n",
              "  'reviewer_name': 'cas',\n",
              "  'product_id': 'B00005NCWQ',\n",
              "  'review_title': 'Garbage!!!',\n",
              "  'review_time': '03 26, 2018',\n",
              "  'images': ['https://images-na.ssl-images-amazon.com/images/I/71Bxydi3DQL._SY88.jpg'],\n",
              "  'styles': {'Size:': ' 8-Cup'}},\n",
              " {'rating': 1.0,\n",
              "  'reviewer_name': 'Andrew Furlong',\n",
              "  'product_id': 'B00005MF9C',\n",
              "  'review_title': 'but instead ran along the underside of the part of the maker that holds the grounds and finally dropping at an angle at which a',\n",
              "  'review_time': '02 22, 2017',\n",
              "  'images': ['https://images-na.ssl-images-amazon.com/images/I/71kh1XatynL._SY88.jpg'],\n",
              "  'styles': {'Color:': ' Black/Stainless Steel'}}]"
            ]
          },
          "metadata": {},
          "execution_count": 325
        }
      ],
      "source": [
        "def get_negative_review_sample(review_list, num_samples):\n",
        "    # Replace None with appropriate code\n",
        "    return random.sample(get_negative_reviews(reviews), num_samples)\n",
        "\n",
        "get_negative_review_sample(reviews, 4)"
      ]
    },
    {
      "cell_type": "markdown",
      "metadata": {
        "id": "jY-1XO6ZbL34"
      },
      "source": [
        "Repeat the same process for positive reviews. That means we need:\n",
        "\n",
        "1. A helper function `is_positive` (this can't just be `not is_negative` since neutral reviews are neither)\n",
        "2. A function `get_positive_reviews` which returns a list of all positive reviews\n",
        "3. A function `get_positive_review_sample` which returns a sample of positive reviews with the specified length"
      ]
    },
    {
      "cell_type": "code",
      "execution_count": 326,
      "metadata": {
        "id": "vr7SJaTNbL34",
        "colab": {
          "base_uri": "https://localhost:8080/"
        },
        "outputId": "9ed68d3f-5728-4cdc-c59f-9b0110f861df"
      },
      "outputs": [
        {
          "output_type": "execute_result",
          "data": {
            "text/plain": [
              "[{'rating': 5.0,\n",
              "  'reviewer_name': 'Jan',\n",
              "  'product_id': 'B00005MF9C',\n",
              "  'review_title': \"... yet but bought what I think will be a better mug because it's stainless inside & out unlike the ...\",\n",
              "  'review_time': '07 13, 2017',\n",
              "  'images': ['https://images-na.ssl-images-amazon.com/images/I/61+FIYkLBIL._SY88.jpg'],\n",
              "  'styles': {'Color:': ' Black/Stainless Steel'}},\n",
              " {'rating': 5.0,\n",
              "  'reviewer_name': 'Alice Wakefield',\n",
              "  'product_id': 'B00005YY9X',\n",
              "  'review_title': '12 years of heavy use - lasted longer than ex-husband',\n",
              "  'review_time': '10 6, 2007',\n",
              "  'images': ['https://images-na.ssl-images-amazon.com/images/I/51+LtjCP8HL._SY88.jpg'],\n",
              "  'styles': {'Size:': ' 34 oz.'}},\n",
              " {'rating': 5.0,\n",
              "  'reviewer_name': 'stampmom9 Dawn Gallop',\n",
              "  'product_id': 'B00004SPD9',\n",
              "  'review_title': 'Wonderful coffee grinder!',\n",
              "  'review_time': '03 3, 2016',\n",
              "  'images': ['https://images-na.ssl-images-amazon.com/images/I/71YBeh+J1rL._SY88.jpg'],\n",
              "  'styles': {'Color:': ' Walnut'}},\n",
              " {'rating': 5.0,\n",
              "  'reviewer_name': 'Sns073194',\n",
              "  'product_id': 'B00004RFRV',\n",
              "  'review_title': 'Perfect cafsito every time',\n",
              "  'review_time': '03 11, 2018',\n",
              "  'images': ['https://images-na.ssl-images-amazon.com/images/I/71d2cQEgJsL._SY88.jpg'],\n",
              "  'styles': {'Size:': ' 6-Cup', 'Color:': ' Silver'}}]"
            ]
          },
          "metadata": {},
          "execution_count": 326
        }
      ],
      "source": [
        "# Your code here\n",
        "def is_positive(review):\n",
        "    return review_sentiment(review) == 'positive'\n",
        "def get_positive_reviews(review):\n",
        "  return list(filter(is_positive, reviews))\n",
        "def get_positive_review_sample(review_list, num_samples):\n",
        "    return random.sample(get_positive_reviews(reviews), num_samples)\n",
        "get_positive_review_sample(reviews, 4)"
      ]
    },
    {
      "cell_type": "markdown",
      "metadata": {
        "id": "JJWDoWkYbL34"
      },
      "source": [
        "## Individual Review Summary\n",
        "\n",
        "In addition to summarizing the dataset overall and sampling based on criteria, we want the user to be able to query any given record in order to view a summary. Before, we created a variable called `review_index` that the user could modify. Now, let's write some reusable code that doesn't require the user to write any Python at all!\n",
        "\n",
        "Recall that before, our final code looked something like this:"
      ]
    },
    {
      "cell_type": "code",
      "execution_count": 327,
      "metadata": {
        "id": "ugcH0MG3bL34",
        "colab": {
          "base_uri": "https://localhost:8080/"
        },
        "outputId": "faa3d8fd-1449-454c-ffa8-bbb32c612d25"
      },
      "outputs": [
        {
          "output_type": "stream",
          "name": "stdout",
          "text": [
            "\"Bialetti is the Best!\": This was a positive review written by Karen in 2017.\n"
          ]
        }
      ],
      "source": [
        "# Run this cell without changes\n",
        "\n",
        "review_index = 2\n",
        "\n",
        "# Extract review from list of reviews\n",
        "selected_review = reviews[review_index]\n",
        "\n",
        "# Extract title\n",
        "selected_review_title = selected_review[\"review_title\"]\n",
        "\n",
        "# Extract rating and format as positive, negative, or neutral\n",
        "selected_rating = selected_review[\"rating\"]\n",
        "if selected_rating >= 4:\n",
        "    selected_sentiment = \"positive\"\n",
        "elif selected_rating <= 2:\n",
        "    selected_sentiment = \"negative\"\n",
        "else:\n",
        "    selected_sentiment = \"neutral\"\n",
        "\n",
        "# Extract author\n",
        "selected_author = selected_review[\"reviewer_name\"]\n",
        "\n",
        "# Extract year (doesn't need to be int for this use case)\n",
        "selected_year = selected_review[\"review_time\"][-4:]\n",
        "\n",
        "print(f'\"{selected_review_title}\": This was a {selected_sentiment} review written by {selected_author} in {selected_year}.')"
      ]
    },
    {
      "cell_type": "markdown",
      "metadata": {
        "id": "--PcWE6UbL35"
      },
      "source": [
        "Rewrite that code as a function called `get_review_summary`, which takes a review dictionary as an argument, and returns a string that resembles the previous summary string, e.g.\n",
        "\n",
        "```\n",
        "\"Bialetti is the Best!\": This was a positive review written by Karen in 2017.\n",
        "```\n",
        "\n",
        "*Hint: look back at the functions you have previously written to see which ones might be useful to call within this function!*"
      ]
    },
    {
      "cell_type": "code",
      "execution_count": 335,
      "metadata": {
        "id": "s_rvySJ4bL35",
        "colab": {
          "base_uri": "https://localhost:8080/"
        },
        "outputId": "11d0e13b-9a2b-4944-adbd-d6e9096e03e6"
      },
      "outputs": [
        {
          "output_type": "stream",
          "name": "stdout",
          "text": [
            "\"Bialetti is the Best!\": This was a positive review written by Karen in 2017.\n"
          ]
        }
      ],
      "source": [
        "# Your code here\n",
        "def get_review_summary(reviews):\n",
        "  selected_review_title = reviews[\"review_title\"]\n",
        "  selected_sentiment = review_sentiment(reviews)\n",
        "  selected_author = reviews[\"reviewer_name\"]\n",
        "  selected_year = reviews[\"review_time\"][-4:]\n",
        "  return f'\"{selected_review_title}\": This was a {selected_sentiment} review written by {selected_author} in {selected_year}.'\n",
        "print(get_review_summary(reviews[2])) # \"Bialetti is the Best!\": This was a positive review written by Karen in 2017."
      ]
    },
    {
      "cell_type": "markdown",
      "metadata": {
        "id": "qGKA2Fo8bL35"
      },
      "source": [
        "Now, instead of copying and pasting that every time, we can just call it repeatedly!\n",
        "\n",
        "Write a function that prompts the user to enter a review index, then prints the relevant review summary. The function should be called `review_summary_prompt`, it should take a list of reviews as an argument, and should print information but not return anything.\n",
        "\n",
        "Display the message `\"Please enter a review index: \"` when prompting for input. You can assume that the user will enter a valid index between 0 and 85.\n",
        "\n",
        "Hints:\n",
        "\n",
        " - Use the built-in `input()` function ([check the documentation here to see how to use it!](https://docs.python.org/3/library/functions.html#input))\n",
        " - Remember that this function always returns a string, so you will have to convert the user-supplied index into an integer, otherwise you'll get the error `TypeError: list indices must be integers or slices, not str`\n",
        " - If you're wondering about the type of a given variable, you can use the built-in `type()` function"
      ]
    },
    {
      "cell_type": "code",
      "execution_count": 336,
      "metadata": {
        "id": "pddvarNSbL35"
      },
      "outputs": [],
      "source": [
        "def review_summary_prompt(list_of_reviews):\n",
        "    # Replace None with appropriate code\n",
        "    review_index = int(input('Please enter a review index: '))\n",
        "    # selected_review = list_of_reviews[review_index]\n",
        "      #return review_index\n",
        "    print (get_review_summary(list_of_reviews[review_index]))\n",
        "      #print(get_review_summary(selected_review))"
      ]
    },
    {
      "cell_type": "markdown",
      "metadata": {
        "id": "QHooffLObL35"
      },
      "source": [
        "Run this cell, and try entering 2, 4, 52 (examples of positive, negative, neutral reviews)\n",
        "\n",
        "You can also try any index you want, between 0 and 85!"
      ]
    },
    {
      "cell_type": "code",
      "execution_count": 339,
      "metadata": {
        "id": "9g74CafpbL35",
        "colab": {
          "base_uri": "https://localhost:8080/"
        },
        "outputId": "b0331d86-bfad-4acd-c41e-869c813970ff"
      },
      "outputs": [
        {
          "output_type": "stream",
          "name": "stdout",
          "text": [
            "Please enter a review index: 52\n",
            "\"Simple, 4 cup coffee maker, looks nice, difficult basket hinge\": This was a neutral review written by Donald E. Fulton in 2012.\n"
          ]
        }
      ],
      "source": [
        "# Run this cell without changes\n",
        "review_summary_prompt(reviews)"
      ]
    },
    {
      "cell_type": "markdown",
      "metadata": {
        "id": "erTDbYq9bL35"
      },
      "source": [
        "## Putting It All Together\n",
        "\n",
        "In this section, we are just calling several of the previously-created functions to double-check that they are working as expected. You do not need to write any more code, although if you notice something wrong with one of your functions you can go back and fix it!  Just make sure that you re-run the cell declaring the function if you want the behavior of calling the function to change.\n",
        "\n",
        "### Data Summary"
      ]
    },
    {
      "cell_type": "code",
      "execution_count": 347,
      "metadata": {
        "id": "89rFCcjzbL35",
        "colab": {
          "base_uri": "https://localhost:8080/"
        },
        "outputId": "36c5b370-5d87-4591-ca6f-043aa73eda00"
      },
      "outputs": [
        {
          "output_type": "stream",
          "name": "stdout",
          "text": [
            "The coffee product review dataset contains 86 reviews\n",
            "\n",
            "Review sentiment:\n",
            "67 positive reviews\n",
            "15 negative reviews\n",
            "4 neutral reviews\n",
            "\n",
            "Review years:\n",
            "[2007, 2008, 2009, 2011, 2012, 2013, 2014, 2015, 2016, 2017, 2018]\n"
          ]
        }
      ],
      "source": [
        "# Run this cell without changes\n",
        "\n",
        "print(f\"The coffee product review dataset contains {len(reviews)} reviews\")\n",
        "print()\n",
        "print(\"Review sentiment:\")\n",
        "for key, value in get_sentiment_counts(reviews).items():\n",
        "    print(f\"{value} {key} reviews\")\n",
        "print()\n",
        "print(\"Review years:\")\n",
        "print(get_years(reviews))"
      ]
    },
    {
      "cell_type": "markdown",
      "metadata": {
        "id": "r46jQVITbL35"
      },
      "source": [
        "### Subset Samples"
      ]
    },
    {
      "cell_type": "code",
      "execution_count": 348,
      "metadata": {
        "id": "3ftWIfaObL35",
        "colab": {
          "base_uri": "https://localhost:8080/"
        },
        "outputId": "56be021e-7fae-442f-99eb-587de51577b9"
      },
      "outputs": [
        {
          "output_type": "stream",
          "name": "stdout",
          "text": [
            "Examples of positive reviews:\n",
            "\"This is a really good coffee maker although poorly designed\": This was a positive review written by KV Trout in 2013.\n",
            "\"Farberware Yosemite Percolator\": This was a positive review written by Chief in 2017.\n",
            "\"Holding up just fine.\": This was a positive review written by ERO - Edge in 2011.\n",
            "\"To Moka, or not to Moka...\": This was a positive review written by JohnInNC in 2017.\n",
            "\"Awesome product...great price!\": This was a positive review written by Julie Freeman in 2016.\n",
            "\n",
            "Examples of negative reviews:\n",
            "\"Too much waste\": This was a negative review written by SAinVA in 2017.\n",
            "\"Is it a Bialetti? Came dirty with coffee grounds.\": This was a negative review written by Maria Fernandez in 2015.\n",
            "\"Great but NOT PERFECT -missing Side water panel\": This was a negative review written by Toni Bautista in 2017.\n",
            "\"Look what happened to this once great Cuisinart coffeemaker.\": This was a negative review written by Marcia S. in 2016.\n",
            "\"Rusted spots everywhere fresh out the box...nasty\": This was a negative review written by EJ in 2017.\n"
          ]
        }
      ],
      "source": [
        "# Run this cell without changes\n",
        "\n",
        "print(\"Examples of positive reviews:\")\n",
        "positive_samples = get_positive_review_sample(reviews, 5)\n",
        "for review in positive_samples:\n",
        "    print(get_review_summary(review))\n",
        "print()\n",
        "print(\"Examples of negative reviews:\")\n",
        "negative_samples = get_negative_review_sample(reviews, 5)\n",
        "for review in negative_samples:\n",
        "    print(get_review_summary(review))"
      ]
    },
    {
      "cell_type": "markdown",
      "metadata": {
        "id": "6fmRqbKObL35"
      },
      "source": [
        "### Summary Prompt"
      ]
    },
    {
      "cell_type": "code",
      "execution_count": 349,
      "metadata": {
        "id": "43YzZYvhbL35",
        "colab": {
          "base_uri": "https://localhost:8080/"
        },
        "outputId": "e5653476-9496-4374-b270-6c7f69953152"
      },
      "outputs": [
        {
          "output_type": "stream",
          "name": "stdout",
          "text": [
            "Please enter a review index: 3\n",
            "\"Awesome portion control for one person!\": This was a positive review written by Feles (muy Mala) in 2017.\n"
          ]
        }
      ],
      "source": [
        "# Run this cell without changes\n",
        "review_summary_prompt(reviews)"
      ]
    },
    {
      "cell_type": "markdown",
      "metadata": {
        "id": "RpABRC-4bL36"
      },
      "source": [
        "## Conclusion\n",
        "\n",
        "Congratulations, you made it to the end of another cumulative lab! In this lab you practiced refactoring previously-written code to use functions, and using loops to avoid repetition and perform analyses of the whole dataset as well as certain subsets."
      ]
    }
  ],
  "metadata": {
    "kernelspec": {
      "display_name": "Python (learn-env)",
      "language": "python",
      "name": "learn-env"
    },
    "language_info": {
      "codemirror_mode": {
        "name": "ipython",
        "version": 3
      },
      "file_extension": ".py",
      "mimetype": "text/x-python",
      "name": "python",
      "nbconvert_exporter": "python",
      "pygments_lexer": "ipython3",
      "version": "3.8.5"
    },
    "colab": {
      "provenance": [],
      "include_colab_link": true
    }
  },
  "nbformat": 4,
  "nbformat_minor": 0
}