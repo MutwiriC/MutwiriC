{
  "cells": [
    {
      "cell_type": "markdown",
      "metadata": {
        "id": "view-in-github",
        "colab_type": "text"
      },
      "source": [
        "<a href=\"https://colab.research.google.com/github/MutwiriC/MutwiriC/blob/main/index.ipynb\" target=\"_parent\"><img src=\"https://colab.research.google.com/assets/colab-badge.svg\" alt=\"Open In Colab\"/></a>"
      ]
    },
    {
      "cell_type": "markdown",
      "metadata": {
        "id": "6xC-A6z1Z3_1"
      },
      "source": [
        "# Functions With Arguments - Lab\n",
        "\n",
        "## Introduction\n",
        "In this lesson, we have decided to visit one of our travel destinations! This time we have chosen to visit Albuquerque, but we aren't very familiar with this city and are quite hungry after our long flight. We will be working with information we pulled from the Yelp database to help us find a restaurant where we can satisfy our hunger. While Yelp is great for learning about what to do in Albuquerque, it gives us back a lot of information. We'll use what we know about functions and dictionaries to format and read our data more easily.\n",
        "\n",
        "## Objectives\n",
        "\n",
        "You will be able to:\n",
        "\n",
        "* Declare and use a function with arguments\n",
        "\n",
        "## Exploring Two Restaurants in Albuquerque\n",
        "\n",
        "Let's take a quick look at the information Yelp provides for a single restaurant:"
      ]
    },
    {
      "cell_type": "code",
      "execution_count": null,
      "metadata": {
        "id": "zJyc-b5aZ3_2"
      },
      "outputs": [],
      "source": [
        "# Run this cell without changes\n",
        "fork_fig = {'categories': [{'alias': 'burgers', 'title': 'Burgers'},\n",
        "  {'alias': 'sandwiches', 'title': 'Sandwiches'},\n",
        "  {'alias': 'salad', 'title': 'Salad'}],\n",
        " 'coordinates': {'latitude': 35.10871, 'longitude': -106.56739},\n",
        " 'display_phone': '(505) 881-5293',\n",
        " 'distance': 3571.724649307866,\n",
        " 'id': 'fork-and-fig-albuquerque',\n",
        " 'image_url': 'https://s3-media1.fl.yelpcdn.com/bphoto/_-DpXKfS3jv6DyA47g6Fxg/o.jpg',\n",
        " 'is_closed': False,\n",
        " 'location': {'address1': '6904 Menaul Blvd NE',\n",
        "  'address2': 'Ste C',\n",
        "  'address3': '',\n",
        "  'city': 'Albuquerque',\n",
        "  'country': 'US',\n",
        "  'display_address': ['6904 Menaul Blvd NE', 'Ste C', 'Albuquerque, NM 87110'],\n",
        "  'state': 'NM',\n",
        "  'zip_code': '87110'},\n",
        " 'name': 'Fork & Fig',\n",
        " 'phone': '+15058815293',\n",
        " 'price': '$$',\n",
        " 'rating': 4.5,\n",
        " 'review_count': 604,\n",
        " 'transactions': [],\n",
        " 'url': 'https://www.yelp.com/biz/fork-and-fig-albuquerque?adjust_creative=SYc8R4Gowqru5h4SBKZXsQ&utm_campaign=yelp_api_v3&utm_medium=api_v3_business_search&utm_source=SYc8R4Gowqru5h4SBKZXsQ'}"
      ]
    },
    {
      "cell_type": "markdown",
      "metadata": {
        "id": "05rte96jZ3_3"
      },
      "source": [
        "Above is the information provided about `Fork & Fig`, but all restaurants are provided with this information.  For example, here is the information provided by Yelp for another restaurant, `Frontier Restaurant`."
      ]
    },
    {
      "cell_type": "code",
      "execution_count": null,
      "metadata": {
        "id": "40VoK0QoZ3_3"
      },
      "outputs": [],
      "source": [
        "# Run this cell without changes\n",
        "frontier_restaurant = {'categories': [{'alias': 'mexican', 'title': 'Mexican'},\n",
        "  {'alias': 'diners', 'title': 'Diners'},\n",
        "  {'alias': 'tradamerican', 'title': 'American (Traditional)'}],\n",
        " 'coordinates': {'latitude': 35.0808088832532, 'longitude': -106.619402244687},\n",
        " 'display_phone': '(505) 266-0550',\n",
        " 'distance': 4033.6583235266075,\n",
        " 'id': 'frontier-restaurant-albuquerque-2',\n",
        " 'image_url': 'https://s3-media4.fl.yelpcdn.com/bphoto/M9L2z6-G0NobuDJ6YTh6VA/o.jpg',\n",
        " 'is_closed': False,\n",
        " 'location': {'address1': '2400 Central Ave SE',\n",
        "  'address2': '',\n",
        "  'address3': '',\n",
        "  'city': 'Albuquerque',\n",
        "  'country': 'US',\n",
        "  'display_address': ['2400 Central Ave SE', 'Albuquerque, NM 87106'],\n",
        "  'state': 'NM',\n",
        "  'zip_code': '87106'},\n",
        " 'name': 'Frontier Restaurant',\n",
        " 'phone': '+15052660550',\n",
        " 'price': '$',\n",
        " 'rating': 4.0,\n",
        " 'review_count': 1369,\n",
        " 'transactions': [],\n",
        " 'url': 'https://www.yelp.com/biz/frontier-restaurant-albuquerque-2?adjust_creative=SYc8R4Gowqru5h4SBKZXsQ&utm_campaign=yelp_api_v3&utm_medium=api_v3_business_search&utm_source=SYc8R4Gowqru5h4SBKZXsQ'}"
      ]
    },
    {
      "cell_type": "markdown",
      "metadata": {
        "id": "dAFoJCuBZ3_4"
      },
      "source": [
        "As we already know, one way to quickly view the attributes of a dictionary is to look at the keys of the dictionary."
      ]
    },
    {
      "cell_type": "code",
      "execution_count": null,
      "metadata": {
        "id": "83Hs-b8NZ3_4",
        "colab": {
          "base_uri": "https://localhost:8080/"
        },
        "outputId": "ef3c8ef1-5f53-4a96-e09a-76c044a9a397"
      },
      "outputs": [
        {
          "output_type": "execute_result",
          "data": {
            "text/plain": [
              "dict_keys(['categories', 'coordinates', 'display_phone', 'distance', 'id', 'image_url', 'is_closed', 'location', 'name', 'phone', 'price', 'rating', 'review_count', 'transactions', 'url'])"
            ]
          },
          "metadata": {},
          "execution_count": 3
        }
      ],
      "source": [
        "# Run this cell without changes\n",
        "fork_fig.keys()"
      ]
    },
    {
      "cell_type": "code",
      "execution_count": null,
      "metadata": {
        "id": "gIvfnUh5Z3_4",
        "colab": {
          "base_uri": "https://localhost:8080/"
        },
        "outputId": "4cd6e749-bd31-49b1-af0c-4bc9b65e39e6"
      },
      "outputs": [
        {
          "output_type": "execute_result",
          "data": {
            "text/plain": [
              "dict_keys(['categories', 'coordinates', 'display_phone', 'distance', 'id', 'image_url', 'is_closed', 'location', 'name', 'phone', 'price', 'rating', 'review_count', 'transactions', 'url'])"
            ]
          },
          "metadata": {},
          "execution_count": 4
        }
      ],
      "source": [
        "# Run this cell without changes\n",
        "frontier_restaurant.keys()"
      ]
    },
    {
      "cell_type": "code",
      "execution_count": null,
      "metadata": {
        "id": "v_ep2zKtZ3_4",
        "colab": {
          "base_uri": "https://localhost:8080/"
        },
        "outputId": "bcc9ae33-41c4-403b-fe2a-9affac54caf8"
      },
      "outputs": [
        {
          "output_type": "execute_result",
          "data": {
            "text/plain": [
              "True"
            ]
          },
          "metadata": {},
          "execution_count": 5
        }
      ],
      "source": [
        "# Run this cell without changes\n",
        "fork_fig.keys() == frontier_restaurant.keys()"
      ]
    },
    {
      "cell_type": "code",
      "source": [
        "frontier_restaurant"
      ],
      "metadata": {
        "colab": {
          "base_uri": "https://localhost:8080/"
        },
        "id": "kzFDAwOniqpT",
        "outputId": "209779a9-3484-4f2a-adcf-6d81adb06457"
      },
      "execution_count": null,
      "outputs": [
        {
          "output_type": "execute_result",
          "data": {
            "text/plain": [
              "{'categories': [{'alias': 'mexican', 'title': 'Mexican'},\n",
              "  {'alias': 'diners', 'title': 'Diners'},\n",
              "  {'alias': 'tradamerican', 'title': 'American (Traditional)'}],\n",
              " 'coordinates': {'latitude': 35.0808088832532, 'longitude': -106.619402244687},\n",
              " 'display_phone': '(505) 266-0550',\n",
              " 'distance': 4033.6583235266075,\n",
              " 'id': 'frontier-restaurant-albuquerque-2',\n",
              " 'image_url': 'https://s3-media4.fl.yelpcdn.com/bphoto/M9L2z6-G0NobuDJ6YTh6VA/o.jpg',\n",
              " 'is_closed': False,\n",
              " 'location': {'address1': '2400 Central Ave SE',\n",
              "  'address2': '',\n",
              "  'address3': '',\n",
              "  'city': 'Albuquerque',\n",
              "  'country': 'US',\n",
              "  'display_address': ['2400 Central Ave SE', 'Albuquerque, NM 87106'],\n",
              "  'state': 'NM',\n",
              "  'zip_code': '87106'},\n",
              " 'name': 'Frontier Restaurant',\n",
              " 'phone': '+15052660550',\n",
              " 'price': '$',\n",
              " 'rating': 4.0,\n",
              " 'review_count': 1369,\n",
              " 'transactions': [],\n",
              " 'url': 'https://www.yelp.com/biz/frontier-restaurant-albuquerque-2?adjust_creative=SYc8R4Gowqru5h4SBKZXsQ&utm_campaign=yelp_api_v3&utm_medium=api_v3_business_search&utm_source=SYc8R4Gowqru5h4SBKZXsQ'}"
            ]
          },
          "metadata": {},
          "execution_count": 9
        }
      ]
    },
    {
      "cell_type": "markdown",
      "metadata": {
        "id": "yuqGj7bfZ3_4"
      },
      "source": [
        "As we can see from our above comparison, Yelp provides us with the same information for both restaurants.  \n",
        "\n",
        "## Writing Functions to Extract Information\n",
        "\n",
        "Ok, now let's write our functions.\n",
        "\n",
        "Write a function called `restaurant_name()` that, provided a dictionary representing a restaurant like you saw above, returns that restaurant's name."
      ]
    },
    {
      "cell_type": "code",
      "execution_count": null,
      "metadata": {
        "id": "NmWsLRh0Z3_4"
      },
      "outputs": [],
      "source": [
        "def restaurant_name(restaurant):\n",
        "    # Replace None with appropriate code\n",
        "    return restaurant['name']"
      ]
    },
    {
      "cell_type": "code",
      "execution_count": null,
      "metadata": {
        "id": "piNar2HgZ3_4",
        "colab": {
          "base_uri": "https://localhost:8080/",
          "height": 35
        },
        "outputId": "8a4524de-9e15-40fc-df2d-1aa9531cec01"
      },
      "outputs": [
        {
          "output_type": "execute_result",
          "data": {
            "text/plain": [
              "'Frontier Restaurant'"
            ],
            "application/vnd.google.colaboratory.intrinsic+json": {
              "type": "string"
            }
          },
          "metadata": {},
          "execution_count": 13
        }
      ],
      "source": [
        "# Run this cell without changes\n",
        "restaurant_name(frontier_restaurant) # 'Frontier Restaurant'"
      ]
    },
    {
      "cell_type": "code",
      "execution_count": null,
      "metadata": {
        "id": "qCQBCeWQZ3_5",
        "colab": {
          "base_uri": "https://localhost:8080/",
          "height": 35
        },
        "outputId": "650b152d-89ec-4c64-90b5-4769b8a799f4"
      },
      "outputs": [
        {
          "output_type": "execute_result",
          "data": {
            "text/plain": [
              "'Fork & Fig'"
            ],
            "application/vnd.google.colaboratory.intrinsic+json": {
              "type": "string"
            }
          },
          "metadata": {},
          "execution_count": 14
        }
      ],
      "source": [
        "# Run this cell without changes\n",
        "restaurant_name(fork_fig) # 'Fork & Fig'"
      ]
    },
    {
      "cell_type": "markdown",
      "metadata": {
        "id": "xB3D__aqZ3_5"
      },
      "source": [
        "Now write a function called `restaurant_rating()` that returns the rating of the provided restaurant."
      ]
    },
    {
      "cell_type": "code",
      "execution_count": null,
      "metadata": {
        "id": "LNk1_MobZ3_5"
      },
      "outputs": [],
      "source": [
        "def restaurant_rating(restaurant):\n",
        "    # Replace None with appropriate code\n",
        "    return restaurant['rating']"
      ]
    },
    {
      "cell_type": "code",
      "execution_count": null,
      "metadata": {
        "id": "4vIvc0tQZ3_5",
        "colab": {
          "base_uri": "https://localhost:8080/"
        },
        "outputId": "f086a28c-6e2c-49b8-8cd5-9a5b30177eef"
      },
      "outputs": [
        {
          "output_type": "execute_result",
          "data": {
            "text/plain": [
              "4.0"
            ]
          },
          "metadata": {},
          "execution_count": 16
        }
      ],
      "source": [
        "# Run this cell without changes\n",
        "restaurant_rating(frontier_restaurant) # 4.0"
      ]
    },
    {
      "cell_type": "code",
      "execution_count": null,
      "metadata": {
        "id": "HB__fC7BZ3_5",
        "colab": {
          "base_uri": "https://localhost:8080/"
        },
        "outputId": "0721b31c-afe6-4fdf-d724-22eb5b36e4fc"
      },
      "outputs": [
        {
          "output_type": "execute_result",
          "data": {
            "text/plain": [
              "4.5"
            ]
          },
          "metadata": {},
          "execution_count": 17
        }
      ],
      "source": [
        "# Run this cell without changes\n",
        "restaurant_rating(fork_fig) # 4.5"
      ]
    },
    {
      "cell_type": "markdown",
      "metadata": {
        "id": "6uqzUcizZ3_5"
      },
      "source": [
        "## Comparing Restaurants\n",
        "\n",
        "Now let's write a function called `is_better()` that returns `True` if a restaurant has a higher rating than an alternative restaurant.  The first argument should be called `restaurant` and the second argument should be called `alternative`.  The function returns `False` if the two ratings are equal.\n",
        "\n",
        "This function should *call* (AKA *invoke*) your existing `restaurant_rating` function."
      ]
    },
    {
      "cell_type": "code",
      "execution_count": null,
      "metadata": {
        "id": "ViL5gWo4Z3_5"
      },
      "outputs": [],
      "source": [
        "def is_better(restaurant, alternative):\n",
        "    # Replace None with appropriate code\n",
        "    if restaurant_rating(restaurant) > restaurant_rating(alternative):\n",
        "      return True\n",
        "    else:\n",
        "      return False"
      ]
    },
    {
      "cell_type": "code",
      "execution_count": null,
      "metadata": {
        "id": "nK1FUcWPZ3_5",
        "colab": {
          "base_uri": "https://localhost:8080/"
        },
        "outputId": "cbd665d9-fc1b-43c2-9447-1415b0d61a10"
      },
      "outputs": [
        {
          "output_type": "execute_result",
          "data": {
            "text/plain": [
              "False"
            ]
          },
          "metadata": {},
          "execution_count": 22
        }
      ],
      "source": [
        "# Run this cell without changes\n",
        "is_better(frontier_restaurant, fork_fig) # False"
      ]
    },
    {
      "cell_type": "code",
      "execution_count": null,
      "metadata": {
        "id": "TXyrtvg4Z3_5",
        "colab": {
          "base_uri": "https://localhost:8080/"
        },
        "outputId": "e34d3e4c-4ef8-47d6-cb4f-38fb104fb6ea"
      },
      "outputs": [
        {
          "output_type": "execute_result",
          "data": {
            "text/plain": [
              "True"
            ]
          },
          "metadata": {},
          "execution_count": 23
        }
      ],
      "source": [
        "# Run this cell without changes\n",
        "is_better(fork_fig, frontier_restaurant) # True"
      ]
    },
    {
      "cell_type": "code",
      "execution_count": null,
      "metadata": {
        "id": "KjOvfpI_Z3_5",
        "colab": {
          "base_uri": "https://localhost:8080/"
        },
        "outputId": "339d8fe6-8d16-4b1e-ce1a-fc2b332751dd"
      },
      "outputs": [
        {
          "output_type": "execute_result",
          "data": {
            "text/plain": [
              "False"
            ]
          },
          "metadata": {},
          "execution_count": 24
        }
      ],
      "source": [
        "# Run this cell without changes\n",
        "is_better(fork_fig, fork_fig) # False"
      ]
    },
    {
      "cell_type": "markdown",
      "metadata": {
        "id": "FScoeDy9Z3_6"
      },
      "source": [
        "Now let's write a function called `is_cheaper()` that returns `True` if a restaurant has a lower price, that is the restaurant has fewer `'$'` signs, than an alternative restaurant. The first argument should be called `restaurant` and the second argument should be called `alternative`. The function returns `False` if the two prices are equal.\n",
        "\n",
        "> **Hint:** *Strings in Python respond to then `len` function.*"
      ]
    },
    {
      "cell_type": "code",
      "execution_count": null,
      "metadata": {
        "id": "b2KRnv0aZ3_6"
      },
      "outputs": [],
      "source": [
        "def is_cheaper(restaurant, alternative):\n",
        "    # Replace None with appropriate code\n",
        "    if len(restaurant['price']) < len(alternative['price']):\n",
        "      return True\n",
        "    else:\n",
        "      return False"
      ]
    },
    {
      "cell_type": "code",
      "execution_count": null,
      "metadata": {
        "id": "1k5bedL0Z3_6",
        "colab": {
          "base_uri": "https://localhost:8080/"
        },
        "outputId": "b9b7a046-34ef-46ee-ec31-0946f4764c32"
      },
      "outputs": [
        {
          "output_type": "execute_result",
          "data": {
            "text/plain": [
              "False"
            ]
          },
          "metadata": {},
          "execution_count": 28
        }
      ],
      "source": [
        "# Run this cell without changes\n",
        "is_cheaper(fork_fig, frontier_restaurant) # False"
      ]
    },
    {
      "cell_type": "code",
      "execution_count": null,
      "metadata": {
        "id": "X7QeR1J6Z3_6",
        "colab": {
          "base_uri": "https://localhost:8080/"
        },
        "outputId": "5bb7baa2-6a14-45c4-dc53-824e9e01f2ef"
      },
      "outputs": [
        {
          "output_type": "execute_result",
          "data": {
            "text/plain": [
              "True"
            ]
          },
          "metadata": {},
          "execution_count": 29
        }
      ],
      "source": [
        "# Run this cell without changes\n",
        "is_cheaper(frontier_restaurant, fork_fig) # True"
      ]
    },
    {
      "cell_type": "code",
      "execution_count": null,
      "metadata": {
        "id": "o-hxIxrEZ3_6",
        "colab": {
          "base_uri": "https://localhost:8080/"
        },
        "outputId": "2f5eab06-6fc0-42f5-ec06-3a1847295aab"
      },
      "outputs": [
        {
          "output_type": "execute_result",
          "data": {
            "text/plain": [
              "False"
            ]
          },
          "metadata": {},
          "execution_count": 30
        }
      ],
      "source": [
        "# Run this cell without changes\n",
        "is_cheaper(fork_fig, fork_fig) # False"
      ]
    },
    {
      "cell_type": "markdown",
      "metadata": {
        "id": "Lup6QGRQZ3_6"
      },
      "source": [
        "Now write a function called `high_rating()` that takes a `restaurant` as a first argument and a rating (in the form of a number) as the second argument and returns `True` if the given restaurant's rating is greater than or equal to the provided rating and returns `False` otherwise."
      ]
    },
    {
      "cell_type": "code",
      "execution_count": null,
      "metadata": {
        "id": "JSCZLrzbZ3_6"
      },
      "outputs": [],
      "source": [
        "def high_rating(restaurant, rating):\n",
        "    # Replace None with appropriate code\n",
        "    if restaurant['rating'] >= rating:\n",
        "      return True\n",
        "    else:\n",
        "      return False\n"
      ]
    },
    {
      "cell_type": "code",
      "execution_count": null,
      "metadata": {
        "id": "SNNAXwP0Z3_6",
        "colab": {
          "base_uri": "https://localhost:8080/"
        },
        "outputId": "47f1c972-0ecf-42ef-8c01-1a40a8128d78"
      },
      "outputs": [
        {
          "output_type": "execute_result",
          "data": {
            "text/plain": [
              "True"
            ]
          },
          "metadata": {},
          "execution_count": 34
        }
      ],
      "source": [
        "# Run this cell without changes\n",
        "high_rating(fork_fig, 4) # True"
      ]
    },
    {
      "cell_type": "code",
      "execution_count": null,
      "metadata": {
        "id": "tsvK_fI7Z3_6",
        "colab": {
          "base_uri": "https://localhost:8080/"
        },
        "outputId": "d5c99b98-29b2-4362-8f20-0a76b264bfa7"
      },
      "outputs": [
        {
          "output_type": "execute_result",
          "data": {
            "text/plain": [
              "False"
            ]
          },
          "metadata": {},
          "execution_count": 35
        }
      ],
      "source": [
        "# Run this cell without changes\n",
        "high_rating(fork_fig, 5) # False"
      ]
    },
    {
      "cell_type": "code",
      "execution_count": null,
      "metadata": {
        "id": "Lbc3vJMfZ3_6",
        "colab": {
          "base_uri": "https://localhost:8080/"
        },
        "outputId": "bff1f878-110f-4c45-ed68-d4b246762a3b"
      },
      "outputs": [
        {
          "output_type": "execute_result",
          "data": {
            "text/plain": [
              "True"
            ]
          },
          "metadata": {},
          "execution_count": 36
        }
      ],
      "source": [
        "# Run this cell without changes\n",
        "high_rating(frontier_restaurant, 4) # True"
      ]
    },
    {
      "cell_type": "markdown",
      "metadata": {
        "id": "hBjnAh9qZ3_6"
      },
      "source": [
        "Awesome! We have built out some pretty cool functions so far. Let's now think about a case where we have more than just two data points to operate on. We have added some more restaurant dictionaries below and are going to add them to our list of restaurants. Don't worry that they have a slightly different amount of data.\n",
        "\n",
        "We are going to need a function `mean_review_count()` to give us an idea what the typical value for `review_count` is. This function should take in a list of restaurant dictionaries and return the mean of the review counts for the collection of restaurant dictionaries."
      ]
    },
    {
      "cell_type": "code",
      "execution_count": null,
      "metadata": {
        "id": "U5ZIv39uZ3_6"
      },
      "outputs": [],
      "source": [
        "# Run this cell without changes\n",
        "dennys = {'categories': [{'alias': 'breakfast', 'title': 'Breakfast'},\n",
        "  {'alias': 'diners', 'title': 'Diners'},\n",
        "  {'alias': 'tradamerican', 'title': 'American (Traditional)'}],\n",
        " 'is_closed': False,\n",
        " 'name': \"Denny's\",\n",
        " 'price': '$',\n",
        " 'rating': 3.0,\n",
        " 'review_count': 1200}\n",
        "\n",
        "ihop = {'categories': [{'alias': 'breakfast', 'title': 'Breakfast'},\n",
        "  {'alias': 'diners', 'title': 'Diners'},\n",
        "  {'alias': 'tradamerican', 'title': 'American (Traditional)'}],\n",
        " 'is_closed': False,\n",
        " 'name': \"IHOP: International House of Pancakes\",\n",
        " 'price': '$',\n",
        " 'rating': 3.45,\n",
        " 'review_count': 1588}\n",
        "\n",
        "mcdonalds = {'categories': [{'alias': 'breakfast', 'title': 'Breakfast'},\n",
        "  {'alias': 'burgers', 'title': 'Burgers'},\n",
        "  {'alias': 'fast food', 'title': 'Good Food Fast'}],\n",
        " 'is_closed': False,\n",
        " 'name': \"McDonalds\",\n",
        " 'price': '$',\n",
        " 'rating': 3.45,\n",
        " 'review_count': 2455}\n",
        "\n",
        "pearl_street_oyster_bar = {'categories': [{'alias': 'seafood', 'title': 'Seafood'},\n",
        "  {'alias': 'gourmet', 'title': 'Gourmet'},\n",
        "  {'alias': 'Shellfish', 'title': 'Shellfish'}],\n",
        " 'is_closed': False,\n",
        " 'name': \"Pear Street Oyster Bar\",\n",
        " 'price': '$$$',\n",
        " 'rating': 4.75,\n",
        " 'review_count': 350}"
      ]
    },
    {
      "cell_type": "code",
      "execution_count": null,
      "metadata": {
        "id": "9sammQylZ3_6"
      },
      "outputs": [],
      "source": [
        "# Run this cell without changes\n",
        "restaurant_list = [pearl_street_oyster_bar, mcdonalds, ihop, dennys, fork_fig, frontier_restaurant]"
      ]
    },
    {
      "cell_type": "code",
      "source": [
        "#restaurant_list[0:len(restaurant_list)]['rating']\n",
        "x= []\n",
        "for restaurant in restaurant_list:\n",
        "  x.append(restaurant['rating'])\n",
        "y = len(restaurant_list)\n",
        "z = sum(x)\n",
        "\n",
        "print(x, y, z)"
      ],
      "metadata": {
        "colab": {
          "base_uri": "https://localhost:8080/"
        },
        "id": "aoP8MkFRotI6",
        "outputId": "020e3d64-71cd-474e-e852-b5c0bf6b4e7e"
      },
      "execution_count": null,
      "outputs": [
        {
          "output_type": "stream",
          "name": "stdout",
          "text": [
            "[4.75, 3.45, 3.45, 3.0, 4.5, 4.0] 6 23.15\n"
          ]
        }
      ]
    },
    {
      "cell_type": "code",
      "execution_count": null,
      "metadata": {
        "id": "6cRfBXMRZ3_6"
      },
      "outputs": [],
      "source": [
        "def mean_review_count(list_of_restaurants):\n",
        "    # Replace None with appropriate code\n",
        "    total = []\n",
        "    for restaurant in restaurant_list:\n",
        "      total.append(restaurant['review_count'])\n",
        "    return sum(total)/ len(restaurant_list)\n"
      ]
    },
    {
      "cell_type": "code",
      "execution_count": null,
      "metadata": {
        "id": "PROYuzpJZ3_7",
        "colab": {
          "base_uri": "https://localhost:8080/"
        },
        "outputId": "1a24e807-8d35-41ba-c17e-975c768fff86"
      },
      "outputs": [
        {
          "output_type": "execute_result",
          "data": {
            "text/plain": [
              "1261.0"
            ]
          },
          "metadata": {},
          "execution_count": 82
        }
      ],
      "source": [
        "# Run this cell without changes\n",
        "mean_review_count(restaurant_list) #1261.0"
      ]
    },
    {
      "cell_type": "markdown",
      "metadata": {
        "id": "TjJadGf-Z3_7"
      },
      "source": [
        "Now we have an idea of how many reviews a typical restaurant has, but none of these restaurants have exactly that number of reviews.\n",
        "\n",
        "Which restaurants have a `review_count` within 150 of the average? (\"within 150\" meaning exactly average, <= 150 fewer reviews than the average, or <= 150 more reviews than the average)\n",
        "\n",
        "Return a list of the restaurant names."
      ]
    },
    {
      "cell_type": "code",
      "execution_count": null,
      "metadata": {
        "id": "gCqWfN_mZ3_7"
      },
      "outputs": [],
      "source": [
        "def near_average_review_count(list_of_restaurants):\n",
        "    mean = mean_review_count(list_of_restaurants)\n",
        "    # Replace None with appropriate code\n",
        "    within_average = []\n",
        "    for restaurant in list_of_restaurants:\n",
        "      if mean - 150 <= restaurant['review_count'] <= mean + 150:\n",
        "        within_average.append(restaurant['name'])\n",
        "    return within_average\n"
      ]
    },
    {
      "cell_type": "code",
      "execution_count": null,
      "metadata": {
        "id": "1JPoSj5pZ3_7",
        "colab": {
          "base_uri": "https://localhost:8080/"
        },
        "outputId": "35c35f53-b890-4c6f-bb7b-3f8bbbb6a80b"
      },
      "outputs": [
        {
          "output_type": "execute_result",
          "data": {
            "text/plain": [
              "[\"Denny's\", 'Frontier Restaurant']"
            ]
          },
          "metadata": {},
          "execution_count": 117
        }
      ],
      "source": [
        "# Run this cell without changes\n",
        "near_average_review_count(restaurant_list) # [\"Denny's\", 'Frontier Restaurant']"
      ]
    },
    {
      "cell_type": "markdown",
      "metadata": {
        "id": "EF4bH40xZ3_7"
      },
      "source": [
        "## Summary\n",
        "\n",
        "Great! In this lab we saw how to pass both single and multiple arguments to functions. Function arguments can make functions more flexible and reusable!"
      ]
    }
  ],
  "metadata": {
    "kernelspec": {
      "display_name": "Python (learn-env)",
      "language": "python",
      "name": "learn-env"
    },
    "language_info": {
      "codemirror_mode": {
        "name": "ipython",
        "version": 3
      },
      "file_extension": ".py",
      "mimetype": "text/x-python",
      "name": "python",
      "nbconvert_exporter": "python",
      "pygments_lexer": "ipython3",
      "version": "3.8.5"
    },
    "toc": {
      "base_numbering": 1,
      "nav_menu": {},
      "number_sections": true,
      "sideBar": true,
      "skip_h1_title": false,
      "title_cell": "Table of Contents",
      "title_sidebar": "Contents",
      "toc_cell": false,
      "toc_position": {},
      "toc_section_display": true,
      "toc_window_display": false
    },
    "colab": {
      "provenance": [],
      "include_colab_link": true
    }
  },
  "nbformat": 4,
  "nbformat_minor": 0
}