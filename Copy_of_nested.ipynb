{
  "cells": [
    {
      "cell_type": "markdown",
      "metadata": {
        "id": "view-in-github",
        "colab_type": "text"
      },
      "source": [
        "<a href=\"https://colab.research.google.com/github/MutwiriC/MutwiriC/blob/main/Copy_of_nested.ipynb\" target=\"_parent\"><img src=\"https://colab.research.google.com/assets/colab-badge.svg\" alt=\"Open In Colab\"/></a>"
      ]
    },
    {
      "cell_type": "code",
      "source": [
        "\"\"\"\n",
        "cities.csv\n",
        "\n",
        "cities.xlsx\n",
        "\"\"\"\n",
        "\n"
      ],
      "metadata": {
        "id": "9Yi9hcvrIwGT"
      },
      "id": "9Yi9hcvrIwGT",
      "execution_count": null,
      "outputs": []
    },
    {
      "cell_type": "markdown",
      "id": "b42f8bed",
      "metadata": {
        "id": "b42f8bed"
      },
      "source": [
        "### None Datatype\n",
        "In Python, `None` is a special constant that represents the **absence of a value** or **nothingness**.  \n",
        "\n",
        "Key points about `None`:\n",
        "- It is of type `NoneType`.\n",
        "- It is often used to indicate that a variable has not been assigned a value yet.\n",
        "- Functions that don’t explicitly return a value will return `None` by default.\n",
        "- It is useful for representing \"missing\" or \"not available\" data (common in data science).\n",
        "\n",
        "### Common Use Cases:\n",
        "1. **Default function return value** if nothing is returned.\n",
        "2. **Variable initialization** before assigning a real value.\n",
        "3. **Missing data representation** in data processing.\n",
        "4. **Optional function arguments** where `None` acts as a placeholder.\n"
      ]
    },
    {
      "cell_type": "code",
      "execution_count": null,
      "id": "9fcd84af",
      "metadata": {
        "id": "9fcd84af",
        "colab": {
          "base_uri": "https://localhost:8080/"
        },
        "outputId": "c60b3aaf-3354-4048-8b74-897219b883e1"
      },
      "outputs": [
        {
          "output_type": "execute_result",
          "data": {
            "text/plain": [
              "1537.5"
            ]
          },
          "metadata": {},
          "execution_count": 10
        }
      ],
      "source": [
        "# Optional function arguments where None acts as a placeholder\n",
        "def check_price(price, discount=None):\n",
        "  if discount is None:\n",
        "    return price\n",
        "  else:\n",
        "    return price - (price * discount/100)\n",
        "\n",
        "#check_price(2050)\n",
        "check_price(2050, 25)"
      ]
    },
    {
      "cell_type": "code",
      "source": [
        "# Missing data representation in data processing.\n",
        "#example using jumia\n",
        "\n",
        "jumia = {\n",
        "    'phones': ['iphone', None, 'nokia', None, 'oppo'],\n",
        "    'fashion': ['dress', 't-shirt', 'trousers', None, None],\n",
        "    'health_beauty' : ['lotion', None, None, 'mascara', None],\n",
        "    'gaming': ['xbox 360', 'ps4', 'ps5', 'nintendo switch', None]\n",
        "}\n",
        "\n",
        "import pandas as pd\n",
        "\n",
        "df = pd.DataFrame(jumia)\n",
        "\n",
        "df"
      ],
      "metadata": {
        "colab": {
          "base_uri": "https://localhost:8080/",
          "height": 206
        },
        "id": "lB3GQx86QEU2",
        "outputId": "f6cac71f-3abe-460d-8f05-2d06ba5a7d66"
      },
      "id": "lB3GQx86QEU2",
      "execution_count": null,
      "outputs": [
        {
          "output_type": "execute_result",
          "data": {
            "text/plain": [
              "   phones   fashion health_beauty           gaming\n",
              "0  iphone     dress        lotion         xbox 360\n",
              "1    None   t-shirt          None              ps4\n",
              "2   nokia  trousers          None              ps5\n",
              "3    None      None       mascara  nintendo switch\n",
              "4    oppo      None          None             None"
            ],
            "text/html": [
              "\n",
              "  <div id=\"df-e29f684f-626d-489a-b2cc-15439b1c4487\" class=\"colab-df-container\">\n",
              "    <div>\n",
              "<style scoped>\n",
              "    .dataframe tbody tr th:only-of-type {\n",
              "        vertical-align: middle;\n",
              "    }\n",
              "\n",
              "    .dataframe tbody tr th {\n",
              "        vertical-align: top;\n",
              "    }\n",
              "\n",
              "    .dataframe thead th {\n",
              "        text-align: right;\n",
              "    }\n",
              "</style>\n",
              "<table border=\"1\" class=\"dataframe\">\n",
              "  <thead>\n",
              "    <tr style=\"text-align: right;\">\n",
              "      <th></th>\n",
              "      <th>phones</th>\n",
              "      <th>fashion</th>\n",
              "      <th>health_beauty</th>\n",
              "      <th>gaming</th>\n",
              "    </tr>\n",
              "  </thead>\n",
              "  <tbody>\n",
              "    <tr>\n",
              "      <th>0</th>\n",
              "      <td>iphone</td>\n",
              "      <td>dress</td>\n",
              "      <td>lotion</td>\n",
              "      <td>xbox 360</td>\n",
              "    </tr>\n",
              "    <tr>\n",
              "      <th>1</th>\n",
              "      <td>None</td>\n",
              "      <td>t-shirt</td>\n",
              "      <td>None</td>\n",
              "      <td>ps4</td>\n",
              "    </tr>\n",
              "    <tr>\n",
              "      <th>2</th>\n",
              "      <td>nokia</td>\n",
              "      <td>trousers</td>\n",
              "      <td>None</td>\n",
              "      <td>ps5</td>\n",
              "    </tr>\n",
              "    <tr>\n",
              "      <th>3</th>\n",
              "      <td>None</td>\n",
              "      <td>None</td>\n",
              "      <td>mascara</td>\n",
              "      <td>nintendo switch</td>\n",
              "    </tr>\n",
              "    <tr>\n",
              "      <th>4</th>\n",
              "      <td>oppo</td>\n",
              "      <td>None</td>\n",
              "      <td>None</td>\n",
              "      <td>None</td>\n",
              "    </tr>\n",
              "  </tbody>\n",
              "</table>\n",
              "</div>\n",
              "    <div class=\"colab-df-buttons\">\n",
              "\n",
              "  <div class=\"colab-df-container\">\n",
              "    <button class=\"colab-df-convert\" onclick=\"convertToInteractive('df-e29f684f-626d-489a-b2cc-15439b1c4487')\"\n",
              "            title=\"Convert this dataframe to an interactive table.\"\n",
              "            style=\"display:none;\">\n",
              "\n",
              "  <svg xmlns=\"http://www.w3.org/2000/svg\" height=\"24px\" viewBox=\"0 -960 960 960\">\n",
              "    <path d=\"M120-120v-720h720v720H120Zm60-500h600v-160H180v160Zm220 220h160v-160H400v160Zm0 220h160v-160H400v160ZM180-400h160v-160H180v160Zm440 0h160v-160H620v160ZM180-180h160v-160H180v160Zm440 0h160v-160H620v160Z\"/>\n",
              "  </svg>\n",
              "    </button>\n",
              "\n",
              "  <style>\n",
              "    .colab-df-container {\n",
              "      display:flex;\n",
              "      gap: 12px;\n",
              "    }\n",
              "\n",
              "    .colab-df-convert {\n",
              "      background-color: #E8F0FE;\n",
              "      border: none;\n",
              "      border-radius: 50%;\n",
              "      cursor: pointer;\n",
              "      display: none;\n",
              "      fill: #1967D2;\n",
              "      height: 32px;\n",
              "      padding: 0 0 0 0;\n",
              "      width: 32px;\n",
              "    }\n",
              "\n",
              "    .colab-df-convert:hover {\n",
              "      background-color: #E2EBFA;\n",
              "      box-shadow: 0px 1px 2px rgba(60, 64, 67, 0.3), 0px 1px 3px 1px rgba(60, 64, 67, 0.15);\n",
              "      fill: #174EA6;\n",
              "    }\n",
              "\n",
              "    .colab-df-buttons div {\n",
              "      margin-bottom: 4px;\n",
              "    }\n",
              "\n",
              "    [theme=dark] .colab-df-convert {\n",
              "      background-color: #3B4455;\n",
              "      fill: #D2E3FC;\n",
              "    }\n",
              "\n",
              "    [theme=dark] .colab-df-convert:hover {\n",
              "      background-color: #434B5C;\n",
              "      box-shadow: 0px 1px 3px 1px rgba(0, 0, 0, 0.15);\n",
              "      filter: drop-shadow(0px 1px 2px rgba(0, 0, 0, 0.3));\n",
              "      fill: #FFFFFF;\n",
              "    }\n",
              "  </style>\n",
              "\n",
              "    <script>\n",
              "      const buttonEl =\n",
              "        document.querySelector('#df-e29f684f-626d-489a-b2cc-15439b1c4487 button.colab-df-convert');\n",
              "      buttonEl.style.display =\n",
              "        google.colab.kernel.accessAllowed ? 'block' : 'none';\n",
              "\n",
              "      async function convertToInteractive(key) {\n",
              "        const element = document.querySelector('#df-e29f684f-626d-489a-b2cc-15439b1c4487');\n",
              "        const dataTable =\n",
              "          await google.colab.kernel.invokeFunction('convertToInteractive',\n",
              "                                                    [key], {});\n",
              "        if (!dataTable) return;\n",
              "\n",
              "        const docLinkHtml = 'Like what you see? Visit the ' +\n",
              "          '<a target=\"_blank\" href=https://colab.research.google.com/notebooks/data_table.ipynb>data table notebook</a>'\n",
              "          + ' to learn more about interactive tables.';\n",
              "        element.innerHTML = '';\n",
              "        dataTable['output_type'] = 'display_data';\n",
              "        await google.colab.output.renderOutput(dataTable, element);\n",
              "        const docLink = document.createElement('div');\n",
              "        docLink.innerHTML = docLinkHtml;\n",
              "        element.appendChild(docLink);\n",
              "      }\n",
              "    </script>\n",
              "  </div>\n",
              "\n",
              "\n",
              "    <div id=\"df-82206f27-9fcb-4966-b33b-4f5a1294f0b3\">\n",
              "      <button class=\"colab-df-quickchart\" onclick=\"quickchart('df-82206f27-9fcb-4966-b33b-4f5a1294f0b3')\"\n",
              "                title=\"Suggest charts\"\n",
              "                style=\"display:none;\">\n",
              "\n",
              "<svg xmlns=\"http://www.w3.org/2000/svg\" height=\"24px\"viewBox=\"0 0 24 24\"\n",
              "     width=\"24px\">\n",
              "    <g>\n",
              "        <path d=\"M19 3H5c-1.1 0-2 .9-2 2v14c0 1.1.9 2 2 2h14c1.1 0 2-.9 2-2V5c0-1.1-.9-2-2-2zM9 17H7v-7h2v7zm4 0h-2V7h2v10zm4 0h-2v-4h2v4z\"/>\n",
              "    </g>\n",
              "</svg>\n",
              "      </button>\n",
              "\n",
              "<style>\n",
              "  .colab-df-quickchart {\n",
              "      --bg-color: #E8F0FE;\n",
              "      --fill-color: #1967D2;\n",
              "      --hover-bg-color: #E2EBFA;\n",
              "      --hover-fill-color: #174EA6;\n",
              "      --disabled-fill-color: #AAA;\n",
              "      --disabled-bg-color: #DDD;\n",
              "  }\n",
              "\n",
              "  [theme=dark] .colab-df-quickchart {\n",
              "      --bg-color: #3B4455;\n",
              "      --fill-color: #D2E3FC;\n",
              "      --hover-bg-color: #434B5C;\n",
              "      --hover-fill-color: #FFFFFF;\n",
              "      --disabled-bg-color: #3B4455;\n",
              "      --disabled-fill-color: #666;\n",
              "  }\n",
              "\n",
              "  .colab-df-quickchart {\n",
              "    background-color: var(--bg-color);\n",
              "    border: none;\n",
              "    border-radius: 50%;\n",
              "    cursor: pointer;\n",
              "    display: none;\n",
              "    fill: var(--fill-color);\n",
              "    height: 32px;\n",
              "    padding: 0;\n",
              "    width: 32px;\n",
              "  }\n",
              "\n",
              "  .colab-df-quickchart:hover {\n",
              "    background-color: var(--hover-bg-color);\n",
              "    box-shadow: 0 1px 2px rgba(60, 64, 67, 0.3), 0 1px 3px 1px rgba(60, 64, 67, 0.15);\n",
              "    fill: var(--button-hover-fill-color);\n",
              "  }\n",
              "\n",
              "  .colab-df-quickchart-complete:disabled,\n",
              "  .colab-df-quickchart-complete:disabled:hover {\n",
              "    background-color: var(--disabled-bg-color);\n",
              "    fill: var(--disabled-fill-color);\n",
              "    box-shadow: none;\n",
              "  }\n",
              "\n",
              "  .colab-df-spinner {\n",
              "    border: 2px solid var(--fill-color);\n",
              "    border-color: transparent;\n",
              "    border-bottom-color: var(--fill-color);\n",
              "    animation:\n",
              "      spin 1s steps(1) infinite;\n",
              "  }\n",
              "\n",
              "  @keyframes spin {\n",
              "    0% {\n",
              "      border-color: transparent;\n",
              "      border-bottom-color: var(--fill-color);\n",
              "      border-left-color: var(--fill-color);\n",
              "    }\n",
              "    20% {\n",
              "      border-color: transparent;\n",
              "      border-left-color: var(--fill-color);\n",
              "      border-top-color: var(--fill-color);\n",
              "    }\n",
              "    30% {\n",
              "      border-color: transparent;\n",
              "      border-left-color: var(--fill-color);\n",
              "      border-top-color: var(--fill-color);\n",
              "      border-right-color: var(--fill-color);\n",
              "    }\n",
              "    40% {\n",
              "      border-color: transparent;\n",
              "      border-right-color: var(--fill-color);\n",
              "      border-top-color: var(--fill-color);\n",
              "    }\n",
              "    60% {\n",
              "      border-color: transparent;\n",
              "      border-right-color: var(--fill-color);\n",
              "    }\n",
              "    80% {\n",
              "      border-color: transparent;\n",
              "      border-right-color: var(--fill-color);\n",
              "      border-bottom-color: var(--fill-color);\n",
              "    }\n",
              "    90% {\n",
              "      border-color: transparent;\n",
              "      border-bottom-color: var(--fill-color);\n",
              "    }\n",
              "  }\n",
              "</style>\n",
              "\n",
              "      <script>\n",
              "        async function quickchart(key) {\n",
              "          const quickchartButtonEl =\n",
              "            document.querySelector('#' + key + ' button');\n",
              "          quickchartButtonEl.disabled = true;  // To prevent multiple clicks.\n",
              "          quickchartButtonEl.classList.add('colab-df-spinner');\n",
              "          try {\n",
              "            const charts = await google.colab.kernel.invokeFunction(\n",
              "                'suggestCharts', [key], {});\n",
              "          } catch (error) {\n",
              "            console.error('Error during call to suggestCharts:', error);\n",
              "          }\n",
              "          quickchartButtonEl.classList.remove('colab-df-spinner');\n",
              "          quickchartButtonEl.classList.add('colab-df-quickchart-complete');\n",
              "        }\n",
              "        (() => {\n",
              "          let quickchartButtonEl =\n",
              "            document.querySelector('#df-82206f27-9fcb-4966-b33b-4f5a1294f0b3 button');\n",
              "          quickchartButtonEl.style.display =\n",
              "            google.colab.kernel.accessAllowed ? 'block' : 'none';\n",
              "        })();\n",
              "      </script>\n",
              "    </div>\n",
              "\n",
              "  <div id=\"id_e4166eda-cbf0-40e6-a319-9f6866825cdd\">\n",
              "    <style>\n",
              "      .colab-df-generate {\n",
              "        background-color: #E8F0FE;\n",
              "        border: none;\n",
              "        border-radius: 50%;\n",
              "        cursor: pointer;\n",
              "        display: none;\n",
              "        fill: #1967D2;\n",
              "        height: 32px;\n",
              "        padding: 0 0 0 0;\n",
              "        width: 32px;\n",
              "      }\n",
              "\n",
              "      .colab-df-generate:hover {\n",
              "        background-color: #E2EBFA;\n",
              "        box-shadow: 0px 1px 2px rgba(60, 64, 67, 0.3), 0px 1px 3px 1px rgba(60, 64, 67, 0.15);\n",
              "        fill: #174EA6;\n",
              "      }\n",
              "\n",
              "      [theme=dark] .colab-df-generate {\n",
              "        background-color: #3B4455;\n",
              "        fill: #D2E3FC;\n",
              "      }\n",
              "\n",
              "      [theme=dark] .colab-df-generate:hover {\n",
              "        background-color: #434B5C;\n",
              "        box-shadow: 0px 1px 3px 1px rgba(0, 0, 0, 0.15);\n",
              "        filter: drop-shadow(0px 1px 2px rgba(0, 0, 0, 0.3));\n",
              "        fill: #FFFFFF;\n",
              "      }\n",
              "    </style>\n",
              "    <button class=\"colab-df-generate\" onclick=\"generateWithVariable('df')\"\n",
              "            title=\"Generate code using this dataframe.\"\n",
              "            style=\"display:none;\">\n",
              "\n",
              "  <svg xmlns=\"http://www.w3.org/2000/svg\" height=\"24px\"viewBox=\"0 0 24 24\"\n",
              "       width=\"24px\">\n",
              "    <path d=\"M7,19H8.4L18.45,9,17,7.55,7,17.6ZM5,21V16.75L18.45,3.32a2,2,0,0,1,2.83,0l1.4,1.43a1.91,1.91,0,0,1,.58,1.4,1.91,1.91,0,0,1-.58,1.4L9.25,21ZM18.45,9,17,7.55Zm-12,3A5.31,5.31,0,0,0,4.9,8.1,5.31,5.31,0,0,0,1,6.5,5.31,5.31,0,0,0,4.9,4.9,5.31,5.31,0,0,0,6.5,1,5.31,5.31,0,0,0,8.1,4.9,5.31,5.31,0,0,0,12,6.5,5.46,5.46,0,0,0,6.5,12Z\"/>\n",
              "  </svg>\n",
              "    </button>\n",
              "    <script>\n",
              "      (() => {\n",
              "      const buttonEl =\n",
              "        document.querySelector('#id_e4166eda-cbf0-40e6-a319-9f6866825cdd button.colab-df-generate');\n",
              "      buttonEl.style.display =\n",
              "        google.colab.kernel.accessAllowed ? 'block' : 'none';\n",
              "\n",
              "      buttonEl.onclick = () => {\n",
              "        google.colab.notebook.generateWithVariable('df');\n",
              "      }\n",
              "      })();\n",
              "    </script>\n",
              "  </div>\n",
              "\n",
              "    </div>\n",
              "  </div>\n"
            ],
            "application/vnd.google.colaboratory.intrinsic+json": {
              "type": "dataframe",
              "variable_name": "df",
              "summary": "{\n  \"name\": \"df\",\n  \"rows\": 5,\n  \"fields\": [\n    {\n      \"column\": \"phones\",\n      \"properties\": {\n        \"dtype\": \"string\",\n        \"num_unique_values\": 3,\n        \"samples\": [\n          \"iphone\",\n          \"nokia\",\n          \"oppo\"\n        ],\n        \"semantic_type\": \"\",\n        \"description\": \"\"\n      }\n    },\n    {\n      \"column\": \"fashion\",\n      \"properties\": {\n        \"dtype\": \"string\",\n        \"num_unique_values\": 3,\n        \"samples\": [\n          \"dress\",\n          \"t-shirt\",\n          \"trousers\"\n        ],\n        \"semantic_type\": \"\",\n        \"description\": \"\"\n      }\n    },\n    {\n      \"column\": \"health_beauty\",\n      \"properties\": {\n        \"dtype\": \"category\",\n        \"num_unique_values\": 2,\n        \"samples\": [\n          \"mascara\",\n          \"lotion\"\n        ],\n        \"semantic_type\": \"\",\n        \"description\": \"\"\n      }\n    },\n    {\n      \"column\": \"gaming\",\n      \"properties\": {\n        \"dtype\": \"string\",\n        \"num_unique_values\": 4,\n        \"samples\": [\n          \"ps4\",\n          \"nintendo switch\"\n        ],\n        \"semantic_type\": \"\",\n        \"description\": \"\"\n      }\n    }\n  ]\n}"
            }
          },
          "metadata": {},
          "execution_count": 17
        }
      ]
    },
    {
      "cell_type": "code",
      "source": [
        "df.info()"
      ],
      "metadata": {
        "colab": {
          "base_uri": "https://localhost:8080/"
        },
        "id": "8sAWdvZ_Ra3J",
        "outputId": "1e90db00-a6bd-4c8c-8f60-4a953074a0c9"
      },
      "id": "8sAWdvZ_Ra3J",
      "execution_count": null,
      "outputs": [
        {
          "output_type": "stream",
          "name": "stdout",
          "text": [
            "<class 'pandas.core.frame.DataFrame'>\n",
            "RangeIndex: 5 entries, 0 to 4\n",
            "Data columns (total 4 columns):\n",
            " #   Column         Non-Null Count  Dtype \n",
            "---  ------         --------------  ----- \n",
            " 0   phones         3 non-null      object\n",
            " 1   fashion        3 non-null      object\n",
            " 2   health_beauty  2 non-null      object\n",
            " 3   gaming         4 non-null      object\n",
            "dtypes: object(4)\n",
            "memory usage: 292.0+ bytes\n"
          ]
        }
      ]
    },
    {
      "cell_type": "markdown",
      "id": "193ad77d",
      "metadata": {
        "id": "193ad77d"
      },
      "source": [
        "## Introduction to Nesting\n",
        "\n",
        "In this lesson, we will explore the concept of **nesting** in Python programming.  \n",
        "Nesting simply means placing one element or structure inside another. For example:\n",
        "- A **list inside another list**\n",
        "- A **dictionary inside another dictionary**\n",
        "- A **loop inside another loop**\n",
        "\n",
        "These concepts are especially useful in **data science**, where data is often stored in structured or nested formats (like tables, JSON files, or multi-dimensional arrays).\n",
        "\n",
        "#### Objectives\n",
        "\n",
        "1. **Loop over collections** using `for` loops.\n",
        "2. Understand and create **nested lists** and **nested dictionaries**.\n",
        "3. Write and interpret **nested loops** that work with these structures.\n",
        "4. Use **list comprehensions** and **dictionary comprehensions** to write cleaner, more compact code.\n",
        "\n",
        "\n",
        "Let’s start by reviewing simple `for` loops before moving into **nesting**!\n"
      ]
    },
    {
      "cell_type": "code",
      "execution_count": null,
      "id": "e3489887",
      "metadata": {
        "id": "e3489887",
        "colab": {
          "base_uri": "https://localhost:8080/"
        },
        "outputId": "41c76dce-2218-4959-d686-d6b536b49cbe"
      },
      "outputs": [
        {
          "output_type": "execute_result",
          "data": {
            "text/plain": [
              "[2, 3, 4, 5, 6, 7, 8, 9, 10, 11]"
            ]
          },
          "metadata": {},
          "execution_count": 18
        }
      ],
      "source": [
        "#create a list and print out each element in the list\n",
        "\n",
        "numbers = []\n",
        "\n",
        "for i in range(10):\n",
        "  numbers.append(i+2)\n",
        "numbers"
      ]
    },
    {
      "cell_type": "code",
      "source": [
        "squared = []\n",
        "\n",
        "for number in numbers:\n",
        "  squared.append(number ** 2)\n",
        "\n",
        "squared"
      ],
      "metadata": {
        "colab": {
          "base_uri": "https://localhost:8080/"
        },
        "id": "lTYlRXJmUJv9",
        "outputId": "1b84a751-cd2b-42ad-f239-eadfc87574d0"
      },
      "id": "lTYlRXJmUJv9",
      "execution_count": null,
      "outputs": [
        {
          "output_type": "execute_result",
          "data": {
            "text/plain": [
              "[4, 9, 16, 25, 36, 49, 64, 81, 100, 121]"
            ]
          },
          "metadata": {},
          "execution_count": 21
        }
      ]
    },
    {
      "cell_type": "code",
      "source": [
        "#show example of looping with a condition\n",
        "#finding even and odd numbers\n",
        "\n",
        "for number in numbers:\n",
        "  if number % 2 == 0:\n",
        "    print(f'this number {number} is even')\n",
        "\n",
        "  else:\n",
        "    print(f'this number {number} is odd')"
      ],
      "metadata": {
        "colab": {
          "base_uri": "https://localhost:8080/"
        },
        "id": "Mjwp27QPZlYt",
        "outputId": "47f9b9ad-2e47-4b1d-d98a-90fc9b07b854"
      },
      "id": "Mjwp27QPZlYt",
      "execution_count": null,
      "outputs": [
        {
          "output_type": "stream",
          "name": "stdout",
          "text": [
            "this number 2 is even\n",
            "this number 3 is odd\n",
            "this number 4 is even\n",
            "this number 5 is odd\n",
            "this number 6 is even\n",
            "this number 7 is odd\n",
            "this number 8 is even\n",
            "this number 9 is odd\n",
            "this number 10 is even\n",
            "this number 11 is odd\n"
          ]
        }
      ]
    },
    {
      "cell_type": "code",
      "execution_count": null,
      "id": "8d9d807f",
      "metadata": {
        "id": "8d9d807f"
      },
      "outputs": [],
      "source": []
    },
    {
      "cell_type": "markdown",
      "id": "1243bb20",
      "metadata": {
        "id": "1243bb20"
      },
      "source": [
        "In other words, loops allow one line of code to execute on multiple elements in a collection. For example: uppercasing each of the names in a list."
      ]
    },
    {
      "cell_type": "code",
      "execution_count": null,
      "id": "2cdb1281",
      "metadata": {
        "id": "2cdb1281"
      },
      "outputs": [],
      "source": [
        "#create list with lowercase letters and uppercase them using a loop\n",
        "letters = ['rin, gim, tim']\n",
        "for letter in letters:\n",
        "  letter.upper()\n",
        "  letter"
      ]
    },
    {
      "cell_type": "markdown",
      "id": "68abbd28",
      "metadata": {
        "id": "68abbd28"
      },
      "source": [
        "When looping through a collection, sometimes we need **both the item and its position (index)**.\n",
        "\n",
        "\n",
        "While we could use `range(len(collection))` to get the index, this approach is less readable. The built-in `enumerate()` function makes this easier by returning each item **together with its index** in a clean and *Pythonic* way.\n",
        "\n",
        "\n",
        "It also allows us to set a custom starting index, which can be useful when numbering items (e.g., starting roll numbers from 1 instead of 0).\n"
      ]
    },
    {
      "cell_type": "code",
      "execution_count": null,
      "id": "3522a211",
      "metadata": {
        "id": "3522a211",
        "colab": {
          "base_uri": "https://localhost:8080/"
        },
        "outputId": "59b9f021-6088-4181-8d82-51cfd6429b26"
      },
      "outputs": [
        {
          "output_type": "execute_result",
          "data": {
            "text/plain": [
              "['xbox 360', 'ps4', 'ps5', 'nintendo switch', None]"
            ]
          },
          "metadata": {},
          "execution_count": 29
        }
      ],
      "source": [
        "#example looping using enumerate in lists\n",
        "\n",
        "consoles = jumia ['gaming']\n",
        "consoles"
      ]
    },
    {
      "cell_type": "code",
      "source": [
        "for _ in range(len(consoles)):\n",
        "  print(_, consoles[_])"
      ],
      "metadata": {
        "colab": {
          "base_uri": "https://localhost:8080/"
        },
        "id": "mQccvULPaznC",
        "outputId": "a25bf774-b197-4c17-818b-5f4d55f1eb27"
      },
      "id": "mQccvULPaznC",
      "execution_count": null,
      "outputs": [
        {
          "output_type": "stream",
          "name": "stdout",
          "text": [
            "0 xbox 360\n",
            "1 ps4\n",
            "2 ps5\n",
            "3 nintendo switch\n",
            "4 None\n"
          ]
        }
      ]
    },
    {
      "cell_type": "markdown",
      "id": "d07c64b7",
      "metadata": {
        "id": "d07c64b7"
      },
      "source": [
        "### Nested Lists & Dictionaries\n",
        "**Nested list** is a list that contains other lists as its elements. This allows us to represents `multi-dimensional data` eg. a table with rows and columns can be stored as a list of lists.\n",
        "\n",
        "\n",
        "We've seen how to loop over normal lists, lets see how to loop over nested ones.\n"
      ]
    },
    {
      "cell_type": "code",
      "execution_count": null,
      "id": "4405ec4c",
      "metadata": {
        "id": "4405ec4c"
      },
      "outputs": [],
      "source": [
        "#create a nested list and loop over it using nested statements\n",
        "random_numbers = []\n",
        "\n",
        "for i in range(5):\n",
        "  element = [i, i**2, i*2]\n",
        "  random_numbers.append(element)\n"
      ]
    },
    {
      "cell_type": "code",
      "source": [
        "random_numbers"
      ],
      "metadata": {
        "colab": {
          "base_uri": "https://localhost:8080/"
        },
        "id": "NPsjXbA7deLs",
        "outputId": "f472b6c9-e27f-4f34-dfec-d8fefddac89b"
      },
      "id": "NPsjXbA7deLs",
      "execution_count": null,
      "outputs": [
        {
          "output_type": "execute_result",
          "data": {
            "text/plain": [
              "[[0, 0, 0], [1, 1, 2], [2, 4, 4], [3, 9, 6], [4, 16, 8]]"
            ]
          },
          "metadata": {},
          "execution_count": 42
        }
      ]
    },
    {
      "cell_type": "code",
      "source": [
        "for random_number in random_numbers:\n",
        "  for element in random_number:\n",
        "    element +=1\n",
        "    print(element)\n",
        "  print(random_number)"
      ],
      "metadata": {
        "colab": {
          "base_uri": "https://localhost:8080/"
        },
        "id": "1F0k105vd9Vh",
        "outputId": "b1051295-450f-4904-b51e-e75594569b09"
      },
      "id": "1F0k105vd9Vh",
      "execution_count": null,
      "outputs": [
        {
          "output_type": "stream",
          "name": "stdout",
          "text": [
            "1\n",
            "1\n",
            "1\n",
            "[0, 0, 0]\n",
            "2\n",
            "2\n",
            "3\n",
            "[1, 1, 2]\n",
            "3\n",
            "5\n",
            "5\n",
            "[2, 4, 4]\n",
            "4\n",
            "10\n",
            "7\n",
            "[3, 9, 6]\n",
            "5\n",
            "17\n",
            "9\n",
            "[4, 16, 8]\n"
          ]
        }
      ]
    },
    {
      "cell_type": "code",
      "source": [
        "for random_number in random_numbers:\n",
        "  print(random_number)\n",
        "\n",
        "  for number in random_number:\n",
        "    print(number)"
      ],
      "metadata": {
        "colab": {
          "base_uri": "https://localhost:8080/"
        },
        "id": "ocSbddYKfLnp",
        "outputId": "329e0e7a-1e7d-4786-f572-56e17ad466df"
      },
      "id": "ocSbddYKfLnp",
      "execution_count": null,
      "outputs": [
        {
          "output_type": "stream",
          "name": "stdout",
          "text": [
            "[0, 0, 0]\n",
            "0\n",
            "0\n",
            "0\n",
            "[1, 1, 2]\n",
            "1\n",
            "1\n",
            "2\n",
            "[2, 4, 4]\n",
            "2\n",
            "4\n",
            "4\n",
            "[3, 9, 6]\n",
            "3\n",
            "9\n",
            "6\n",
            "[4, 16, 8]\n",
            "4\n",
            "16\n",
            "8\n"
          ]
        }
      ]
    },
    {
      "cell_type": "markdown",
      "id": "b4638f5f",
      "metadata": {
        "id": "b4638f5f"
      },
      "source": [
        "Now, similar to **nested lists**, **nested dicitonaries** are `dictionaries that are inside dictionaries`. The allow us to represent more complex, structured data where each key can map to another dictionary.\n",
        "\n",
        "This particularly useful when working with **real-world datasets** like the Jumia(online shopping) example we saw yesterday.\n",
        "\n",
        "Lets see how to loop over a nested dictionary."
      ]
    },
    {
      "cell_type": "code",
      "execution_count": 46,
      "id": "b9e123f8",
      "metadata": {
        "id": "b9e123f8",
        "colab": {
          "base_uri": "https://localhost:8080/"
        },
        "outputId": "1b379224-7afe-4e0c-ab1b-2ca9dcbafb00"
      },
      "outputs": [
        {
          "output_type": "execute_result",
          "data": {
            "text/plain": [
              "dict"
            ]
          },
          "metadata": {},
          "execution_count": 46
        }
      ],
      "source": [
        "#recreate jumia example\n",
        "jumia_products = {\n",
        "    'smartphone': {'category': 'phones & tablets', 'Price': 11464},\n",
        "    'toiletries': {'category': 'Health & Beauty', 'Price': 999},\n",
        "    'computers': {'category': 'Computing', 'Name': 'HP', 'Price': 22500},\n",
        "    'computers_1': {'category': 'Computing', 'Name': 'Macbook M4', 'Price': 22500}\n",
        "}\n",
        "#this is a nested dictonary\n",
        "type(jumia_products)"
      ]
    },
    {
      "cell_type": "code",
      "execution_count": 5,
      "id": "20d57e76",
      "metadata": {
        "id": "20d57e76",
        "colab": {
          "base_uri": "https://localhost:8080/"
        },
        "outputId": "561f1e99-6bb6-4fa2-f10e-890bc6307540"
      },
      "outputs": [
        {
          "output_type": "execute_result",
          "data": {
            "text/plain": [
              "dict_items([('smartphone', {'category': 'phones & tablets', 'Price': 11464}), ('toiletries', {'category': 'Health & Beauty', 'Price': 999}), ('computers', {'categort': 'Computing', 'Price': 22500})])"
            ]
          },
          "metadata": {},
          "execution_count": 5
        }
      ],
      "source": [
        "jumia_products.items()"
      ]
    },
    {
      "cell_type": "code",
      "source": [
        "for key, val in jumia_products.items():\n",
        "  print(key,val)\n",
        "  for keey, vaal in val.items():\n",
        "    print(keey, vaal)"
      ],
      "metadata": {
        "colab": {
          "base_uri": "https://localhost:8080/"
        },
        "id": "heHJJ-B5ds2V",
        "outputId": "344e3b05-282c-4392-bba7-d4a7e9407cae"
      },
      "id": "heHJJ-B5ds2V",
      "execution_count": 32,
      "outputs": [
        {
          "output_type": "stream",
          "name": "stdout",
          "text": [
            "smartphone\n",
            "toiletries\n",
            "computers\n",
            "computers_1\n"
          ]
        }
      ]
    },
    {
      "cell_type": "code",
      "source": [
        "for key, value in jumia_products.items():\n",
        " # print(key,val)\n",
        "  #print('This is the {}: This is the {}'.format(key,value))\n",
        "  for inner_key, inner_value in value.items():\n",
        "    print('This is the {}: This is the {}'.format(inner_key,inner_value))\n",
        "#printing out inner keys and values"
      ],
      "metadata": {
        "colab": {
          "base_uri": "https://localhost:8080/"
        },
        "id": "BIOk5NMxgQFF",
        "outputId": "092b8276-13a0-4b83-c539-76d25faec89e"
      },
      "id": "BIOk5NMxgQFF",
      "execution_count": 15,
      "outputs": [
        {
          "output_type": "stream",
          "name": "stdout",
          "text": [
            "This is the category: This is the phones & tablets\n",
            "This is the Price: This is the 11464\n",
            "This is the category: This is the Health & Beauty\n",
            "This is the Price: This is the 999\n",
            "This is the categort: This is the Computing\n",
            "This is the Price: This is the 22500\n"
          ]
        }
      ]
    },
    {
      "cell_type": "markdown",
      "id": "22348a3b",
      "metadata": {
        "id": "22348a3b"
      },
      "source": [
        "##### Test yourself: Using Nested Dictionaries with Conditionals\n",
        "From the `...`, print only the products that belong to the **...** category.  \n",
        "For each product, display its name and price.\n",
        "\n",
        "\n"
      ]
    },
    {
      "cell_type": "code",
      "execution_count": 39,
      "id": "ba78fd52",
      "metadata": {
        "id": "ba78fd52"
      },
      "outputs": [],
      "source": [
        "#printing out a particular category\n",
        "\n",
        "for key, value in jumia_products.items():\n",
        " # print(key,val)\n",
        "  #print('This is the {}: This is the {}'.format(key,value))\n",
        "  for inner_key, inner_value in value.items():\n",
        "    if key == 'Computers':\n",
        "     # print('This is the {}: This is the {}'.format(inner_key,inner_value))\n",
        "      print (value['Name'])\n",
        "#printing out inner keys and values"
      ]
    },
    {
      "cell_type": "code",
      "source": [
        "for key, value in jumia_products.items():\n",
        "  for inner_key, inner_value in value.items():\n",
        "    if inner_key == 'category'and inner_value =='Computing':\n",
        "      print(value['Name'], value ['Price'])\n",
        "\n",
        "\n"
      ],
      "metadata": {
        "colab": {
          "base_uri": "https://localhost:8080/"
        },
        "collapsed": true,
        "id": "ssQW5LjIl7jc",
        "outputId": "5d34aa34-4837-4f9d-bc42-46f92c48df44"
      },
      "id": "ssQW5LjIl7jc",
      "execution_count": 53,
      "outputs": [
        {
          "output_type": "stream",
          "name": "stdout",
          "text": [
            "HP 22500\n",
            "Macbook M4 22500\n"
          ]
        }
      ]
    },
    {
      "cell_type": "code",
      "source": [
        "for key, value in jumia_products.items():\n",
        "  if value['category'] == 'Computing':\n",
        "    print(value['Name'], value['Price'])"
      ],
      "metadata": {
        "colab": {
          "base_uri": "https://localhost:8080/"
        },
        "id": "CZXRE2tClUz0",
        "outputId": "8f579d9b-c09f-40d0-e2ab-77cec1b51604"
      },
      "id": "CZXRE2tClUz0",
      "execution_count": 51,
      "outputs": [
        {
          "output_type": "stream",
          "name": "stdout",
          "text": [
            "HP 22500\n",
            "Macbook M4 22500\n"
          ]
        }
      ]
    },
    {
      "cell_type": "markdown",
      "id": "33259cfd",
      "metadata": {
        "id": "33259cfd"
      },
      "source": [
        "### Comprehensions\n",
        "A **comprehension** is a concise way to create new lists or dictionaries in Python.  \n",
        "It lets us write in **one line** what would otherwise take several lines with a `for` loop.  \n",
        "\n",
        "There are two main types we’ll focus on:\n",
        "- **List comprehensions** → create lists\n",
        "- **Dictionary comprehensions** → create dictionaries\n"
      ]
    },
    {
      "cell_type": "code",
      "execution_count": null,
      "id": "41dd5268",
      "metadata": {
        "id": "41dd5268"
      },
      "outputs": [],
      "source": [
        "##list comprehension"
      ]
    },
    {
      "cell_type": "code",
      "execution_count": null,
      "id": "b2acbd44",
      "metadata": {
        "id": "b2acbd44"
      },
      "outputs": [],
      "source": [
        "##dictionary comprehension"
      ]
    }
  ],
  "metadata": {
    "kernelspec": {
      "display_name": "xBase",
      "language": "python",
      "name": "python3"
    },
    "language_info": {
      "codemirror_mode": {
        "name": "ipython",
        "version": 3
      },
      "file_extension": ".py",
      "mimetype": "text/x-python",
      "name": "python",
      "nbconvert_exporter": "python",
      "pygments_lexer": "ipython3",
      "version": "3.12.3"
    },
    "colab": {
      "provenance": [],
      "include_colab_link": true
    }
  },
  "nbformat": 4,
  "nbformat_minor": 5
}