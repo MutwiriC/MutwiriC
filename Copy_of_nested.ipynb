{
  "cells": [
    {
      "cell_type": "markdown",
      "metadata": {
        "id": "view-in-github",
        "colab_type": "text"
      },
      "source": [
        "<a href=\"https://colab.research.google.com/github/MutwiriC/MutwiriC/blob/main/Copy_of_nested.ipynb\" target=\"_parent\"><img src=\"https://colab.research.google.com/assets/colab-badge.svg\" alt=\"Open In Colab\"/></a>"
      ]
    },
    {
      "cell_type": "code",
      "source": [
        "j = []"
      ],
      "metadata": {
        "id": "79J2eMKULWRz"
      },
      "id": "79J2eMKULWRz",
      "execution_count": null,
      "outputs": []
    },
    {
      "cell_type": "code",
      "source": [
        "j_1 = None"
      ],
      "metadata": {
        "id": "rYNHB261LaPp"
      },
      "id": "rYNHB261LaPp",
      "execution_count": null,
      "outputs": []
    },
    {
      "cell_type": "code",
      "source": [
        "j == j_1"
      ],
      "metadata": {
        "colab": {
          "base_uri": "https://localhost:8080/"
        },
        "id": "lUlcMUJ_LecJ",
        "outputId": "77ba6fa4-a4a0-4557-f942-bbfacb08da99"
      },
      "id": "lUlcMUJ_LecJ",
      "execution_count": null,
      "outputs": [
        {
          "output_type": "execute_result",
          "data": {
            "text/plain": [
              "False"
            ]
          },
          "metadata": {},
          "execution_count": 34
        }
      ]
    },
    {
      "cell_type": "code",
      "source": [
        "x = 3\n",
        "\n",
        "y = 3\n",
        "\n",
        "x == y"
      ],
      "metadata": {
        "colab": {
          "base_uri": "https://localhost:8080/"
        },
        "id": "O1ag06kpMKm9",
        "outputId": "b805514c-5778-437b-e77c-4d98547917d5"
      },
      "id": "O1ag06kpMKm9",
      "execution_count": null,
      "outputs": [
        {
          "output_type": "execute_result",
          "data": {
            "text/plain": [
              "True"
            ]
          },
          "metadata": {},
          "execution_count": 35
        }
      ]
    },
    {
      "cell_type": "markdown",
      "id": "b42f8bed",
      "metadata": {
        "id": "b42f8bed"
      },
      "source": [
        "### None Datatype\n",
        "In Python, `None` is a special constant that represents the **absence of a value** or **nothingness**.  \n",
        "\n",
        "Key points about `None`:\n",
        "- It is of type `NoneType`.\n",
        "- It is often used to indicate that a variable has not been assigned a value yet.\n",
        "- Functions that don’t explicitly return a value will return `None` by default.\n",
        "- It is useful for representing \"missing\" or \"not available\" data (common in data science).\n",
        "\n",
        "### Common Use Cases:\n",
        "1. **Default function return value** if nothing is returned.\n",
        "2. **Variable initialization** before assigning a real value.\n",
        "3. **Missing data representation** in data processing.\n",
        "4. **Optional function arguments** where `None` acts as a placeholder.\n"
      ]
    },
    {
      "cell_type": "code",
      "execution_count": null,
      "id": "9fcd84af",
      "metadata": {
        "colab": {
          "base_uri": "https://localhost:8080/"
        },
        "id": "9fcd84af",
        "outputId": "96e64d51-c680-4894-c6a6-3fc65ba47540"
      },
      "outputs": [
        {
          "output_type": "execute_result",
          "data": {
            "text/plain": [
              "2050"
            ]
          },
          "metadata": {},
          "execution_count": 36
        }
      ],
      "source": [
        "##example using jumia shopping\n",
        "\n",
        "def check_price(price, discount=None):\n",
        "  if discount is None:\n",
        "    return price\n",
        "  else:\n",
        "    return price - (price * discount/100)\n",
        "\n",
        "\n",
        "check_price(2050)"
      ]
    },
    {
      "cell_type": "code",
      "source": [
        "check_price(2050, 25)"
      ],
      "metadata": {
        "colab": {
          "base_uri": "https://localhost:8080/"
        },
        "id": "QhVk05PyOvim",
        "outputId": "8fd06a47-fccd-43b2-ed9f-4f668883687d"
      },
      "id": "QhVk05PyOvim",
      "execution_count": null,
      "outputs": [
        {
          "output_type": "execute_result",
          "data": {
            "text/plain": [
              "1537.5"
            ]
          },
          "metadata": {},
          "execution_count": 37
        }
      ]
    },
    {
      "cell_type": "code",
      "source": [
        "jumia = {\n",
        "    'phones': ['iphone', None, 'nokia', None, 'oppo'],\n",
        "    'fashion': [None, 't-shirt', 'trousers', 'hats', None],\n",
        "    'health_beauty' : ['lotion', None, None, 'foundation', 'mascara'],\n",
        "    'gaming': ['xbox 360', 'ps4', 'ps5', 'nintendo switch', 'psp']\n",
        "}\n",
        "\n",
        "# Nan\n",
        "\n",
        "import pandas as pd\n",
        "\n",
        "df = pd.DataFrame(jumia)\n",
        "\n",
        "df"
      ],
      "metadata": {
        "colab": {
          "base_uri": "https://localhost:8080/",
          "height": 206
        },
        "id": "RCqmQTIdPlAz",
        "outputId": "3991a871-00c3-4eba-9948-4e2f5ce2e9d0"
      },
      "id": "RCqmQTIdPlAz",
      "execution_count": null,
      "outputs": [
        {
          "output_type": "execute_result",
          "data": {
            "text/plain": [
              "   phones   fashion health_beauty           gaming\n",
              "0  iphone      None        lotion         xbox 360\n",
              "1    None   t-shirt          None              ps4\n",
              "2   nokia  trousers          None              ps5\n",
              "3    None      hats    foundation  nintendo switch\n",
              "4    oppo      None       mascara              psp"
            ],
            "text/html": [
              "\n",
              "  <div id=\"df-fa75b980-8344-45de-8948-6973c9e88c38\" class=\"colab-df-container\">\n",
              "    <div>\n",
              "<style scoped>\n",
              "    .dataframe tbody tr th:only-of-type {\n",
              "        vertical-align: middle;\n",
              "    }\n",
              "\n",
              "    .dataframe tbody tr th {\n",
              "        vertical-align: top;\n",
              "    }\n",
              "\n",
              "    .dataframe thead th {\n",
              "        text-align: right;\n",
              "    }\n",
              "</style>\n",
              "<table border=\"1\" class=\"dataframe\">\n",
              "  <thead>\n",
              "    <tr style=\"text-align: right;\">\n",
              "      <th></th>\n",
              "      <th>phones</th>\n",
              "      <th>fashion</th>\n",
              "      <th>health_beauty</th>\n",
              "      <th>gaming</th>\n",
              "    </tr>\n",
              "  </thead>\n",
              "  <tbody>\n",
              "    <tr>\n",
              "      <th>0</th>\n",
              "      <td>iphone</td>\n",
              "      <td>None</td>\n",
              "      <td>lotion</td>\n",
              "      <td>xbox 360</td>\n",
              "    </tr>\n",
              "    <tr>\n",
              "      <th>1</th>\n",
              "      <td>None</td>\n",
              "      <td>t-shirt</td>\n",
              "      <td>None</td>\n",
              "      <td>ps4</td>\n",
              "    </tr>\n",
              "    <tr>\n",
              "      <th>2</th>\n",
              "      <td>nokia</td>\n",
              "      <td>trousers</td>\n",
              "      <td>None</td>\n",
              "      <td>ps5</td>\n",
              "    </tr>\n",
              "    <tr>\n",
              "      <th>3</th>\n",
              "      <td>None</td>\n",
              "      <td>hats</td>\n",
              "      <td>foundation</td>\n",
              "      <td>nintendo switch</td>\n",
              "    </tr>\n",
              "    <tr>\n",
              "      <th>4</th>\n",
              "      <td>oppo</td>\n",
              "      <td>None</td>\n",
              "      <td>mascara</td>\n",
              "      <td>psp</td>\n",
              "    </tr>\n",
              "  </tbody>\n",
              "</table>\n",
              "</div>\n",
              "    <div class=\"colab-df-buttons\">\n",
              "\n",
              "  <div class=\"colab-df-container\">\n",
              "    <button class=\"colab-df-convert\" onclick=\"convertToInteractive('df-fa75b980-8344-45de-8948-6973c9e88c38')\"\n",
              "            title=\"Convert this dataframe to an interactive table.\"\n",
              "            style=\"display:none;\">\n",
              "\n",
              "  <svg xmlns=\"http://www.w3.org/2000/svg\" height=\"24px\" viewBox=\"0 -960 960 960\">\n",
              "    <path d=\"M120-120v-720h720v720H120Zm60-500h600v-160H180v160Zm220 220h160v-160H400v160Zm0 220h160v-160H400v160ZM180-400h160v-160H180v160Zm440 0h160v-160H620v160ZM180-180h160v-160H180v160Zm440 0h160v-160H620v160Z\"/>\n",
              "  </svg>\n",
              "    </button>\n",
              "\n",
              "  <style>\n",
              "    .colab-df-container {\n",
              "      display:flex;\n",
              "      gap: 12px;\n",
              "    }\n",
              "\n",
              "    .colab-df-convert {\n",
              "      background-color: #E8F0FE;\n",
              "      border: none;\n",
              "      border-radius: 50%;\n",
              "      cursor: pointer;\n",
              "      display: none;\n",
              "      fill: #1967D2;\n",
              "      height: 32px;\n",
              "      padding: 0 0 0 0;\n",
              "      width: 32px;\n",
              "    }\n",
              "\n",
              "    .colab-df-convert:hover {\n",
              "      background-color: #E2EBFA;\n",
              "      box-shadow: 0px 1px 2px rgba(60, 64, 67, 0.3), 0px 1px 3px 1px rgba(60, 64, 67, 0.15);\n",
              "      fill: #174EA6;\n",
              "    }\n",
              "\n",
              "    .colab-df-buttons div {\n",
              "      margin-bottom: 4px;\n",
              "    }\n",
              "\n",
              "    [theme=dark] .colab-df-convert {\n",
              "      background-color: #3B4455;\n",
              "      fill: #D2E3FC;\n",
              "    }\n",
              "\n",
              "    [theme=dark] .colab-df-convert:hover {\n",
              "      background-color: #434B5C;\n",
              "      box-shadow: 0px 1px 3px 1px rgba(0, 0, 0, 0.15);\n",
              "      filter: drop-shadow(0px 1px 2px rgba(0, 0, 0, 0.3));\n",
              "      fill: #FFFFFF;\n",
              "    }\n",
              "  </style>\n",
              "\n",
              "    <script>\n",
              "      const buttonEl =\n",
              "        document.querySelector('#df-fa75b980-8344-45de-8948-6973c9e88c38 button.colab-df-convert');\n",
              "      buttonEl.style.display =\n",
              "        google.colab.kernel.accessAllowed ? 'block' : 'none';\n",
              "\n",
              "      async function convertToInteractive(key) {\n",
              "        const element = document.querySelector('#df-fa75b980-8344-45de-8948-6973c9e88c38');\n",
              "        const dataTable =\n",
              "          await google.colab.kernel.invokeFunction('convertToInteractive',\n",
              "                                                    [key], {});\n",
              "        if (!dataTable) return;\n",
              "\n",
              "        const docLinkHtml = 'Like what you see? Visit the ' +\n",
              "          '<a target=\"_blank\" href=https://colab.research.google.com/notebooks/data_table.ipynb>data table notebook</a>'\n",
              "          + ' to learn more about interactive tables.';\n",
              "        element.innerHTML = '';\n",
              "        dataTable['output_type'] = 'display_data';\n",
              "        await google.colab.output.renderOutput(dataTable, element);\n",
              "        const docLink = document.createElement('div');\n",
              "        docLink.innerHTML = docLinkHtml;\n",
              "        element.appendChild(docLink);\n",
              "      }\n",
              "    </script>\n",
              "  </div>\n",
              "\n",
              "\n",
              "    <div id=\"df-bfa662f0-948e-4665-bf6b-80f20b2a5a4f\">\n",
              "      <button class=\"colab-df-quickchart\" onclick=\"quickchart('df-bfa662f0-948e-4665-bf6b-80f20b2a5a4f')\"\n",
              "                title=\"Suggest charts\"\n",
              "                style=\"display:none;\">\n",
              "\n",
              "<svg xmlns=\"http://www.w3.org/2000/svg\" height=\"24px\"viewBox=\"0 0 24 24\"\n",
              "     width=\"24px\">\n",
              "    <g>\n",
              "        <path d=\"M19 3H5c-1.1 0-2 .9-2 2v14c0 1.1.9 2 2 2h14c1.1 0 2-.9 2-2V5c0-1.1-.9-2-2-2zM9 17H7v-7h2v7zm4 0h-2V7h2v10zm4 0h-2v-4h2v4z\"/>\n",
              "    </g>\n",
              "</svg>\n",
              "      </button>\n",
              "\n",
              "<style>\n",
              "  .colab-df-quickchart {\n",
              "      --bg-color: #E8F0FE;\n",
              "      --fill-color: #1967D2;\n",
              "      --hover-bg-color: #E2EBFA;\n",
              "      --hover-fill-color: #174EA6;\n",
              "      --disabled-fill-color: #AAA;\n",
              "      --disabled-bg-color: #DDD;\n",
              "  }\n",
              "\n",
              "  [theme=dark] .colab-df-quickchart {\n",
              "      --bg-color: #3B4455;\n",
              "      --fill-color: #D2E3FC;\n",
              "      --hover-bg-color: #434B5C;\n",
              "      --hover-fill-color: #FFFFFF;\n",
              "      --disabled-bg-color: #3B4455;\n",
              "      --disabled-fill-color: #666;\n",
              "  }\n",
              "\n",
              "  .colab-df-quickchart {\n",
              "    background-color: var(--bg-color);\n",
              "    border: none;\n",
              "    border-radius: 50%;\n",
              "    cursor: pointer;\n",
              "    display: none;\n",
              "    fill: var(--fill-color);\n",
              "    height: 32px;\n",
              "    padding: 0;\n",
              "    width: 32px;\n",
              "  }\n",
              "\n",
              "  .colab-df-quickchart:hover {\n",
              "    background-color: var(--hover-bg-color);\n",
              "    box-shadow: 0 1px 2px rgba(60, 64, 67, 0.3), 0 1px 3px 1px rgba(60, 64, 67, 0.15);\n",
              "    fill: var(--button-hover-fill-color);\n",
              "  }\n",
              "\n",
              "  .colab-df-quickchart-complete:disabled,\n",
              "  .colab-df-quickchart-complete:disabled:hover {\n",
              "    background-color: var(--disabled-bg-color);\n",
              "    fill: var(--disabled-fill-color);\n",
              "    box-shadow: none;\n",
              "  }\n",
              "\n",
              "  .colab-df-spinner {\n",
              "    border: 2px solid var(--fill-color);\n",
              "    border-color: transparent;\n",
              "    border-bottom-color: var(--fill-color);\n",
              "    animation:\n",
              "      spin 1s steps(1) infinite;\n",
              "  }\n",
              "\n",
              "  @keyframes spin {\n",
              "    0% {\n",
              "      border-color: transparent;\n",
              "      border-bottom-color: var(--fill-color);\n",
              "      border-left-color: var(--fill-color);\n",
              "    }\n",
              "    20% {\n",
              "      border-color: transparent;\n",
              "      border-left-color: var(--fill-color);\n",
              "      border-top-color: var(--fill-color);\n",
              "    }\n",
              "    30% {\n",
              "      border-color: transparent;\n",
              "      border-left-color: var(--fill-color);\n",
              "      border-top-color: var(--fill-color);\n",
              "      border-right-color: var(--fill-color);\n",
              "    }\n",
              "    40% {\n",
              "      border-color: transparent;\n",
              "      border-right-color: var(--fill-color);\n",
              "      border-top-color: var(--fill-color);\n",
              "    }\n",
              "    60% {\n",
              "      border-color: transparent;\n",
              "      border-right-color: var(--fill-color);\n",
              "    }\n",
              "    80% {\n",
              "      border-color: transparent;\n",
              "      border-right-color: var(--fill-color);\n",
              "      border-bottom-color: var(--fill-color);\n",
              "    }\n",
              "    90% {\n",
              "      border-color: transparent;\n",
              "      border-bottom-color: var(--fill-color);\n",
              "    }\n",
              "  }\n",
              "</style>\n",
              "\n",
              "      <script>\n",
              "        async function quickchart(key) {\n",
              "          const quickchartButtonEl =\n",
              "            document.querySelector('#' + key + ' button');\n",
              "          quickchartButtonEl.disabled = true;  // To prevent multiple clicks.\n",
              "          quickchartButtonEl.classList.add('colab-df-spinner');\n",
              "          try {\n",
              "            const charts = await google.colab.kernel.invokeFunction(\n",
              "                'suggestCharts', [key], {});\n",
              "          } catch (error) {\n",
              "            console.error('Error during call to suggestCharts:', error);\n",
              "          }\n",
              "          quickchartButtonEl.classList.remove('colab-df-spinner');\n",
              "          quickchartButtonEl.classList.add('colab-df-quickchart-complete');\n",
              "        }\n",
              "        (() => {\n",
              "          let quickchartButtonEl =\n",
              "            document.querySelector('#df-bfa662f0-948e-4665-bf6b-80f20b2a5a4f button');\n",
              "          quickchartButtonEl.style.display =\n",
              "            google.colab.kernel.accessAllowed ? 'block' : 'none';\n",
              "        })();\n",
              "      </script>\n",
              "    </div>\n",
              "\n",
              "  <div id=\"id_4402f442-b7d7-44ce-8ed5-13e9c17aa295\">\n",
              "    <style>\n",
              "      .colab-df-generate {\n",
              "        background-color: #E8F0FE;\n",
              "        border: none;\n",
              "        border-radius: 50%;\n",
              "        cursor: pointer;\n",
              "        display: none;\n",
              "        fill: #1967D2;\n",
              "        height: 32px;\n",
              "        padding: 0 0 0 0;\n",
              "        width: 32px;\n",
              "      }\n",
              "\n",
              "      .colab-df-generate:hover {\n",
              "        background-color: #E2EBFA;\n",
              "        box-shadow: 0px 1px 2px rgba(60, 64, 67, 0.3), 0px 1px 3px 1px rgba(60, 64, 67, 0.15);\n",
              "        fill: #174EA6;\n",
              "      }\n",
              "\n",
              "      [theme=dark] .colab-df-generate {\n",
              "        background-color: #3B4455;\n",
              "        fill: #D2E3FC;\n",
              "      }\n",
              "\n",
              "      [theme=dark] .colab-df-generate:hover {\n",
              "        background-color: #434B5C;\n",
              "        box-shadow: 0px 1px 3px 1px rgba(0, 0, 0, 0.15);\n",
              "        filter: drop-shadow(0px 1px 2px rgba(0, 0, 0, 0.3));\n",
              "        fill: #FFFFFF;\n",
              "      }\n",
              "    </style>\n",
              "    <button class=\"colab-df-generate\" onclick=\"generateWithVariable('df')\"\n",
              "            title=\"Generate code using this dataframe.\"\n",
              "            style=\"display:none;\">\n",
              "\n",
              "  <svg xmlns=\"http://www.w3.org/2000/svg\" height=\"24px\"viewBox=\"0 0 24 24\"\n",
              "       width=\"24px\">\n",
              "    <path d=\"M7,19H8.4L18.45,9,17,7.55,7,17.6ZM5,21V16.75L18.45,3.32a2,2,0,0,1,2.83,0l1.4,1.43a1.91,1.91,0,0,1,.58,1.4,1.91,1.91,0,0,1-.58,1.4L9.25,21ZM18.45,9,17,7.55Zm-12,3A5.31,5.31,0,0,0,4.9,8.1,5.31,5.31,0,0,0,1,6.5,5.31,5.31,0,0,0,4.9,4.9,5.31,5.31,0,0,0,6.5,1,5.31,5.31,0,0,0,8.1,4.9,5.31,5.31,0,0,0,12,6.5,5.46,5.46,0,0,0,6.5,12Z\"/>\n",
              "  </svg>\n",
              "    </button>\n",
              "    <script>\n",
              "      (() => {\n",
              "      const buttonEl =\n",
              "        document.querySelector('#id_4402f442-b7d7-44ce-8ed5-13e9c17aa295 button.colab-df-generate');\n",
              "      buttonEl.style.display =\n",
              "        google.colab.kernel.accessAllowed ? 'block' : 'none';\n",
              "\n",
              "      buttonEl.onclick = () => {\n",
              "        google.colab.notebook.generateWithVariable('df');\n",
              "      }\n",
              "      })();\n",
              "    </script>\n",
              "  </div>\n",
              "\n",
              "    </div>\n",
              "  </div>\n"
            ],
            "application/vnd.google.colaboratory.intrinsic+json": {
              "type": "dataframe",
              "variable_name": "df",
              "summary": "{\n  \"name\": \"df\",\n  \"rows\": 5,\n  \"fields\": [\n    {\n      \"column\": \"phones\",\n      \"properties\": {\n        \"dtype\": \"string\",\n        \"num_unique_values\": 3,\n        \"samples\": [\n          \"iphone\",\n          \"nokia\",\n          \"oppo\"\n        ],\n        \"semantic_type\": \"\",\n        \"description\": \"\"\n      }\n    },\n    {\n      \"column\": \"fashion\",\n      \"properties\": {\n        \"dtype\": \"string\",\n        \"num_unique_values\": 3,\n        \"samples\": [\n          \"t-shirt\",\n          \"trousers\",\n          \"hats\"\n        ],\n        \"semantic_type\": \"\",\n        \"description\": \"\"\n      }\n    },\n    {\n      \"column\": \"health_beauty\",\n      \"properties\": {\n        \"dtype\": \"string\",\n        \"num_unique_values\": 3,\n        \"samples\": [\n          \"lotion\",\n          \"foundation\",\n          \"mascara\"\n        ],\n        \"semantic_type\": \"\",\n        \"description\": \"\"\n      }\n    },\n    {\n      \"column\": \"gaming\",\n      \"properties\": {\n        \"dtype\": \"string\",\n        \"num_unique_values\": 5,\n        \"samples\": [\n          \"ps4\",\n          \"psp\",\n          \"ps5\"\n        ],\n        \"semantic_type\": \"\",\n        \"description\": \"\"\n      }\n    }\n  ]\n}"
            }
          },
          "metadata": {},
          "execution_count": 38
        }
      ]
    },
    {
      "cell_type": "code",
      "source": [
        "df.info()"
      ],
      "metadata": {
        "colab": {
          "base_uri": "https://localhost:8080/"
        },
        "id": "ER5BVaS9Pk94",
        "outputId": "2532193f-4f90-4c09-fd17-9544b31e6e1c"
      },
      "id": "ER5BVaS9Pk94",
      "execution_count": null,
      "outputs": [
        {
          "output_type": "stream",
          "name": "stdout",
          "text": [
            "<class 'pandas.core.frame.DataFrame'>\n",
            "RangeIndex: 5 entries, 0 to 4\n",
            "Data columns (total 4 columns):\n",
            " #   Column         Non-Null Count  Dtype \n",
            "---  ------         --------------  ----- \n",
            " 0   phones         3 non-null      object\n",
            " 1   fashion        3 non-null      object\n",
            " 2   health_beauty  3 non-null      object\n",
            " 3   gaming         5 non-null      object\n",
            "dtypes: object(4)\n",
            "memory usage: 292.0+ bytes\n"
          ]
        }
      ]
    },
    {
      "cell_type": "markdown",
      "id": "193ad77d",
      "metadata": {
        "id": "193ad77d"
      },
      "source": [
        "## Introduction to Nesting\n",
        "\n",
        "In this lesson, we will explore the concept of **nesting** in Python programming.  \n",
        "Nesting simply means placing one element or structure inside another. For example:\n",
        "- A **list inside another list**\n",
        "- A **dictionary inside another dictionary**\n",
        "- A **loop inside another loop**\n",
        "\n",
        "These concepts are especially useful in **data science**, where data is often stored in structured or nested formats (like tables, JSON files, or multi-dimensional arrays).\n",
        "\n",
        "#### Objectives\n",
        "\n",
        "1. **Loop over collections** using `for` loops.\n",
        "2. Understand and create **nested lists** and **nested dictionaries**.\n",
        "3. Write and interpret **nested loops** that work with these structures.\n",
        "4. Use **list comprehensions** and **dictionary comprehensions** to write cleaner, more compact code.\n",
        "\n",
        "\n",
        "Let’s start by reviewing simple `for` loops before moving into **nesting**!\n"
      ]
    },
    {
      "cell_type": "code",
      "execution_count": null,
      "id": "e3489887",
      "metadata": {
        "colab": {
          "base_uri": "https://localhost:8080/"
        },
        "id": "e3489887",
        "outputId": "cadcd9d6-5e6b-4ed1-e71c-0480ef7e3bc3"
      },
      "outputs": [
        {
          "output_type": "stream",
          "name": "stdout",
          "text": [
            "0\n",
            "1\n",
            "2\n",
            "3\n",
            "4\n",
            "5\n",
            "6\n",
            "7\n",
            "8\n",
            "9\n"
          ]
        },
        {
          "output_type": "execute_result",
          "data": {
            "text/plain": [
              "[2, 3, 4, 5, 6, 7, 8, 9, 10, 11]"
            ]
          },
          "metadata": {},
          "execution_count": 40
        }
      ],
      "source": [
        "#create a list and print out each element in the list\n",
        "numbers = []\n",
        "\n",
        "\n",
        "for i in range(10):\n",
        "  print(i)\n",
        "  numbers.append(i + 2)\n",
        "\n",
        "\n",
        "numbers\n"
      ]
    },
    {
      "cell_type": "code",
      "source": [
        "%%time\n",
        "squared = []\n",
        "\n",
        "for number in numbers:\n",
        "  squared.append(number ** 2)\n",
        "\n",
        "squared"
      ],
      "metadata": {
        "colab": {
          "base_uri": "https://localhost:8080/"
        },
        "id": "UuOFe85oUBuf",
        "outputId": "08f156ac-cacd-40da-ec07-2be24ff88618"
      },
      "id": "UuOFe85oUBuf",
      "execution_count": null,
      "outputs": [
        {
          "output_type": "stream",
          "name": "stdout",
          "text": [
            "CPU times: user 25 µs, sys: 3 µs, total: 28 µs\n",
            "Wall time: 56.7 µs\n"
          ]
        },
        {
          "output_type": "execute_result",
          "data": {
            "text/plain": [
              "[4, 9, 16, 25, 36, 49, 64, 81, 100, 121]"
            ]
          },
          "metadata": {},
          "execution_count": 41
        }
      ]
    },
    {
      "cell_type": "code",
      "source": [
        "numbers"
      ],
      "metadata": {
        "colab": {
          "base_uri": "https://localhost:8080/"
        },
        "id": "T4kEZR5eXA0I",
        "outputId": "ab3190cc-ae8f-46ff-a783-5a4a3733c0ce"
      },
      "id": "T4kEZR5eXA0I",
      "execution_count": null,
      "outputs": [
        {
          "output_type": "execute_result",
          "data": {
            "text/plain": [
              "[2, 3, 4, 5, 6, 7, 8, 9, 10, 11]"
            ]
          },
          "metadata": {},
          "execution_count": 42
        }
      ]
    },
    {
      "cell_type": "code",
      "source": [
        "\n",
        "squared_2 = None\n",
        "\n",
        "\n",
        "# [2, 3, 4, 5, 6, 7, 8, 9, 10, 11]\n",
        "\n",
        "for number in numbers:\n",
        "  squared_2 = []\n",
        "\n",
        "  print(squared_2)\n",
        "\n",
        "  squared_2.append(number ** 2)\n",
        "\n",
        "  print(squared_2)\n",
        "\n",
        "# squared_2"
      ],
      "metadata": {
        "colab": {
          "base_uri": "https://localhost:8080/"
        },
        "id": "S2SejB57Up9o",
        "outputId": "646ac691-fc06-4f9a-efc2-f5a56f6554aa"
      },
      "id": "S2SejB57Up9o",
      "execution_count": null,
      "outputs": [
        {
          "output_type": "stream",
          "name": "stdout",
          "text": [
            "[]\n",
            "[4]\n",
            "[]\n",
            "[9]\n",
            "[]\n",
            "[16]\n",
            "[]\n",
            "[25]\n",
            "[]\n",
            "[36]\n",
            "[]\n",
            "[49]\n",
            "[]\n",
            "[64]\n",
            "[]\n",
            "[81]\n",
            "[]\n",
            "[100]\n",
            "[]\n",
            "[121]\n"
          ]
        }
      ]
    },
    {
      "cell_type": "code",
      "execution_count": null,
      "id": "8d9d807f",
      "metadata": {
        "colab": {
          "base_uri": "https://localhost:8080/"
        },
        "id": "8d9d807f",
        "outputId": "61efb54b-4dfb-4932-c7f4-b72e7a17f754"
      },
      "outputs": [
        {
          "output_type": "stream",
          "name": "stdout",
          "text": [
            "This number 2, is even.\n",
            "This number 3, is odd.\n",
            "This number 4, is even.\n",
            "This number 5, is odd.\n",
            "This number 6, is even.\n",
            "This number 7, is odd.\n",
            "This number 8, is even.\n",
            "This number 9, is odd.\n",
            "This number 10, is even.\n",
            "This number 11, is odd.\n"
          ]
        }
      ],
      "source": [
        "#show example of looping with a condition\n",
        "numbers\n",
        "\n",
        "for number in numbers:\n",
        "  if number % 2 == 0:\n",
        "    print(f'This number {number}, is even.')\n",
        "\n",
        "  else:\n",
        "    print(f'This number {number}, is odd.')"
      ]
    },
    {
      "cell_type": "markdown",
      "id": "1243bb20",
      "metadata": {
        "id": "1243bb20"
      },
      "source": [
        "In other words, loops allow one line of code to execute on multiple elements in a collection. For example: uppercasing each of the names in a list."
      ]
    },
    {
      "cell_type": "code",
      "execution_count": null,
      "id": "2cdb1281",
      "metadata": {
        "id": "2cdb1281"
      },
      "outputs": [],
      "source": [
        "#create list with lowercase letters and uppercase them using a loop"
      ]
    },
    {
      "cell_type": "markdown",
      "id": "68abbd28",
      "metadata": {
        "id": "68abbd28"
      },
      "source": [
        "When looping through a collection, sometimes we need **both the item and its position (index)**.\n",
        "\n",
        "\n",
        "While we could use `range(len(collection))` to get the index, this approach is less readable. The built-in `enumerate()` function makes this easier by returning each item **together with its index** in a clean and *Pythonic* way.\n",
        "\n",
        "\n",
        "It also allows us to set a custom starting index, which can be useful when numbering items (e.g., starting roll numbers from 1 instead of 0).\n"
      ]
    },
    {
      "cell_type": "code",
      "execution_count": null,
      "id": "3522a211",
      "metadata": {
        "colab": {
          "base_uri": "https://localhost:8080/"
        },
        "id": "3522a211",
        "outputId": "588d93d8-9745-4c1e-e574-5da420b8bd77"
      },
      "outputs": [
        {
          "output_type": "execute_result",
          "data": {
            "text/plain": [
              "list"
            ]
          },
          "metadata": {},
          "execution_count": 46
        }
      ],
      "source": [
        "#example looping using enumerate in lists\n",
        "\n",
        "consoles = jumia['gaming']\n",
        "\n",
        "type(consoles)"
      ]
    },
    {
      "cell_type": "code",
      "source": [
        "consoles"
      ],
      "metadata": {
        "colab": {
          "base_uri": "https://localhost:8080/"
        },
        "id": "oZ9Wbaf0aoUO",
        "outputId": "b24aa4d1-8deb-4964-c165-779b3bc11b98"
      },
      "id": "oZ9Wbaf0aoUO",
      "execution_count": null,
      "outputs": [
        {
          "output_type": "execute_result",
          "data": {
            "text/plain": [
              "['xbox 360', 'ps4', 'ps5', 'nintendo switch', 'psp']"
            ]
          },
          "metadata": {},
          "execution_count": 47
        }
      ]
    },
    {
      "cell_type": "code",
      "source": [
        "for i in range(5):\n",
        "  print(i)"
      ],
      "metadata": {
        "colab": {
          "base_uri": "https://localhost:8080/"
        },
        "id": "zLPErb9fbUz-",
        "outputId": "60310344-4c63-4c6e-fce3-1506945d9500"
      },
      "id": "zLPErb9fbUz-",
      "execution_count": null,
      "outputs": [
        {
          "output_type": "stream",
          "name": "stdout",
          "text": [
            "0\n",
            "1\n",
            "2\n",
            "3\n",
            "4\n"
          ]
        }
      ]
    },
    {
      "cell_type": "code",
      "source": [
        "#create a range but for our list"
      ],
      "metadata": {
        "id": "EzWmURy7b0YU"
      },
      "id": "EzWmURy7b0YU",
      "execution_count": null,
      "outputs": []
    },
    {
      "cell_type": "code",
      "source": [
        "length_of_consoles = len(consoles)\n",
        "\n",
        "length_of_consoles"
      ],
      "metadata": {
        "colab": {
          "base_uri": "https://localhost:8080/"
        },
        "id": "0kUEvWsfbdLl",
        "outputId": "d053bbf1-1179-49ac-cc56-0c7031904b5d"
      },
      "id": "0kUEvWsfbdLl",
      "execution_count": null,
      "outputs": [
        {
          "output_type": "execute_result",
          "data": {
            "text/plain": [
              "5"
            ]
          },
          "metadata": {},
          "execution_count": 50
        }
      ]
    },
    {
      "cell_type": "code",
      "source": [
        "consoles[2]"
      ],
      "metadata": {
        "colab": {
          "base_uri": "https://localhost:8080/",
          "height": 37
        },
        "id": "iz5aEZ46aoRP",
        "outputId": "8d2f7137-0c45-43be-dcfe-f70d3adb20ed"
      },
      "id": "iz5aEZ46aoRP",
      "execution_count": null,
      "outputs": [
        {
          "output_type": "execute_result",
          "data": {
            "text/plain": [
              "'ps5'"
            ],
            "application/vnd.google.colaboratory.intrinsic+json": {
              "type": "string"
            }
          },
          "metadata": {},
          "execution_count": 51
        }
      ]
    },
    {
      "cell_type": "code",
      "source": [
        "for i in range(length_of_consoles):\n",
        "  print(i, consoles[i])"
      ],
      "metadata": {
        "colab": {
          "base_uri": "https://localhost:8080/"
        },
        "id": "PS-SzINWbJwA",
        "outputId": "7bcb4c84-2a5b-484f-dd1b-68ad034959a3"
      },
      "id": "PS-SzINWbJwA",
      "execution_count": null,
      "outputs": [
        {
          "output_type": "stream",
          "name": "stdout",
          "text": [
            "0 xbox 360\n",
            "1 ps4\n",
            "2 ps5\n",
            "3 nintendo switch\n",
            "4 psp\n"
          ]
        }
      ]
    },
    {
      "cell_type": "markdown",
      "id": "d07c64b7",
      "metadata": {
        "id": "d07c64b7"
      },
      "source": [
        "### Nested Lists & Dictionaries\n",
        "**Nested list** is a list that contains other lists as its elements. This allows us to represents `multi-dimensional data` eg. a table with rows and columns can be stored as a list of lists.\n",
        "\n",
        "\n",
        "We've seen how to loop over normal lists, lets see how to loop over nested ones.\n"
      ]
    },
    {
      "cell_type": "code",
      "execution_count": null,
      "id": "4405ec4c",
      "metadata": {
        "id": "4405ec4c"
      },
      "outputs": [],
      "source": [
        "#create a nested list and loop over it using nested statements\n",
        "\n",
        "random_numbers = []\n",
        "\n",
        "\n",
        "for i in range(5):\n",
        "  element = [i, i ** 2, i * 2]\n",
        "  random_numbers.append(element)"
      ]
    },
    {
      "cell_type": "code",
      "source": [
        "random_numbers"
      ],
      "metadata": {
        "colab": {
          "base_uri": "https://localhost:8080/"
        },
        "id": "mgubaq8PdZE2",
        "outputId": "3929908b-da70-4941-eb53-9cc7dbc81e0c"
      },
      "id": "mgubaq8PdZE2",
      "execution_count": null,
      "outputs": [
        {
          "output_type": "execute_result",
          "data": {
            "text/plain": [
              "[[0, 0, 0], [1, 1, 2], [2, 4, 4], [3, 9, 6], [4, 16, 8]]"
            ]
          },
          "metadata": {},
          "execution_count": 54
        }
      ]
    },
    {
      "cell_type": "code",
      "source": [
        "\n",
        "\n",
        "for random_number in random_numbers:\n",
        "\n",
        "  for element in random_number:\n",
        "    element += 1\n",
        "\n",
        "    print(element)\n",
        "\n",
        "  print(random_number)"
      ],
      "metadata": {
        "id": "V9QQ51E9dx3k",
        "colab": {
          "base_uri": "https://localhost:8080/"
        },
        "outputId": "32571361-833e-487f-854c-8658af8c6fd1"
      },
      "id": "V9QQ51E9dx3k",
      "execution_count": null,
      "outputs": [
        {
          "output_type": "stream",
          "name": "stdout",
          "text": [
            "1\n",
            "1\n",
            "1\n",
            "[0, 0, 0]\n",
            "2\n",
            "2\n",
            "3\n",
            "[1, 1, 2]\n",
            "3\n",
            "5\n",
            "5\n",
            "[2, 4, 4]\n",
            "4\n",
            "10\n",
            "7\n",
            "[3, 9, 6]\n",
            "5\n",
            "17\n",
            "9\n",
            "[4, 16, 8]\n"
          ]
        }
      ]
    },
    {
      "cell_type": "code",
      "source": [
        "random_numbers"
      ],
      "metadata": {
        "colab": {
          "base_uri": "https://localhost:8080/"
        },
        "id": "JFMo18-QgQOH",
        "outputId": "17ae9ef9-976c-41a4-cfc2-d0f933f22f32"
      },
      "id": "JFMo18-QgQOH",
      "execution_count": null,
      "outputs": [
        {
          "output_type": "execute_result",
          "data": {
            "text/plain": [
              "[[0, 0, 0], [1, 1, 2], [2, 4, 4], [3, 9, 6], [4, 16, 8]]"
            ]
          },
          "metadata": {},
          "execution_count": 56
        }
      ]
    },
    {
      "cell_type": "code",
      "source": [],
      "metadata": {
        "id": "PI8RW45kWWk8"
      },
      "id": "PI8RW45kWWk8",
      "execution_count": null,
      "outputs": []
    },
    {
      "cell_type": "code",
      "source": [
        "import pandas as pd\n",
        "\n",
        "\n",
        "file_path = ''\n",
        "\n",
        "\n",
        "df = pd.read_excel(file_path)"
      ],
      "metadata": {
        "id": "NzwTzDAFWXsg"
      },
      "id": "NzwTzDAFWXsg",
      "execution_count": null,
      "outputs": []
    },
    {
      "cell_type": "code",
      "source": [],
      "metadata": {
        "id": "VFyAS_C_WXoP"
      },
      "id": "VFyAS_C_WXoP",
      "execution_count": null,
      "outputs": []
    },
    {
      "cell_type": "code",
      "source": [
        "for random_number in random_numbers:\n",
        "  print(random_number)\n",
        "  print('-------------------------------------')"
      ],
      "metadata": {
        "colab": {
          "base_uri": "https://localhost:8080/"
        },
        "id": "9RKIV3j1fEOV",
        "outputId": "ffc57510-b0c4-4916-ccf1-de9b3bcea434"
      },
      "id": "9RKIV3j1fEOV",
      "execution_count": null,
      "outputs": [
        {
          "output_type": "stream",
          "name": "stdout",
          "text": [
            "[0, 0, 0]\n",
            "-------------------------------------\n",
            "[1, 1, 2]\n",
            "-------------------------------------\n",
            "[2, 4, 4]\n",
            "-------------------------------------\n",
            "[3, 9, 6]\n",
            "-------------------------------------\n",
            "[4, 16, 8]\n",
            "-------------------------------------\n"
          ]
        }
      ]
    },
    {
      "cell_type": "code",
      "source": [
        "for element in random_numbers[0]:\n",
        "  print(element)"
      ],
      "metadata": {
        "colab": {
          "base_uri": "https://localhost:8080/"
        },
        "id": "JwY420PZglGG",
        "outputId": "29734d76-c873-4b38-b717-6004d524c0d1"
      },
      "id": "JwY420PZglGG",
      "execution_count": null,
      "outputs": [
        {
          "output_type": "stream",
          "name": "stdout",
          "text": [
            "0\n",
            "0\n",
            "0\n"
          ]
        }
      ]
    },
    {
      "cell_type": "code",
      "source": [
        "for random_number in random_numbers:\n",
        "  print(random_number)\n",
        "\n",
        "  for number in random_number:\n",
        "    print(number)"
      ],
      "metadata": {
        "colab": {
          "base_uri": "https://localhost:8080/"
        },
        "id": "uQnAzrExg5SB",
        "outputId": "c87a37b6-1188-414d-a570-4fa8ead86f34"
      },
      "id": "uQnAzrExg5SB",
      "execution_count": null,
      "outputs": [
        {
          "output_type": "stream",
          "name": "stdout",
          "text": [
            "[0, 0, 0]\n",
            "0\n",
            "0\n",
            "0\n",
            "[1, 1, 2]\n",
            "1\n",
            "1\n",
            "2\n",
            "[2, 4, 4]\n",
            "2\n",
            "4\n",
            "4\n",
            "[3, 9, 6]\n",
            "3\n",
            "9\n",
            "6\n",
            "[4, 16, 8]\n",
            "4\n",
            "16\n",
            "8\n"
          ]
        }
      ]
    },
    {
      "cell_type": "code",
      "source": [],
      "metadata": {
        "id": "oN_avMe9byvw"
      },
      "id": "oN_avMe9byvw",
      "execution_count": null,
      "outputs": []
    },
    {
      "cell_type": "markdown",
      "id": "b4638f5f",
      "metadata": {
        "id": "b4638f5f"
      },
      "source": [
        "Now, similar to **nested lists**, **nested dicitonaries** are `dictionaries that are inside dictionaries`. The allow us to represent more complex, structured data where each key can map to another dictionary.\n",
        "\n",
        "This particularly useful when working with **real-world datasets** like the Jumia(online shopping) example we saw yesterday.\n",
        "\n",
        "Lets see how to loop over a nested dictionary."
      ]
    },
    {
      "cell_type": "code",
      "execution_count": null,
      "id": "b9e123f8",
      "metadata": {
        "id": "b9e123f8",
        "colab": {
          "base_uri": "https://localhost:8080/"
        },
        "outputId": "f154cd6a-41f6-4aae-cff6-a1c2c62baa77"
      },
      "outputs": [
        {
          "output_type": "execute_result",
          "data": {
            "text/plain": [
              "dict"
            ]
          },
          "metadata": {},
          "execution_count": 85
        }
      ],
      "source": [
        "#recreate jumia example but from the item perspective\n",
        "jumia_products = {\n",
        "    'smartphone':{'Category':'Phones & Tablets', 'Price': 11464},\n",
        "    'toiletries':{'Category': 'Health & Beauty', 'Price': 999},\n",
        "    'computers': {'Category': 'Computing','Name': 'HP', 'Price': 22500},\n",
        "    'computers_1': {'Category': 'Computing', 'Name': 'Macbook M4', 'Price': 100000}\n",
        "}\n",
        "\n",
        "#this is a nested dictionary\n",
        "type(jumia_products)"
      ]
    },
    {
      "cell_type": "code",
      "source": [
        "type(jumia_products['smartphone'])"
      ],
      "metadata": {
        "colab": {
          "base_uri": "https://localhost:8080/"
        },
        "id": "Q4BD9re7c08b",
        "outputId": "2d5df480-ba46-4291-8f1e-b066f49f48d8"
      },
      "id": "Q4BD9re7c08b",
      "execution_count": null,
      "outputs": [
        {
          "output_type": "execute_result",
          "data": {
            "text/plain": [
              "dict"
            ]
          },
          "metadata": {},
          "execution_count": 67
        }
      ]
    },
    {
      "cell_type": "markdown",
      "source": [
        "An example of a JSON file."
      ],
      "metadata": {
        "id": "IAqaWcaoGhVK"
      },
      "id": "IAqaWcaoGhVK"
    },
    {
      "cell_type": "markdown",
      "source": [
        "![image.png](data:image/png;base64,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)"
      ],
      "metadata": {
        "id": "Rn9TkEuCGdZN"
      },
      "id": "Rn9TkEuCGdZN"
    },
    {
      "cell_type": "code",
      "execution_count": null,
      "id": "20d57e76",
      "metadata": {
        "id": "20d57e76",
        "colab": {
          "base_uri": "https://localhost:8080/"
        },
        "outputId": "2eff5566-3481-4cb3-8b2e-de0832438eaf"
      },
      "outputs": [
        {
          "output_type": "execute_result",
          "data": {
            "text/plain": [
              "dict_items([('smartphone', {'Category': 'Phones & Tablets', 'Price': 11464}), ('toiletries', {'Category': 'Health & Beauty', 'Price': 999}), ('computers', {'Category': 'Computing', 'Price': 22500})])"
            ]
          },
          "metadata": {},
          "execution_count": 68
        }
      ],
      "source": [
        "jumia_products.items()"
      ]
    },
    {
      "cell_type": "code",
      "source": [
        "# first_item = jumia_products.values()[0]\n",
        "\n",
        "for key, val in jumia_products.items():\n",
        "  print(key, val)\n",
        "\n",
        "  for keey, vaal in val.items():\n",
        "    print(keey, vaal)"
      ],
      "metadata": {
        "colab": {
          "base_uri": "https://localhost:8080/"
        },
        "id": "MC-n97NCdIAF",
        "outputId": "f783f87a-9e88-4341-e9d3-576b2c5d83d6"
      },
      "id": "MC-n97NCdIAF",
      "execution_count": null,
      "outputs": [
        {
          "output_type": "stream",
          "name": "stdout",
          "text": [
            "smartphone {'Category': 'Phones & Tablets', 'Price': 11464}\n",
            "Category Phones & Tablets\n",
            "Price 11464\n",
            "toiletries {'Category': 'Health & Beauty', 'Price': 999}\n",
            "Category Health & Beauty\n",
            "Price 999\n",
            "computers {'Category': 'Computing', 'Price': 22500}\n",
            "Category Computing\n",
            "Price 22500\n"
          ]
        }
      ]
    },
    {
      "cell_type": "code",
      "source": [
        "jumia_products"
      ],
      "metadata": {
        "colab": {
          "base_uri": "https://localhost:8080/"
        },
        "id": "J2DlSqZufkvf",
        "outputId": "d20802c6-c891-480d-9948-bb5b46154c10"
      },
      "id": "J2DlSqZufkvf",
      "execution_count": null,
      "outputs": [
        {
          "output_type": "execute_result",
          "data": {
            "text/plain": [
              "{'smartphone': {'Category': 'Phones & Tablets', 'Price': 11464},\n",
              " 'toiletries': {'Category': 'Health & Beauty', 'Price': 999},\n",
              " 'computers': {'Category': 'Computing', 'Price': 22500}}"
            ]
          },
          "metadata": {},
          "execution_count": 71
        }
      ]
    },
    {
      "cell_type": "code",
      "source": [
        "for key, value in jumia_products.items():\n",
        "  # print(\"This is the {}: This is the {}\".format(key, value))\n",
        "  # counter  = 0\n",
        "  for inner_key, inner_value in value.items():\n",
        "    print(\"This is the {}: This is the {}\".format(inner_key, inner_value))\n",
        "\n"
      ],
      "metadata": {
        "colab": {
          "base_uri": "https://localhost:8080/"
        },
        "id": "IQZ7zwdSfpfW",
        "outputId": "be811c31-bf39-4dc0-d335-a9afcd493236"
      },
      "id": "IQZ7zwdSfpfW",
      "execution_count": null,
      "outputs": [
        {
          "output_type": "stream",
          "name": "stdout",
          "text": [
            "This is the Category: This is the Phones & Tablets\n",
            "This is the Price: This is the 11464\n",
            "This is the Category: This is the Health & Beauty\n",
            "This is the Price: This is the 999\n",
            "This is the Category: This is the Computing\n",
            "This is the Price: This is the 22500\n"
          ]
        }
      ]
    },
    {
      "cell_type": "code",
      "source": [
        "jumia_products['computers'].keys()"
      ],
      "metadata": {
        "colab": {
          "base_uri": "https://localhost:8080/"
        },
        "id": "40v1TBUSfpaH",
        "outputId": "25bf11d0-b62c-48b2-fa15-c82d0a1a4213"
      },
      "id": "40v1TBUSfpaH",
      "execution_count": null,
      "outputs": [
        {
          "output_type": "execute_result",
          "data": {
            "text/plain": [
              "dict_keys(['Category', 'Name', 'Price'])"
            ]
          },
          "metadata": {},
          "execution_count": 93
        }
      ]
    },
    {
      "cell_type": "markdown",
      "id": "22348a3b",
      "metadata": {
        "id": "22348a3b"
      },
      "source": [
        "##### Test yourself: Using Nested Dictionaries with Conditionals\n",
        "From the `jumia_products`, print only the products that belong to the **computing** category.  \n",
        "For each product, display its name and price.\n",
        "\n",
        "\n"
      ]
    },
    {
      "cell_type": "code",
      "source": [
        "ju"
      ],
      "metadata": {
        "id": "r2oYcnVql7KG"
      },
      "id": "r2oYcnVql7KG",
      "execution_count": null,
      "outputs": []
    },
    {
      "cell_type": "code",
      "source": [
        "jumia_products['computers']"
      ],
      "metadata": {
        "colab": {
          "base_uri": "https://localhost:8080/"
        },
        "id": "-U72MB1Bl6_E",
        "outputId": "f95160e0-c5f1-4acc-dd9a-0a61f212c446"
      },
      "id": "-U72MB1Bl6_E",
      "execution_count": null,
      "outputs": [
        {
          "output_type": "execute_result",
          "data": {
            "text/plain": [
              "{'Category': 'Computing', 'Name': 'HP', 'Price': 22500}"
            ]
          },
          "metadata": {},
          "execution_count": 94
        }
      ]
    },
    {
      "cell_type": "code",
      "source": [
        "jumia_products.keys()"
      ],
      "metadata": {
        "colab": {
          "base_uri": "https://localhost:8080/"
        },
        "id": "FquTH7tam0TZ",
        "outputId": "4f27738d-505d-42f2-dc49-ef03ec8bbe04"
      },
      "id": "FquTH7tam0TZ",
      "execution_count": null,
      "outputs": [
        {
          "output_type": "execute_result",
          "data": {
            "text/plain": [
              "dict_keys(['smartphone', 'toiletries', 'computers', 'computers_1'])"
            ]
          },
          "metadata": {},
          "execution_count": 97
        }
      ]
    },
    {
      "cell_type": "code",
      "execution_count": null,
      "id": "ba78fd52",
      "metadata": {
        "id": "ba78fd52",
        "colab": {
          "base_uri": "https://localhost:8080/"
        },
        "outputId": "b7c8bbb9-7bed-46fc-eefa-bdfbdff68adf"
      },
      "outputs": [
        {
          "output_type": "stream",
          "name": "stdout",
          "text": [
            "HP 22500\n",
            "Macbook M4 100000\n"
          ]
        }
      ],
      "source": [
        "for key, value in jumia_products.items():\n",
        "  # print('We are working on your request.....')\n",
        "\n",
        "  for inner_key, inner_value in value.items():\n",
        "    if inner_key == 'Category'  and inner_value == 'Computing':\n",
        "      print(value['Name'], value['Price'])"
      ]
    },
    {
      "cell_type": "code",
      "source": [
        "for key, value in jumia_products.items():\n",
        "  # print(\"This is the {}: This is the {}\".format(key, value))\n",
        "  # counter  = 0\n",
        "  for inner_key, inner_value in value.items():\n",
        "    print(\"This is the {}: This is the {}\".format(inner_key, inner_value))"
      ],
      "metadata": {
        "colab": {
          "base_uri": "https://localhost:8080/"
        },
        "id": "8mi-uQyHmYtt",
        "outputId": "7338b73b-844b-404f-b601-a93741576efb"
      },
      "id": "8mi-uQyHmYtt",
      "execution_count": null,
      "outputs": [
        {
          "output_type": "stream",
          "name": "stdout",
          "text": [
            "This is the Category: This is the Phones & Tablets\n",
            "This is the Price: This is the 11464\n",
            "This is the Category: This is the Health & Beauty\n",
            "This is the Price: This is the 999\n",
            "This is the Category: This is the Computing\n",
            "This is the Name: This is the HP\n",
            "This is the Price: This is the 22500\n",
            "This is the Category: This is the Computing\n",
            "This is the Name: This is the Macbook M4\n",
            "This is the Price: This is the 100000\n"
          ]
        }
      ]
    },
    {
      "cell_type": "code",
      "source": [
        "jumia_products"
      ],
      "metadata": {
        "colab": {
          "base_uri": "https://localhost:8080/"
        },
        "id": "hwm4zqJuoPfn",
        "outputId": "33262807-4e55-4180-efe9-e7deedc034b4"
      },
      "id": "hwm4zqJuoPfn",
      "execution_count": null,
      "outputs": [
        {
          "output_type": "execute_result",
          "data": {
            "text/plain": [
              "{'smartphone': {'Category': 'Phones & Tablets', 'Price': 11464},\n",
              " 'toiletries': {'Category': 'Health & Beauty', 'Price': 999},\n",
              " 'computers': {'Category': 'Computing', 'Name': 'HP', 'Price': 22500},\n",
              " 'computers_1': {'Category': 'Computing',\n",
              "  'Name': 'Macbook M4',\n",
              "  'Price': 100000}}"
            ]
          },
          "metadata": {},
          "execution_count": 101
        }
      ]
    },
    {
      "cell_type": "code",
      "source": [
        "for key, value in jumia_products.items():\n",
        "  if value['Category'] == 'Computing':\n",
        "    print(value['Name'], value['Price'])"
      ],
      "metadata": {
        "colab": {
          "base_uri": "https://localhost:8080/"
        },
        "id": "w0oUR4FKlF24",
        "outputId": "fef20262-2f77-4f93-ae82-9a34363c795a"
      },
      "id": "w0oUR4FKlF24",
      "execution_count": null,
      "outputs": [
        {
          "output_type": "stream",
          "name": "stdout",
          "text": [
            "HP 22500\n",
            "Macbook M4 100000\n"
          ]
        }
      ]
    },
    {
      "cell_type": "markdown",
      "id": "33259cfd",
      "metadata": {
        "id": "33259cfd"
      },
      "source": [
        "### Comprehensions\n",
        "A **comprehension** is a concise way to create new lists or dictionaries in Python.  \n",
        "It lets us write in **one line** what would otherwise take several lines with a `for` loop.  \n",
        "\n",
        "There are two main types we’ll focus on:\n",
        "- **List comprehensions** → create lists\n",
        "- **Dictionary comprehensions** → create dictionaries\n"
      ]
    },
    {
      "cell_type": "code",
      "source": [
        "##updated jumia products\n",
        "jumia_products = {\n",
        "    \"Smartphone\": {\"Name\": \"Smartphone\", \"Category\": \"Electronics\", \"Price\": 15000},\n",
        "    \"Blender\": {\"Name\": \"Blender\", \"Category\": \"Home Appliances\", \"Price\": 4500},\n",
        "    \"Sneakers\": {\"Name\": \"Sneakers\", \"Category\": \"Fashion\", \"Price\": 3000},\n",
        "    \"Laptop\": {\"Name\": \"Laptop\", \"Category\": \"Computing\", \"Price\": 55000},\n",
        "    \"Cooker\": {\"Name\": \"Cooker\", \"Category\": \"Home Appliances\", \"Price\": 12000},\n",
        "    \"Headphones\": {\"Name\": \"Headphones\", \"Category\": \"Electronics\", \"Price\": 3500},\n",
        "    \"Backpack\": {\"Name\": \"Backpack\", \"Category\": \"Fashion\", \"Price\": 2000},\n",
        "    \"Television\": {\"Name\": \"Television\", \"Category\": \"Electronics\", \"Price\": 40000},\n",
        "    \"Microwave\": {\"Name\": \"Microwave\", \"Category\": \"Home Appliances\", \"Price\": 10000},\n",
        "    \"Desktop\": {\"Name\": \"Desktop\", \"Category\": \"Computing\", \"Price\": 40000},\n",
        "    \"Dress\": {\"Name\": \"Dress\", \"Category\": \"Fashion\", \"Price\": 2500},\n",
        "    \"Shoes\": {\"Name\": \"Shoes\", \"Category\": \"Fashion\", \"Price\": 5000},\n",
        "    \"Camera\": {\"Name\": \"Camera\", \"Category\": \"Electronics\", \"Price\": 60000},\n",
        "    \"Fridge\": {\"Name\": \"Fridge\", \"Category\": \"Home Appliances\", \"Price\": 30000},\n",
        "    \"Tablet\": {\"Name\": \"Tablet\", \"Category\": \"Computing\", \"Price\": 20000}\n",
        "}\n"
      ],
      "metadata": {
        "id": "sXhx83tLUQ4q"
      },
      "id": "sXhx83tLUQ4q",
      "execution_count": null,
      "outputs": []
    },
    {
      "cell_type": "code",
      "source": [
        "jumia_products.items()"
      ],
      "metadata": {
        "colab": {
          "base_uri": "https://localhost:8080/"
        },
        "id": "ymXixi71cLE2",
        "outputId": "ef3660fb-15e3-40fc-c5ff-5d8032f7a174"
      },
      "id": "ymXixi71cLE2",
      "execution_count": null,
      "outputs": [
        {
          "output_type": "execute_result",
          "data": {
            "text/plain": [
              "dict_items([('Smartphone', {'Name': 'Smartphone', 'Category': 'Electronics', 'Price': 15000}), ('Blender', {'Name': 'Blender', 'Category': 'Home Appliances', 'Price': 4500}), ('Sneakers', {'Name': 'Sneakers', 'Category': 'Fashion', 'Price': 3000}), ('Laptop', {'Name': 'Laptop', 'Category': 'Computing', 'Price': 55000}), ('Cooker', {'Name': 'Cooker', 'Category': 'Home Appliances', 'Price': 12000}), ('Headphones', {'Name': 'Headphones', 'Category': 'Electronics', 'Price': 3500}), ('Backpack', {'Name': 'Backpack', 'Category': 'Fashion', 'Price': 2000}), ('Television', {'Name': 'Television', 'Category': 'Electronics', 'Price': 40000}), ('Microwave', {'Name': 'Microwave', 'Category': 'Home Appliances', 'Price': 10000}), ('Desktop', {'Name': 'Desktop', 'Category': 'Computing', 'Price': 40000}), ('Dress', {'Name': 'Dress', 'Category': 'Fashion', 'Price': 2500}), ('Shoes', {'Name': 'Shoes', 'Category': 'Fashion', 'Price': 5000}), ('Camera', {'Name': 'Camera', 'Category': 'Electronics', 'Price': 60000}), ('Fridge', {'Name': 'Fridge', 'Category': 'Home Appliances', 'Price': 30000}), ('Tablet', {'Name': 'Tablet', 'Category': 'Computing', 'Price': 20000})])"
            ]
          },
          "metadata": {},
          "execution_count": 7
        }
      ]
    },
    {
      "cell_type": "code",
      "execution_count": null,
      "id": "41dd5268",
      "metadata": {
        "id": "41dd5268",
        "colab": {
          "base_uri": "https://localhost:8080/"
        },
        "outputId": "d7803498-7ae6-4fd0-d810-712321cc4e36"
      },
      "outputs": [
        {
          "output_type": "stream",
          "name": "stdout",
          "text": [
            "Sneakers\n",
            "..................\n",
            "3000\n",
            "Backpack\n",
            "..................\n",
            "2000\n",
            "Dress\n",
            "..................\n",
            "2500\n",
            "Shoes\n",
            "..................\n",
            "5000\n"
          ]
        }
      ],
      "source": [
        "#write a loop that will check the dictonary andretuen the name and pricer of\n",
        "#items that are in fashion category\n",
        "#jumia_products['smartphone']\n",
        "for outer_key, outer_value in jumia_products.items():\n",
        "  #create fashion condition\n",
        "  if outer_value['Category']=='Fashion':\n",
        "    print(outer_value['Name'])\n",
        "    print('..................')\n",
        "    print(outer_value['Price'])\n"
      ]
    },
    {
      "cell_type": "code",
      "source": [
        "##list comprehension\n",
        "## showing items more that 3k\n",
        "three_k_items = []\n",
        "for outer_key, outer_value in jumia_products.items():\n",
        "  #create fashion condition\n",
        "  if outer_value['Price'] > 3000:\n",
        "    print(outer_value['Name'], outer_value['Price'])\n",
        "    #print('..................')\n",
        "    #print(outer_value['Price'])\n",
        "    three_k_items.append(outer_value['Name'])\n",
        "\n",
        "#to save the output we create a list three_k_items\n",
        "\n"
      ],
      "metadata": {
        "colab": {
          "base_uri": "https://localhost:8080/"
        },
        "id": "8Z8lhBoifiyH",
        "outputId": "8a5a259c-cced-4f3e-d9cc-f5dd31eb5fb0"
      },
      "id": "8Z8lhBoifiyH",
      "execution_count": null,
      "outputs": [
        {
          "output_type": "stream",
          "name": "stdout",
          "text": [
            "Smartphone 15000\n",
            "Blender 4500\n",
            "Laptop 55000\n",
            "Cooker 12000\n",
            "Headphones 3500\n",
            "Television 40000\n",
            "Microwave 10000\n",
            "Desktop 40000\n",
            "Shoes 5000\n",
            "Camera 60000\n",
            "Fridge 30000\n",
            "Tablet 20000\n"
          ]
        }
      ]
    },
    {
      "cell_type": "code",
      "source": [
        "##list comprehension\n",
        "tatu_products = [inner_value['Price'] for pricing, inner_value in jumia_products.items() if inner_value['Price'] > 3000]\n",
        "tatu_products\n",
        "\n",
        "#for readability\n",
        "tatu_products_names = [\n",
        "    inner_value['Name']\n",
        "    for pricing, inner_value in jumia_products\n",
        "\n",
        "\n",
        "\n",
        "]"
      ],
      "metadata": {
        "colab": {
          "base_uri": "https://localhost:8080/"
        },
        "id": "RVUKyRDmj0XK",
        "outputId": "7b94ca99-8ee9-4c3c-b3ad-540a8825cd5a"
      },
      "id": "RVUKyRDmj0XK",
      "execution_count": null,
      "outputs": [
        {
          "output_type": "execute_result",
          "data": {
            "text/plain": [
              "[15000,\n",
              " 4500,\n",
              " 55000,\n",
              " 12000,\n",
              " 3500,\n",
              " 40000,\n",
              " 10000,\n",
              " 40000,\n",
              " 5000,\n",
              " 60000,\n",
              " 30000,\n",
              " 20000]"
            ]
          },
          "metadata": {},
          "execution_count": 17
        }
      ]
    },
    {
      "cell_type": "code",
      "source": [
        "#list all the product name\n",
        "product_name = [\n",
        "\n",
        "]"
      ],
      "metadata": {
        "id": "C1h0MxVyj0J6"
      },
      "id": "C1h0MxVyj0J6",
      "execution_count": null,
      "outputs": []
    },
    {
      "cell_type": "code",
      "source": [
        "jumia_products.values()"
      ],
      "metadata": {
        "colab": {
          "base_uri": "https://localhost:8080/"
        },
        "id": "4AVBUMgfk8pv",
        "outputId": "e68d01fe-4635-42ed-a4fb-ec9cd3514f94"
      },
      "id": "4AVBUMgfk8pv",
      "execution_count": null,
      "outputs": [
        {
          "output_type": "execute_result",
          "data": {
            "text/plain": [
              "dict_values([{'Name': 'Smartphone', 'Category': 'Electronics', 'Price': 15000}, {'Name': 'Blender', 'Category': 'Home Appliances', 'Price': 4500}, {'Name': 'Sneakers', 'Category': 'Fashion', 'Price': 3000}, {'Name': 'Laptop', 'Category': 'Computing', 'Price': 55000}, {'Name': 'Cooker', 'Category': 'Home Appliances', 'Price': 12000}, {'Name': 'Headphones', 'Category': 'Electronics', 'Price': 3500}, {'Name': 'Backpack', 'Category': 'Fashion', 'Price': 2000}, {'Name': 'Television', 'Category': 'Electronics', 'Price': 40000}, {'Name': 'Microwave', 'Category': 'Home Appliances', 'Price': 10000}, {'Name': 'Desktop', 'Category': 'Computing', 'Price': 40000}, {'Name': 'Dress', 'Category': 'Fashion', 'Price': 2500}, {'Name': 'Shoes', 'Category': 'Fashion', 'Price': 5000}, {'Name': 'Camera', 'Category': 'Electronics', 'Price': 60000}, {'Name': 'Fridge', 'Category': 'Home Appliances', 'Price': 30000}, {'Name': 'Tablet', 'Category': 'Computing', 'Price': 20000}])"
            ]
          },
          "metadata": {},
          "execution_count": 21
        }
      ]
    },
    {
      "cell_type": "code",
      "execution_count": null,
      "id": "b2acbd44",
      "metadata": {
        "id": "b2acbd44"
      },
      "outputs": [],
      "source": [
        "##dictionary comprehension"
      ]
    },
    {
      "cell_type": "code",
      "source": [],
      "metadata": {
        "id": "2PjxkRO4r9nW"
      },
      "id": "2PjxkRO4r9nW",
      "execution_count": null,
      "outputs": []
    },
    {
      "cell_type": "code",
      "source": [],
      "metadata": {
        "id": "QlybrVqsr9kj"
      },
      "id": "QlybrVqsr9kj",
      "execution_count": null,
      "outputs": []
    },
    {
      "cell_type": "code",
      "source": [],
      "metadata": {
        "id": "CfhEAsb1r9f-"
      },
      "id": "CfhEAsb1r9f-",
      "execution_count": null,
      "outputs": []
    },
    {
      "cell_type": "code",
      "source": [
        "dict_computing_products = {value['Name'] : value['Price'] for key, value in jumia_products.items() if value['Price'] < 10000}\n",
        "\n",
        "dict_computing_products"
      ],
      "metadata": {
        "id": "Y9Pjlo3XhMaB",
        "colab": {
          "base_uri": "https://localhost:8080/"
        },
        "outputId": "b053a62e-b595-477d-b64e-73fde55845a9"
      },
      "id": "Y9Pjlo3XhMaB",
      "execution_count": null,
      "outputs": [
        {
          "output_type": "execute_result",
          "data": {
            "text/plain": [
              "{'Blender': 4500,\n",
              " 'Sneakers': 3000,\n",
              " 'Headphones': 3500,\n",
              " 'Backpack': 2000,\n",
              " 'Dress': 2500,\n",
              " 'Shoes': 5000}"
            ]
          },
          "metadata": {},
          "execution_count": 25
        }
      ]
    },
    {
      "cell_type": "code",
      "source": [
        "#dictonary of fashion products above 3000\n",
        "dict_computing_fashion = {value['Name']: value['Price'] for key, value in jumia_products.items() if value['Category'] == 'Fashion' and value['Price'] > 3000 }\n",
        "dict_computing_fashion"
      ],
      "metadata": {
        "colab": {
          "base_uri": "https://localhost:8080/"
        },
        "id": "3gi8zkLXr4H7",
        "outputId": "f668531e-6582-402a-b60a-e6ade3745d64"
      },
      "id": "3gi8zkLXr4H7",
      "execution_count": null,
      "outputs": [
        {
          "output_type": "execute_result",
          "data": {
            "text/plain": [
              "{'Shoes': 5000}"
            ]
          },
          "metadata": {},
          "execution_count": 30
        }
      ]
    }
  ],
  "metadata": {
    "kernelspec": {
      "display_name": "xBase",
      "language": "python",
      "name": "python3"
    },
    "language_info": {
      "codemirror_mode": {
        "name": "ipython",
        "version": 3
      },
      "file_extension": ".py",
      "mimetype": "text/x-python",
      "name": "python",
      "nbconvert_exporter": "python",
      "pygments_lexer": "ipython3",
      "version": "3.12.3"
    },
    "colab": {
      "provenance": [],
      "include_colab_link": true
    }
  },
  "nbformat": 4,
  "nbformat_minor": 5
}