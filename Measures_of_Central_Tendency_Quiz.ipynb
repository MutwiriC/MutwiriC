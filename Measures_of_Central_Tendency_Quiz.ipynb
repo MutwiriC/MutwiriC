{
  "nbformat": 4,
  "nbformat_minor": 0,
  "metadata": {
    "colab": {
      "provenance": [],
      "authorship_tag": "ABX9TyOfuBLM7I8D/RN1eGMJDy8+",
      "include_colab_link": true
    },
    "kernelspec": {
      "name": "python3",
      "display_name": "Python 3"
    },
    "language_info": {
      "name": "python"
    }
  },
  "cells": [
    {
      "cell_type": "markdown",
      "metadata": {
        "id": "view-in-github",
        "colab_type": "text"
      },
      "source": [
        "<a href=\"https://colab.research.google.com/github/MutwiriC/MutwiriC/blob/main/Measures_of_Central_Tendency_Quiz.ipynb\" target=\"_parent\"><img src=\"https://colab.research.google.com/assets/colab-badge.svg\" alt=\"Open In Colab\"/></a>"
      ]
    },
    {
      "cell_type": "code",
      "source": [
        "import statistics"
      ],
      "metadata": {
        "id": "dvlTL3WB2t9s"
      },
      "execution_count": 4,
      "outputs": []
    },
    {
      "cell_type": "code",
      "execution_count": 6,
      "metadata": {
        "colab": {
          "base_uri": "https://localhost:8080/"
        },
        "id": "w8ylsZEU2g7j",
        "outputId": "8ac44c39-309c-4a77-cad6-8e25edf5a148"
      },
      "outputs": [
        {
          "output_type": "execute_result",
          "data": {
            "text/plain": [
              "18"
            ]
          },
          "metadata": {},
          "execution_count": 6
        }
      ],
      "source": [
        "#mean\n",
        "x = 19, 18, 21, 16, 15, 17, 20, 18\n",
        "statistics.mean(x)"
      ]
    },
    {
      "cell_type": "code",
      "source": [
        "#median\n",
        "y = 22, 56, 11, 4, -17, 6, 80\n",
        "statistics.median(y)"
      ],
      "metadata": {
        "colab": {
          "base_uri": "https://localhost:8080/"
        },
        "id": "W-mHfCun26bt",
        "outputId": "4f749377-f059-479c-db4a-cd48e688d5f7"
      },
      "execution_count": 7,
      "outputs": [
        {
          "output_type": "execute_result",
          "data": {
            "text/plain": [
              "11"
            ]
          },
          "metadata": {},
          "execution_count": 7
        }
      ]
    },
    {
      "cell_type": "code",
      "source": [
        "#median\n",
        "z = 22, 56, 11, 4, -17, 6, 80, -126\n",
        "statistics.median(z)"
      ],
      "metadata": {
        "colab": {
          "base_uri": "https://localhost:8080/"
        },
        "outputId": "b0abd9dc-9be5-4875-86a0-02e47ea99fab",
        "id": "HOtpQrCH3KeV"
      },
      "execution_count": 8,
      "outputs": [
        {
          "output_type": "execute_result",
          "data": {
            "text/plain": [
              "8.5"
            ]
          },
          "metadata": {},
          "execution_count": 8
        }
      ]
    },
    {
      "cell_type": "code",
      "source": [
        "#mode\n",
        "a = 19, 18, 21, 16, 15, 17, 20, 18\n",
        "statistics.mode(a)"
      ],
      "metadata": {
        "colab": {
          "base_uri": "https://localhost:8080/"
        },
        "id": "NyCCdE8R3R5f",
        "outputId": "ba83f34f-b19e-4d24-c996-5b387ad78215"
      },
      "execution_count": 9,
      "outputs": [
        {
          "output_type": "execute_result",
          "data": {
            "text/plain": [
              "18"
            ]
          },
          "metadata": {},
          "execution_count": 9
        }
      ]
    }
  ]
}