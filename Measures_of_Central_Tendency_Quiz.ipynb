{
  "nbformat": 4,
  "nbformat_minor": 0,
  "metadata": {
    "colab": {
      "provenance": [],
      "authorship_tag": "ABX9TyMUYEmnVHEpi4r5szHSSuse",
      "include_colab_link": true
    },
    "kernelspec": {
      "name": "python3",
      "display_name": "Python 3"
    },
    "language_info": {
      "name": "python"
    }
  },
  "cells": [
    {
      "cell_type": "markdown",
      "metadata": {
        "id": "view-in-github",
        "colab_type": "text"
      },
      "source": [
        "<a href=\"https://colab.research.google.com/github/MutwiriC/MutwiriC/blob/main/Measures_of_Central_Tendency_Quiz.ipynb\" target=\"_parent\"><img src=\"https://colab.research.google.com/assets/colab-badge.svg\" alt=\"Open In Colab\"/></a>"
      ]
    },
    {
      "cell_type": "code",
      "source": [
        "import statistics"
      ],
      "metadata": {
        "id": "dvlTL3WB2t9s"
      },
      "execution_count": 2,
      "outputs": []
    },
    {
      "cell_type": "code",
      "execution_count": 3,
      "metadata": {
        "colab": {
          "base_uri": "https://localhost:8080/"
        },
        "id": "w8ylsZEU2g7j",
        "outputId": "e297429c-d793-43ab-b18d-099f49fd9ae0"
      },
      "outputs": [
        {
          "output_type": "execute_result",
          "data": {
            "text/plain": [
              "18"
            ]
          },
          "metadata": {},
          "execution_count": 3
        }
      ],
      "source": [
        "#mean\n",
        "x = 19, 18, 21, 16, 15, 17, 20, 18\n",
        "statistics.mean(x)"
      ]
    },
    {
      "cell_type": "code",
      "source": [
        "#median\n",
        "y = 22, 56, 11, 4, -17, 6, 80\n",
        "statistics.median(y)"
      ],
      "metadata": {
        "colab": {
          "base_uri": "https://localhost:8080/"
        },
        "id": "W-mHfCun26bt",
        "outputId": "91c2ebb0-1890-435f-b134-c6e2756461f5"
      },
      "execution_count": 4,
      "outputs": [
        {
          "output_type": "execute_result",
          "data": {
            "text/plain": [
              "11"
            ]
          },
          "metadata": {},
          "execution_count": 4
        }
      ]
    },
    {
      "cell_type": "code",
      "source": [
        "#median\n",
        "z = 22, 56, 11, 4, -17, 6, 80, -126\n",
        "statistics.median(z)"
      ],
      "metadata": {
        "colab": {
          "base_uri": "https://localhost:8080/"
        },
        "outputId": "9e428794-0d82-40e9-9b08-af38ebfc1b30",
        "id": "HOtpQrCH3KeV"
      },
      "execution_count": 5,
      "outputs": [
        {
          "output_type": "execute_result",
          "data": {
            "text/plain": [
              "8.5"
            ]
          },
          "metadata": {},
          "execution_count": 5
        }
      ]
    },
    {
      "cell_type": "code",
      "source": [
        "#mode\n",
        "a = 19, 18, 21, 16, 15, 17, 20, 18\n",
        "statistics.mode(a)"
      ],
      "metadata": {
        "colab": {
          "base_uri": "https://localhost:8080/"
        },
        "id": "NyCCdE8R3R5f",
        "outputId": "9b8a4dc9-3021-4b87-a9f2-3a191369a11d"
      },
      "execution_count": 6,
      "outputs": [
        {
          "output_type": "execute_result",
          "data": {
            "text/plain": [
              "18"
            ]
          },
          "metadata": {},
          "execution_count": 6
        }
      ]
    },
    {
      "cell_type": "code",
      "source": [
        "# InterQuartile Range (IQR)\n",
        "x =  4, 4,4, 9, 5, 0, 5, 1, 5, 3, 5, 7, 5, 8, 6, 2, 6, 6, 6, 6, 6, 8, 7, 1, 7, 5, 7, 7, 8, 0, 8, 5\n",
        "y = statistics.quantiles(x)\n",
        "itqr = y[2] - y[0]\n",
        "itqr"
      ],
      "metadata": {
        "id": "n0KufvHeCzQa",
        "outputId": "63a993a7-9a70-4990-ebd1-c7e6f12843ad",
        "colab": {
          "base_uri": "https://localhost:8080/"
        }
      },
      "execution_count": 7,
      "outputs": [
        {
          "output_type": "execute_result",
          "data": {
            "text/plain": [
              "3.0"
            ]
          },
          "metadata": {},
          "execution_count": 7
        }
      ]
    }
  ]
}