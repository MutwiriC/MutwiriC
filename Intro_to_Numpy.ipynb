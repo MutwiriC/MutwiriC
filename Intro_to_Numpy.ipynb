{
  "nbformat": 4,
  "nbformat_minor": 0,
  "metadata": {
    "colab": {
      "provenance": [],
      "include_colab_link": true
    },
    "kernelspec": {
      "name": "python3",
      "display_name": "Python 3"
    },
    "language_info": {
      "name": "python"
    }
  },
  "cells": [
    {
      "cell_type": "markdown",
      "metadata": {
        "id": "view-in-github",
        "colab_type": "text"
      },
      "source": [
        "<a href=\"https://colab.research.google.com/github/MutwiriC/MutwiriC/blob/main/Intro_to_Numpy.ipynb\" target=\"_parent\"><img src=\"https://colab.research.google.com/assets/colab-badge.svg\" alt=\"Open In Colab\"/></a>"
      ]
    },
    {
      "cell_type": "markdown",
      "source": [
        "## Libraries\n",
        "What are libraries?\n",
        "\n",
        "`Libraries` are ...\n",
        "\n",
        "We use the keyword **import** to get access to these collections."
      ],
      "metadata": {
        "id": "1hHYiqYl_Npe"
      }
    },
    {
      "cell_type": "code",
      "execution_count": null,
      "metadata": {
        "colab": {
          "base_uri": "https://localhost:8080/"
        },
        "id": "Y3E0DVFx_IjK",
        "outputId": "473a1b73-1a5d-4c5f-bc24-e81731fc06bf"
      },
      "outputs": [
        {
          "output_type": "execute_result",
          "data": {
            "text/plain": [
              "3.141592653589793"
            ]
          },
          "metadata": {},
          "execution_count": 7
        }
      ],
      "source": [
        "#Example importation\n",
        "import pandas as pd\n",
        "\n",
        "\n",
        "import math\n",
        "\n",
        "math.pi"
      ]
    },
    {
      "cell_type": "code",
      "source": [
        "math.sqrt(25)"
      ],
      "metadata": {
        "colab": {
          "base_uri": "https://localhost:8080/"
        },
        "id": "IDZ8LjyccsHf",
        "outputId": "34bf0de0-3a11-4ebe-f678-e744026f6667"
      },
      "execution_count": null,
      "outputs": [
        {
          "output_type": "execute_result",
          "data": {
            "text/plain": [
              "5.0"
            ]
          },
          "metadata": {},
          "execution_count": 8
        }
      ]
    },
    {
      "cell_type": "markdown",
      "source": [
        "List of python libraries we will be using as data scientists.\n",
        "* Numpy\n",
        "*\n",
        "*\n",
        "*\n",
        "\n",
        "\n",
        "### Introduction to Numpy\n",
        "This is one of the most important libraries in data science. (**Numerical Python**)\n",
        "\n",
        "Different libraries come with different data types for example Numpy with `Arrays`."
      ],
      "metadata": {
        "id": "LYsOtdttAMo1"
      }
    },
    {
      "cell_type": "code",
      "source": [
        "#example array"
      ],
      "metadata": {
        "id": "z9iy_X1bAPxW"
      },
      "execution_count": null,
      "outputs": []
    },
    {
      "cell_type": "markdown",
      "source": [
        "## Arrays.\n",
        "* What is an array?\n",
        "* Advantages of arrays\n",
        "* Operations we can perform on arrays\n"
      ],
      "metadata": {
        "id": "r1Re8RdmCbFT"
      }
    }
  ]
}